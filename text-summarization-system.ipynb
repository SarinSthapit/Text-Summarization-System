{
 "cells": [
  {
   "cell_type": "markdown",
   "id": "8dadf8c1",
   "metadata": {
    "id": "E0Lbvi7YW7L6",
    "papermill": {
     "duration": 0.01375,
     "end_time": "2023-12-09T06:57:39.470131",
     "exception": false,
     "start_time": "2023-12-09T06:57:39.456381",
     "status": "completed"
    },
    "tags": []
   },
   "source": [
    "# **Text Summarization System**\n",
    "\n",
    "**Neural Network and Deep Learning (COMP 488)**\n",
    "\n",
    "**Mini Project**"
   ]
  },
  {
   "cell_type": "code",
   "execution_count": 1,
   "id": "23ca003e",
   "metadata": {
    "execution": {
     "iopub.execute_input": "2023-12-09T06:57:39.497606Z",
     "iopub.status.busy": "2023-12-09T06:57:39.497253Z",
     "iopub.status.idle": "2023-12-09T06:57:51.934323Z",
     "shell.execute_reply": "2023-12-09T06:57:51.933148Z"
    },
    "papermill": {
     "duration": 12.453364,
     "end_time": "2023-12-09T06:57:51.936707",
     "exception": false,
     "start_time": "2023-12-09T06:57:39.483343",
     "status": "completed"
    },
    "tags": []
   },
   "outputs": [],
   "source": [
    "!pip install openpyxl  --quiet"
   ]
  },
  {
   "cell_type": "code",
   "execution_count": 2,
   "id": "0e4d1da7",
   "metadata": {
    "execution": {
     "iopub.execute_input": "2023-12-09T06:57:51.964602Z",
     "iopub.status.busy": "2023-12-09T06:57:51.964314Z",
     "iopub.status.idle": "2023-12-09T06:58:04.697149Z",
     "shell.execute_reply": "2023-12-09T06:58:04.696331Z"
    },
    "papermill": {
     "duration": 12.749523,
     "end_time": "2023-12-09T06:58:04.699562",
     "exception": false,
     "start_time": "2023-12-09T06:57:51.950039",
     "status": "completed"
    },
    "tags": []
   },
   "outputs": [
    {
     "name": "stderr",
     "output_type": "stream",
     "text": [
      "/opt/conda/lib/python3.10/site-packages/scipy/__init__.py:146: UserWarning: A NumPy version >=1.16.5 and <1.23.0 is required for this version of SciPy (detected version 1.24.3\n",
      "  warnings.warn(f\"A NumPy version >={np_minversion} and <{np_maxversion}\"\n"
     ]
    }
   ],
   "source": [
    "import numpy as np\n",
    "import matplotlib.pyplot as plt\n",
    "import seaborn as sns\n",
    "import pandas as pd\n",
    "from collections import defaultdict\n",
    "import string\n",
    "import tensorflow as tf\n",
    "import re\n",
    "import os\n",
    "import time\n",
    "from tensorflow import keras"
   ]
  },
  {
   "cell_type": "code",
   "execution_count": 3,
   "id": "58cd94ce",
   "metadata": {
    "execution": {
     "iopub.execute_input": "2023-12-09T06:58:04.728882Z",
     "iopub.status.busy": "2023-12-09T06:58:04.728312Z",
     "iopub.status.idle": "2023-12-09T06:58:05.023454Z",
     "shell.execute_reply": "2023-12-09T06:58:05.022265Z"
    },
    "papermill": {
     "duration": 0.31256,
     "end_time": "2023-12-09T06:58:05.025694",
     "exception": false,
     "start_time": "2023-12-09T06:58:04.713134",
     "status": "completed"
    },
    "tags": []
   },
   "outputs": [],
   "source": [
    "from tensorflow.keras.layers import Dense, Input\n",
    "from tensorflow.keras.optimizers import Adam\n",
    "from tensorflow.keras.models import Model\n",
    "from tensorflow.keras.callbacks import ModelCheckpoint\n",
    "from sklearn.preprocessing import OneHotEncoder\n",
    "from sklearn.model_selection import train_test_split"
   ]
  },
  {
   "cell_type": "code",
   "execution_count": 4,
   "id": "6aa413e8",
   "metadata": {
    "execution": {
     "iopub.execute_input": "2023-12-09T06:58:05.054059Z",
     "iopub.status.busy": "2023-12-09T06:58:05.053702Z",
     "iopub.status.idle": "2023-12-09T06:58:05.057904Z",
     "shell.execute_reply": "2023-12-09T06:58:05.057112Z"
    },
    "papermill": {
     "duration": 0.02025,
     "end_time": "2023-12-09T06:58:05.059846",
     "exception": false,
     "start_time": "2023-12-09T06:58:05.039596",
     "status": "completed"
    },
    "tags": []
   },
   "outputs": [],
   "source": [
    "ENCODER_LEN = 100\n",
    "DECODER_LEN = 20\n",
    "BATCH_SIZE = 64\n",
    "BUFFER_SIZE = BATCH_SIZE * 8"
   ]
  },
  {
   "cell_type": "code",
   "execution_count": 5,
   "id": "9b3b9503",
   "metadata": {
    "execution": {
     "iopub.execute_input": "2023-12-09T06:58:05.087081Z",
     "iopub.status.busy": "2023-12-09T06:58:05.086823Z",
     "iopub.status.idle": "2023-12-09T06:58:11.462827Z",
     "shell.execute_reply": "2023-12-09T06:58:11.461942Z"
    },
    "papermill": {
     "duration": 6.391886,
     "end_time": "2023-12-09T06:58:11.464880",
     "exception": false,
     "start_time": "2023-12-09T06:58:05.072994",
     "status": "completed"
    },
    "tags": []
   },
   "outputs": [
    {
     "data": {
      "text/html": [
       "<div>\n",
       "<style scoped>\n",
       "    .dataframe tbody tr th:only-of-type {\n",
       "        vertical-align: middle;\n",
       "    }\n",
       "\n",
       "    .dataframe tbody tr th {\n",
       "        vertical-align: top;\n",
       "    }\n",
       "\n",
       "    .dataframe thead th {\n",
       "        text-align: right;\n",
       "    }\n",
       "</style>\n",
       "<table border=\"1\" class=\"dataframe\">\n",
       "  <thead>\n",
       "    <tr style=\"text-align: right;\">\n",
       "      <th></th>\n",
       "      <th>Headline</th>\n",
       "      <th>Short</th>\n",
       "    </tr>\n",
       "  </thead>\n",
       "  <tbody>\n",
       "    <tr>\n",
       "      <th>0</th>\n",
       "      <td>4 ex-bank officials booked for cheating bank o...</td>\n",
       "      <td>The CBI on Saturday booked four former officia...</td>\n",
       "    </tr>\n",
       "    <tr>\n",
       "      <th>1</th>\n",
       "      <td>Supreme Court to go paperless in 6 months: CJI</td>\n",
       "      <td>Chief Justice JS Khehar has said the Supreme C...</td>\n",
       "    </tr>\n",
       "    <tr>\n",
       "      <th>2</th>\n",
       "      <td>At least 3 killed, 30 injured in blast in Sylh...</td>\n",
       "      <td>At least three people were killed, including a...</td>\n",
       "    </tr>\n",
       "    <tr>\n",
       "      <th>3</th>\n",
       "      <td>Why has Reliance been barred from trading in f...</td>\n",
       "      <td>Mukesh Ambani-led Reliance Industries (RIL) wa...</td>\n",
       "    </tr>\n",
       "    <tr>\n",
       "      <th>4</th>\n",
       "      <td>Was stopped from entering my own studio at Tim...</td>\n",
       "      <td>TV news anchor Arnab Goswami has said he was t...</td>\n",
       "    </tr>\n",
       "  </tbody>\n",
       "</table>\n",
       "</div>"
      ],
      "text/plain": [
       "                                            Headline  \\\n",
       "0  4 ex-bank officials booked for cheating bank o...   \n",
       "1     Supreme Court to go paperless in 6 months: CJI   \n",
       "2  At least 3 killed, 30 injured in blast in Sylh...   \n",
       "3  Why has Reliance been barred from trading in f...   \n",
       "4  Was stopped from entering my own studio at Tim...   \n",
       "\n",
       "                                               Short  \n",
       "0  The CBI on Saturday booked four former officia...  \n",
       "1  Chief Justice JS Khehar has said the Supreme C...  \n",
       "2  At least three people were killed, including a...  \n",
       "3  Mukesh Ambani-led Reliance Industries (RIL) wa...  \n",
       "4  TV news anchor Arnab Goswami has said he was t...  "
      ]
     },
     "execution_count": 5,
     "metadata": {},
     "output_type": "execute_result"
    }
   ],
   "source": [
    "news = pd.read_excel(\"/kaggle/input/cnn-dailymail/data.xlsx\",engine = 'openpyxl')\n",
    "news.head()"
   ]
  },
  {
   "cell_type": "code",
   "execution_count": 6,
   "id": "65f65d4d",
   "metadata": {
    "execution": {
     "iopub.execute_input": "2023-12-09T06:58:11.494109Z",
     "iopub.status.busy": "2023-12-09T06:58:11.493608Z",
     "iopub.status.idle": "2023-12-09T06:58:11.563573Z",
     "shell.execute_reply": "2023-12-09T06:58:11.562665Z"
    },
    "papermill": {
     "duration": 0.086691,
     "end_time": "2023-12-09T06:58:11.565484",
     "exception": false,
     "start_time": "2023-12-09T06:58:11.478793",
     "status": "completed"
    },
    "tags": []
   },
   "outputs": [],
   "source": [
    "article = news['Short']\n",
    "summary = news['Headline']\n",
    "article = article.apply(lambda x: '<SOS> ' + x + ' <EOS>')\n",
    "summary = summary.apply(lambda x: '<SOS> ' + x + ' <EOS>')"
   ]
  },
  {
   "cell_type": "code",
   "execution_count": 7,
   "id": "20c0def3",
   "metadata": {
    "execution": {
     "iopub.execute_input": "2023-12-09T06:58:11.593997Z",
     "iopub.status.busy": "2023-12-09T06:58:11.593238Z",
     "iopub.status.idle": "2023-12-09T06:58:11.865198Z",
     "shell.execute_reply": "2023-12-09T06:58:11.864249Z"
    },
    "papermill": {
     "duration": 0.28835,
     "end_time": "2023-12-09T06:58:11.867477",
     "exception": false,
     "start_time": "2023-12-09T06:58:11.579127",
     "status": "completed"
    },
    "tags": []
   },
   "outputs": [],
   "source": [
    "def preprocess(text):\n",
    "    text = re.sub(r\"&.[1-9]+;\",\" \",text)\n",
    "    return text\n",
    "\n",
    "article = article.apply(lambda x: preprocess(x))\n",
    "summary = summary.apply(lambda x: preprocess(x))"
   ]
  },
  {
   "cell_type": "code",
   "execution_count": 8,
   "id": "274071f6",
   "metadata": {
    "execution": {
     "iopub.execute_input": "2023-12-09T06:58:11.896019Z",
     "iopub.status.busy": "2023-12-09T06:58:11.895339Z",
     "iopub.status.idle": "2023-12-09T06:58:20.420383Z",
     "shell.execute_reply": "2023-12-09T06:58:20.419572Z"
    },
    "papermill": {
     "duration": 8.541503,
     "end_time": "2023-12-09T06:58:20.422630",
     "exception": false,
     "start_time": "2023-12-09T06:58:11.881127",
     "status": "completed"
    },
    "tags": []
   },
   "outputs": [],
   "source": [
    "filters = '!\"#$%&()*+,-./:;=?@[\\\\]^_`{|}~\\t\\n'\n",
    "oov_token = '<unk>'\n",
    "article_tokenizer = tf.keras.preprocessing.text.Tokenizer(oov_token=oov_token)\n",
    "summary_tokenizer = tf.keras.preprocessing.text.Tokenizer(filters=filters, oov_token=oov_token)\n",
    "article_tokenizer.fit_on_texts(article)\n",
    "summary_tokenizer.fit_on_texts(summary)\n",
    "inputs = article_tokenizer.texts_to_sequences(article)\n",
    "targets = summary_tokenizer.texts_to_sequences(summary)"
   ]
  },
  {
   "cell_type": "code",
   "execution_count": 9,
   "id": "32de2a1b",
   "metadata": {
    "execution": {
     "iopub.execute_input": "2023-12-09T06:58:20.451204Z",
     "iopub.status.busy": "2023-12-09T06:58:20.450892Z",
     "iopub.status.idle": "2023-12-09T06:58:20.455861Z",
     "shell.execute_reply": "2023-12-09T06:58:20.455005Z"
    },
    "papermill": {
     "duration": 0.021561,
     "end_time": "2023-12-09T06:58:20.457855",
     "exception": false,
     "start_time": "2023-12-09T06:58:20.436294",
     "status": "completed"
    },
    "tags": []
   },
   "outputs": [
    {
     "name": "stdout",
     "output_type": "stream",
     "text": [
      "76362 29661\n"
     ]
    }
   ],
   "source": [
    "ENCODER_VOCAB = len(article_tokenizer.word_index) + 1\n",
    "DECODER_VOCAB = len(summary_tokenizer.word_index) + 1\n",
    "print(ENCODER_VOCAB, DECODER_VOCAB)"
   ]
  },
  {
   "cell_type": "code",
   "execution_count": 10,
   "id": "0a6bed12",
   "metadata": {
    "execution": {
     "iopub.execute_input": "2023-12-09T06:58:20.525866Z",
     "iopub.status.busy": "2023-12-09T06:58:20.525534Z",
     "iopub.status.idle": "2023-12-09T06:58:24.132515Z",
     "shell.execute_reply": "2023-12-09T06:58:24.131724Z"
    },
    "papermill": {
     "duration": 3.623876,
     "end_time": "2023-12-09T06:58:24.134788",
     "exception": false,
     "start_time": "2023-12-09T06:58:20.510912",
     "status": "completed"
    },
    "tags": []
   },
   "outputs": [],
   "source": [
    "inputs = tf.keras.preprocessing.sequence.pad_sequences(inputs, maxlen=ENCODER_LEN, padding='post', truncating='post')\n",
    "targets = tf.keras.preprocessing.sequence.pad_sequences(targets, maxlen=DECODER_LEN, padding='post', truncating='post')\n",
    "inputs = tf.cast(inputs, dtype=tf.int64)\n",
    "targets = tf.cast(targets, dtype=tf.int64)"
   ]
  },
  {
   "cell_type": "code",
   "execution_count": 11,
   "id": "003cf050",
   "metadata": {
    "execution": {
     "iopub.execute_input": "2023-12-09T06:58:24.163268Z",
     "iopub.status.busy": "2023-12-09T06:58:24.162983Z",
     "iopub.status.idle": "2023-12-09T06:58:24.222375Z",
     "shell.execute_reply": "2023-12-09T06:58:24.221685Z"
    },
    "papermill": {
     "duration": 0.075753,
     "end_time": "2023-12-09T06:58:24.224273",
     "exception": false,
     "start_time": "2023-12-09T06:58:24.148520",
     "status": "completed"
    },
    "tags": []
   },
   "outputs": [],
   "source": [
    "dataset = tf.data.Dataset.from_tensor_slices((inputs, targets)).shuffle(BUFFER_SIZE).batch(BATCH_SIZE)"
   ]
  },
  {
   "cell_type": "code",
   "execution_count": 12,
   "id": "74f43e9b",
   "metadata": {
    "execution": {
     "iopub.execute_input": "2023-12-09T06:58:24.252930Z",
     "iopub.status.busy": "2023-12-09T06:58:24.252399Z",
     "iopub.status.idle": "2023-12-09T06:58:24.257129Z",
     "shell.execute_reply": "2023-12-09T06:58:24.256249Z"
    },
    "papermill": {
     "duration": 0.021057,
     "end_time": "2023-12-09T06:58:24.258942",
     "exception": false,
     "start_time": "2023-12-09T06:58:24.237885",
     "status": "completed"
    },
    "tags": []
   },
   "outputs": [],
   "source": [
    "def calculate_angles(position, i, d_model):\n",
    "    angle_rates = 1 / np.power(10000, (2 * (i // 2)) / np.float32(d_model))\n",
    "    return position * angle_rates"
   ]
  },
  {
   "cell_type": "code",
   "execution_count": 13,
   "id": "012eb6d3",
   "metadata": {
    "execution": {
     "iopub.execute_input": "2023-12-09T06:58:24.287595Z",
     "iopub.status.busy": "2023-12-09T06:58:24.287337Z",
     "iopub.status.idle": "2023-12-09T06:58:24.293023Z",
     "shell.execute_reply": "2023-12-09T06:58:24.292256Z"
    },
    "papermill": {
     "duration": 0.022327,
     "end_time": "2023-12-09T06:58:24.294849",
     "exception": false,
     "start_time": "2023-12-09T06:58:24.272522",
     "status": "completed"
    },
    "tags": []
   },
   "outputs": [],
   "source": [
    "def generate_positional_encoding(position, d_model):\n",
    "    angle_rads = calculate_angles(\n",
    "        np.arange(position)[:, np.newaxis],\n",
    "        np.arange(d_model)[np.newaxis, :],\n",
    "        d_model\n",
    "    )\n",
    "\n",
    "    angle_rads[:, 0::2] = np.sin(angle_rads[:, 0::2])\n",
    "\n",
    "    angle_rads[:, 1::2] = np.cos(angle_rads[:, 1::2])\n",
    "\n",
    "    pos_encoding = angle_rads[np.newaxis, ...]\n",
    "\n",
    "    return tf.cast(pos_encoding, dtype=tf.float32)"
   ]
  },
  {
   "cell_type": "code",
   "execution_count": 14,
   "id": "5355326d",
   "metadata": {
    "execution": {
     "iopub.execute_input": "2023-12-09T06:58:24.323274Z",
     "iopub.status.busy": "2023-12-09T06:58:24.322941Z",
     "iopub.status.idle": "2023-12-09T06:58:24.327587Z",
     "shell.execute_reply": "2023-12-09T06:58:24.326721Z"
    },
    "papermill": {
     "duration": 0.020979,
     "end_time": "2023-12-09T06:58:24.329357",
     "exception": false,
     "start_time": "2023-12-09T06:58:24.308378",
     "status": "completed"
    },
    "tags": []
   },
   "outputs": [],
   "source": [
    "def generate_padding_mask(seq):\n",
    "    seq = tf.cast(tf.math.equal(seq, 0), tf.float32)\n",
    "    return seq[:, tf.newaxis, tf.newaxis, :]"
   ]
  },
  {
   "cell_type": "code",
   "execution_count": 15,
   "id": "b00f60c6",
   "metadata": {
    "execution": {
     "iopub.execute_input": "2023-12-09T06:58:24.357202Z",
     "iopub.status.busy": "2023-12-09T06:58:24.356714Z",
     "iopub.status.idle": "2023-12-09T06:58:24.361205Z",
     "shell.execute_reply": "2023-12-09T06:58:24.360255Z"
    },
    "papermill": {
     "duration": 0.021434,
     "end_time": "2023-12-09T06:58:24.364012",
     "exception": false,
     "start_time": "2023-12-09T06:58:24.342578",
     "status": "completed"
    },
    "tags": []
   },
   "outputs": [],
   "source": [
    "def generate_look_ahead_mask(size):\n",
    "    mask = 1 - tf.linalg.band_part(tf.ones((size, size)), -1, 0)\n",
    "    return mask"
   ]
  },
  {
   "cell_type": "code",
   "execution_count": 16,
   "id": "3a4ff39b",
   "metadata": {
    "execution": {
     "iopub.execute_input": "2023-12-09T06:58:24.391764Z",
     "iopub.status.busy": "2023-12-09T06:58:24.391495Z",
     "iopub.status.idle": "2023-12-09T06:58:24.397011Z",
     "shell.execute_reply": "2023-12-09T06:58:24.396270Z"
    },
    "papermill": {
     "duration": 0.021513,
     "end_time": "2023-12-09T06:58:24.398875",
     "exception": false,
     "start_time": "2023-12-09T06:58:24.377362",
     "status": "completed"
    },
    "tags": []
   },
   "outputs": [],
   "source": [
    "def compute_scaled_dot_product(q, k, v, mask):\n",
    "    matmul_qk = tf.matmul(q, k, transpose_b=True)\n",
    "\n",
    "    dk = tf.cast(tf.shape(k)[-1], tf.float32)\n",
    "    scaled_attention_logits = matmul_qk / tf.math.sqrt(dk)\n",
    "\n",
    "    if mask is not None:\n",
    "        scaled_attention_logits += (mask * -1e9)  \n",
    "\n",
    "    attention_weights = tf.nn.softmax(scaled_attention_logits, axis=-1)\n",
    "\n",
    "    output = tf.matmul(attention_weights, v)\n",
    "    return output, attention_weights"
   ]
  },
  {
   "cell_type": "code",
   "execution_count": 17,
   "id": "033c3dc3",
   "metadata": {
    "execution": {
     "iopub.execute_input": "2023-12-09T06:58:24.426596Z",
     "iopub.status.busy": "2023-12-09T06:58:24.426345Z",
     "iopub.status.idle": "2023-12-09T06:58:24.436343Z",
     "shell.execute_reply": "2023-12-09T06:58:24.435654Z"
    },
    "papermill": {
     "duration": 0.025906,
     "end_time": "2023-12-09T06:58:24.438148",
     "exception": false,
     "start_time": "2023-12-09T06:58:24.412242",
     "status": "completed"
    },
    "tags": []
   },
   "outputs": [],
   "source": [
    "class MultiHeadAttention(tf.keras.layers.Layer):\n",
    "    def __init__(self, d_model, num_heads):\n",
    "        super(MultiHeadAttention, self).__init__()\n",
    "        self.num_heads = num_heads\n",
    "        self.d_model = d_model\n",
    "\n",
    "        assert d_model % self.num_heads == 0\n",
    "\n",
    "        self.depth = d_model // self.num_heads\n",
    "\n",
    "        self.wq = tf.keras.layers.Dense(d_model)\n",
    "        self.wk = tf.keras.layers.Dense(d_model)\n",
    "        self.wv = tf.keras.layers.Dense(d_model)\n",
    "\n",
    "        self.dense = tf.keras.layers.Dense(d_model)\n",
    "        \n",
    "    def split_heads(self, x, batch_size):\n",
    "        x = tf.reshape(x, (batch_size, -1, self.num_heads, self.depth))\n",
    "        return tf.transpose(x, perm=[0, 2, 1, 3])\n",
    "    \n",
    "    def call(self, v, k, q, mask):\n",
    "        batch_size = tf.shape(q)[0]\n",
    "\n",
    "        q = self.wq(q)\n",
    "        k = self.wk(k)\n",
    "        v = self.wv(v)\n",
    "\n",
    "        q = self.split_heads(q, batch_size)\n",
    "        k = self.split_heads(k, batch_size)\n",
    "        v = self.split_heads(v, batch_size)\n",
    "\n",
    "        scaled_attention, attention_weights = compute_scaled_dot_product(\n",
    "            q, k, v, mask)\n",
    "\n",
    "        scaled_attention = tf.transpose(scaled_attention, perm=[0, 2, 1, 3])\n",
    "        \n",
    "        concat_attention = tf.reshape(scaled_attention, (batch_size, -1, self.d_model))\n",
    "        output = self.dense(concat_attention)\n",
    "            \n",
    "        return output, attention_weights"
   ]
  },
  {
   "cell_type": "code",
   "execution_count": 18,
   "id": "5cf6831c",
   "metadata": {
    "execution": {
     "iopub.execute_input": "2023-12-09T06:58:24.466657Z",
     "iopub.status.busy": "2023-12-09T06:58:24.466158Z",
     "iopub.status.idle": "2023-12-09T06:58:24.470557Z",
     "shell.execute_reply": "2023-12-09T06:58:24.469720Z"
    },
    "papermill": {
     "duration": 0.020946,
     "end_time": "2023-12-09T06:58:24.472495",
     "exception": false,
     "start_time": "2023-12-09T06:58:24.451549",
     "status": "completed"
    },
    "tags": []
   },
   "outputs": [],
   "source": [
    "def built_pointwise_feedforward_network(d_model, dff):\n",
    "    return tf.keras.Sequential([\n",
    "        tf.keras.layers.Dense(dff, activation='relu'),\n",
    "        tf.keras.layers.Dense(d_model)\n",
    "    ])"
   ]
  },
  {
   "cell_type": "code",
   "execution_count": 19,
   "id": "410212a0",
   "metadata": {
    "execution": {
     "iopub.execute_input": "2023-12-09T06:58:24.500489Z",
     "iopub.status.busy": "2023-12-09T06:58:24.499904Z",
     "iopub.status.idle": "2023-12-09T06:58:24.507798Z",
     "shell.execute_reply": "2023-12-09T06:58:24.506995Z"
    },
    "papermill": {
     "duration": 0.023748,
     "end_time": "2023-12-09T06:58:24.509621",
     "exception": false,
     "start_time": "2023-12-09T06:58:24.485873",
     "status": "completed"
    },
    "tags": []
   },
   "outputs": [],
   "source": [
    "class EncoderLayer(tf.keras.layers.Layer):\n",
    "    def __init__(self, d_model, num_heads, dff, rate=0.1):\n",
    "        super(EncoderLayer, self).__init__()\n",
    "\n",
    "        self.mha = MultiHeadAttention(d_model, num_heads)\n",
    "        self.ffn = built_pointwise_feedforward_network(d_model, dff)\n",
    "\n",
    "        self.layernorm1 = tf.keras.layers.LayerNormalization(epsilon=1e-6)\n",
    "        self.layernorm2 = tf.keras.layers.LayerNormalization(epsilon=1e-6)\n",
    "\n",
    "        self.dropout1 = tf.keras.layers.Dropout(rate)\n",
    "        self.dropout2 = tf.keras.layers.Dropout(rate)\n",
    "    \n",
    "    def call(self, x, training, mask):\n",
    "        attn_output, _ = self.mha(x, x, x, mask)\n",
    "        attn_output = self.dropout1(attn_output, training=training)\n",
    "        out1 = self.layernorm1(x + attn_output)\n",
    "\n",
    "        ffn_output = self.ffn(out1)\n",
    "        ffn_output = self.dropout2(ffn_output, training=training)\n",
    "        out2 = self.layernorm2(out1 + ffn_output)\n",
    "\n",
    "        return out2"
   ]
  },
  {
   "cell_type": "code",
   "execution_count": 20,
   "id": "cd66a9b9",
   "metadata": {
    "execution": {
     "iopub.execute_input": "2023-12-09T06:58:24.537165Z",
     "iopub.status.busy": "2023-12-09T06:58:24.536880Z",
     "iopub.status.idle": "2023-12-09T06:58:24.546446Z",
     "shell.execute_reply": "2023-12-09T06:58:24.545626Z"
    },
    "papermill": {
     "duration": 0.02546,
     "end_time": "2023-12-09T06:58:24.548329",
     "exception": false,
     "start_time": "2023-12-09T06:58:24.522869",
     "status": "completed"
    },
    "tags": []
   },
   "outputs": [],
   "source": [
    "class DecoderLayer(tf.keras.layers.Layer):\n",
    "    def __init__(self, d_model, num_heads, dff, rate=0.1):\n",
    "        super(DecoderLayer, self).__init__()\n",
    "\n",
    "        self.mha1 = MultiHeadAttention(d_model, num_heads)\n",
    "        self.mha2 = MultiHeadAttention(d_model, num_heads)\n",
    "\n",
    "        self.ffn = built_pointwise_feedforward_network(d_model, dff)\n",
    "\n",
    "        self.layernorm1 = tf.keras.layers.LayerNormalization(epsilon=1e-6)\n",
    "        self.layernorm2 = tf.keras.layers.LayerNormalization(epsilon=1e-6)\n",
    "        self.layernorm3 = tf.keras.layers.LayerNormalization(epsilon=1e-6)\n",
    "\n",
    "        self.dropout1 = tf.keras.layers.Dropout(rate)\n",
    "        self.dropout2 = tf.keras.layers.Dropout(rate)\n",
    "        self.dropout3 = tf.keras.layers.Dropout(rate)\n",
    "    \n",
    "    \n",
    "    def call(self, x, enc_output, training, look_ahead_mask, padding_mask):\n",
    "        attn1, attn_weights_block1 = self.mha1(x, x, x, look_ahead_mask)\n",
    "        attn1 = self.dropout1(attn1, training=training)\n",
    "        out1 = self.layernorm1(attn1 + x)\n",
    "\n",
    "        attn2, attn_weights_block2 = self.mha2(enc_output, enc_output, out1, padding_mask)\n",
    "        attn2 = self.dropout2(attn2, training=training)\n",
    "        out2 = self.layernorm2(attn2 + out1)\n",
    "\n",
    "        ffn_output = self.ffn(out2)\n",
    "        ffn_output = self.dropout3(ffn_output, training=training)\n",
    "        out3 = self.layernorm3(ffn_output + out2)\n",
    "\n",
    "        return out3, attn_weights_block1, attn_weights_block2"
   ]
  },
  {
   "cell_type": "code",
   "execution_count": 21,
   "id": "b64f8ec4",
   "metadata": {
    "execution": {
     "iopub.execute_input": "2023-12-09T06:58:24.576115Z",
     "iopub.status.busy": "2023-12-09T06:58:24.575868Z",
     "iopub.status.idle": "2023-12-09T06:58:24.589150Z",
     "shell.execute_reply": "2023-12-09T06:58:24.588328Z"
    },
    "papermill": {
     "duration": 0.029284,
     "end_time": "2023-12-09T06:58:24.590912",
     "exception": false,
     "start_time": "2023-12-09T06:58:24.561628",
     "status": "completed"
    },
    "tags": []
   },
   "outputs": [],
   "source": [
    "class Encoder(tf.keras.layers.Layer):\n",
    "    def __init__(self, num_layers, d_model, num_heads, dff, input_vocab_size, maximum_position_encoding, rate=0.1):\n",
    "        super(Encoder, self).__init__()\n",
    "\n",
    "        self.d_model = d_model\n",
    "        self.num_layers = num_layers\n",
    "\n",
    "        self.embedding = tf.keras.layers.Embedding(input_vocab_size, d_model)\n",
    "        self.pos_encoding = generate_positional_encoding(maximum_position_encoding, self.d_model)\n",
    "\n",
    "        self.enc_layers = [EncoderLayer(d_model, num_heads, dff, rate) for _ in range(num_layers)]\n",
    "\n",
    "        self.dropout = tf.keras.layers.Dropout(rate)\n",
    "        \n",
    "    def call(self, x, training, mask):\n",
    "        seq_len = tf.shape(x)[1]\n",
    "\n",
    "        x = self.embedding(x)\n",
    "        x *= tf.math.sqrt(tf.cast(self.d_model, tf.float32))\n",
    "        x += self.pos_encoding[:, :seq_len, :]\n",
    "\n",
    "        x = self.dropout(x, training=training)\n",
    "    \n",
    "        for i in range(self.num_layers):\n",
    "            x = self.enc_layers[i](x, training, mask)\n",
    "    \n",
    "        return x\n",
    "    \n",
    "class Decoder(tf.keras.layers.Layer):\n",
    "        \n",
    "    def __init__(self, num_layers, d_model, num_heads, dff, target_vocab_size, maximum_position_encoding, rate=0.1):\n",
    "        super(Decoder, self).__init__()\n",
    "\n",
    "        self.d_model = d_model\n",
    "        self.num_layers = num_layers\n",
    "\n",
    "        self.embedding = tf.keras.layers.Embedding(target_vocab_size, d_model)\n",
    "        self.pos_encoding = generate_positional_encoding(maximum_position_encoding, d_model)\n",
    "\n",
    "        self.dec_layers = [DecoderLayer(d_model, num_heads, dff, rate) for _ in range(num_layers)]\n",
    "        self.dropout = tf.keras.layers.Dropout(rate)\n",
    "    \n",
    "    def call(self, x, enc_output, training, look_ahead_mask, padding_mask):\n",
    "        seq_len = tf.shape(x)[1]\n",
    "        attention_weights = {}\n",
    "\n",
    "        x = self.embedding(x)\n",
    "        x *= tf.math.sqrt(tf.cast(self.d_model, tf.float32))\n",
    "        x += self.pos_encoding[:, :seq_len, :]\n",
    "\n",
    "        x = self.dropout(x, training=training)\n",
    "\n",
    "        for i in range(self.num_layers):\n",
    "            x, block1, block2 = self.dec_layers[i](x, enc_output, training, look_ahead_mask, padding_mask)\n",
    "\n",
    "            attention_weights['decoder_layer{}_block1'.format(i+1)] = block1\n",
    "            attention_weights['decoder_layer{}_block2'.format(i+1)] = block2\n",
    "    \n",
    "        return x, attention_weights\n",
    "    "
   ]
  },
  {
   "cell_type": "code",
   "execution_count": 22,
   "id": "cb85a378",
   "metadata": {
    "execution": {
     "iopub.execute_input": "2023-12-09T06:58:24.618635Z",
     "iopub.status.busy": "2023-12-09T06:58:24.618101Z",
     "iopub.status.idle": "2023-12-09T06:58:24.624968Z",
     "shell.execute_reply": "2023-12-09T06:58:24.624161Z"
    },
    "papermill": {
     "duration": 0.022591,
     "end_time": "2023-12-09T06:58:24.626743",
     "exception": false,
     "start_time": "2023-12-09T06:58:24.604152",
     "status": "completed"
    },
    "tags": []
   },
   "outputs": [],
   "source": [
    "class Transformer(tf.keras.Model):\n",
    "    def __init__(self, num_layers, d_model, num_heads, dff, input_vocab_size, target_vocab_size, pe_input, pe_target, rate=0.1):\n",
    "        super(Transformer, self).__init__()\n",
    "\n",
    "        self.encoder = Encoder(num_layers, d_model, num_heads, dff, input_vocab_size, pe_input, rate)\n",
    "\n",
    "        self.decoder = Decoder(num_layers, d_model, num_heads, dff, target_vocab_size, pe_target, rate)\n",
    "\n",
    "        self.final_layer = tf.keras.layers.Dense(target_vocab_size)\n",
    "    \n",
    "    def call(self, inp, tar, training, enc_padding_mask, look_ahead_mask, dec_padding_mask):\n",
    "        enc_output = self.encoder(inp, training, enc_padding_mask)\n",
    "\n",
    "        dec_output, attention_weights = self.decoder(tar, enc_output, training, look_ahead_mask, dec_padding_mask)\n",
    "\n",
    "        final_output = self.final_layer(dec_output)\n",
    "\n",
    "        return final_output, attention_weights"
   ]
  },
  {
   "cell_type": "code",
   "execution_count": 23,
   "id": "a371993e",
   "metadata": {
    "execution": {
     "iopub.execute_input": "2023-12-09T06:58:24.655202Z",
     "iopub.status.busy": "2023-12-09T06:58:24.654935Z",
     "iopub.status.idle": "2023-12-09T06:58:24.658907Z",
     "shell.execute_reply": "2023-12-09T06:58:24.658122Z"
    },
    "papermill": {
     "duration": 0.020119,
     "end_time": "2023-12-09T06:58:24.660695",
     "exception": false,
     "start_time": "2023-12-09T06:58:24.640576",
     "status": "completed"
    },
    "tags": []
   },
   "outputs": [],
   "source": [
    "num_layers = 3\n",
    "d_model = 128\n",
    "dff = 512\n",
    "num_heads = 4\n",
    "dropout_rate = 0.2\n",
    "EPOCHS = 100"
   ]
  },
  {
   "cell_type": "code",
   "execution_count": 24,
   "id": "dfa9ee30",
   "metadata": {
    "execution": {
     "iopub.execute_input": "2023-12-09T06:58:24.688762Z",
     "iopub.status.busy": "2023-12-09T06:58:24.688497Z",
     "iopub.status.idle": "2023-12-09T06:58:24.694570Z",
     "shell.execute_reply": "2023-12-09T06:58:24.693775Z"
    },
    "papermill": {
     "duration": 0.022136,
     "end_time": "2023-12-09T06:58:24.696381",
     "exception": false,
     "start_time": "2023-12-09T06:58:24.674245",
     "status": "completed"
    },
    "tags": []
   },
   "outputs": [],
   "source": [
    "class CustomSchedule(tf.keras.optimizers.schedules.LearningRateSchedule):\n",
    "    def __init__(self, d_model, warmup_steps=4000):\n",
    "        super(CustomSchedule, self).__init__()\n",
    "\n",
    "        self.d_model = d_model\n",
    "        self.d_model = tf.cast(self.d_model, tf.float32)\n",
    "\n",
    "        self.warmup_steps = warmup_steps\n",
    "    \n",
    "    def __call__(self, step):\n",
    "        step = tf.cast(step, tf.float32)\n",
    "        arg1 = tf.math.rsqrt(step)\n",
    "        arg2 = step * (self.warmup_steps ** -1.5)\n",
    "\n",
    "        return (tf.math.rsqrt(self.d_model) * tf.math.minimum(arg1, arg2))"
   ]
  },
  {
   "cell_type": "code",
   "execution_count": 25,
   "id": "0985fb06",
   "metadata": {
    "execution": {
     "iopub.execute_input": "2023-12-09T06:58:24.724121Z",
     "iopub.status.busy": "2023-12-09T06:58:24.723843Z",
     "iopub.status.idle": "2023-12-09T06:58:24.750750Z",
     "shell.execute_reply": "2023-12-09T06:58:24.749908Z"
    },
    "papermill": {
     "duration": 0.043059,
     "end_time": "2023-12-09T06:58:24.752698",
     "exception": false,
     "start_time": "2023-12-09T06:58:24.709639",
     "status": "completed"
    },
    "tags": []
   },
   "outputs": [],
   "source": [
    "learning_rate = CustomSchedule(d_model)\n",
    "\n",
    "optimizer = tf.keras.optimizers.Adam(learning_rate, beta_1=0.9, beta_2=0.98, epsilon=1e-9)"
   ]
  },
  {
   "cell_type": "code",
   "execution_count": 26,
   "id": "668e2ae2",
   "metadata": {
    "execution": {
     "iopub.execute_input": "2023-12-09T06:58:24.781083Z",
     "iopub.status.busy": "2023-12-09T06:58:24.780836Z",
     "iopub.status.idle": "2023-12-09T06:58:25.112790Z",
     "shell.execute_reply": "2023-12-09T06:58:25.111926Z"
    },
    "papermill": {
     "duration": 0.34837,
     "end_time": "2023-12-09T06:58:25.114702",
     "exception": false,
     "start_time": "2023-12-09T06:58:24.766332",
     "status": "completed"
    },
    "tags": []
   },
   "outputs": [
    {
     "data": {
      "text/plain": [
       "Text(0.5, 0, 'Train Step')"
      ]
     },
     "execution_count": 26,
     "metadata": {},
     "output_type": "execute_result"
    },
    {
     "data": {
      "image/png": "[encoded data removed]",
      "text/plain": [
       "<Figure size 640x480 with 1 Axes>"
      ]
     },
     "metadata": {},
     "output_type": "display_data"
    }
   ],
   "source": [
    "temp_learning_rate_schedule = CustomSchedule(d_model)\n",
    "\n",
    "plt.plot(temp_learning_rate_schedule(tf.range(40000, dtype=tf.float32)))\n",
    "plt.ylabel(\"Learning Rate\")\n",
    "plt.xlabel(\"Train Step\")"
   ]
  },
  {
   "cell_type": "code",
   "execution_count": 27,
   "id": "bf3d6385",
   "metadata": {
    "execution": {
     "iopub.execute_input": "2023-12-09T06:58:25.144009Z",
     "iopub.status.busy": "2023-12-09T06:58:25.143724Z",
     "iopub.status.idle": "2023-12-09T06:58:25.151047Z",
     "shell.execute_reply": "2023-12-09T06:58:25.150336Z"
    },
    "papermill": {
     "duration": 0.023872,
     "end_time": "2023-12-09T06:58:25.152792",
     "exception": false,
     "start_time": "2023-12-09T06:58:25.128920",
     "status": "completed"
    },
    "tags": []
   },
   "outputs": [],
   "source": [
    "loss_object = tf.keras.losses.SparseCategoricalCrossentropy(from_logits=True, reduction='none')\n",
    "def loss_function(real, pred):\n",
    "    mask = tf.math.logical_not(tf.math.equal(real, 0))\n",
    "    loss_ = loss_object(real, pred)\n",
    "\n",
    "    mask = tf.cast(mask, dtype=loss_.dtype)\n",
    "    loss_ *= mask\n",
    "\n",
    "    return tf.reduce_sum(loss_)/tf.reduce_sum(mask)\n",
    "\n",
    "\n",
    "def accuracy_function(real, pred):\n",
    "    accuracies = tf.equal(real, tf.argmax(pred, axis=2))\n",
    "    #accuracies = tf.cast(accuracies, dtype= tf.float32)\n",
    "\n",
    "    mask = tf.math.logical_not(tf.math.equal(real, 0))\n",
    "    accuracies = tf.math.logical_and(mask, accuracies)\n",
    "\n",
    "    accuracies = tf.cast(accuracies, dtype=tf.float32)\n",
    "    mask = tf.cast(mask, dtype=tf.float32)\n",
    "    return tf.reduce_sum(accuracies)/tf.reduce_sum(mask)"
   ]
  },
  {
   "cell_type": "code",
   "execution_count": 28,
   "id": "c96aa854",
   "metadata": {
    "execution": {
     "iopub.execute_input": "2023-12-09T06:58:25.181857Z",
     "iopub.status.busy": "2023-12-09T06:58:25.181585Z",
     "iopub.status.idle": "2023-12-09T06:58:25.207772Z",
     "shell.execute_reply": "2023-12-09T06:58:25.207072Z"
    },
    "papermill": {
     "duration": 0.043044,
     "end_time": "2023-12-09T06:58:25.209683",
     "exception": false,
     "start_time": "2023-12-09T06:58:25.166639",
     "status": "completed"
    },
    "tags": []
   },
   "outputs": [],
   "source": [
    "train_loss = tf.keras.metrics.Mean(name='train_loss')\n",
    "train_accuracy = tf.keras.metrics.Mean(name='train_accuracy')"
   ]
  },
  {
   "cell_type": "code",
   "execution_count": 29,
   "id": "2a9f0ef0",
   "metadata": {
    "execution": {
     "iopub.execute_input": "2023-12-09T06:58:25.238576Z",
     "iopub.status.busy": "2023-12-09T06:58:25.238313Z",
     "iopub.status.idle": "2023-12-09T06:58:25.358288Z",
     "shell.execute_reply": "2023-12-09T06:58:25.357581Z"
    },
    "papermill": {
     "duration": 0.136466,
     "end_time": "2023-12-09T06:58:25.360160",
     "exception": false,
     "start_time": "2023-12-09T06:58:25.223694",
     "status": "completed"
    },
    "tags": []
   },
   "outputs": [],
   "source": [
    "transformer = Transformer(\n",
    "    num_layers=num_layers,\n",
    "    d_model=d_model,\n",
    "    num_heads=num_heads,\n",
    "    dff=dff,\n",
    "    input_vocab_size=ENCODER_VOCAB,\n",
    "    target_vocab_size=DECODER_VOCAB,\n",
    "    pe_input=1000,\n",
    "    pe_target=1000,\n",
    "    rate=dropout_rate)"
   ]
  },
  {
   "cell_type": "code",
   "execution_count": 30,
   "id": "dc4aeb89",
   "metadata": {
    "execution": {
     "iopub.execute_input": "2023-12-09T06:58:25.391415Z",
     "iopub.status.busy": "2023-12-09T06:58:25.390836Z",
     "iopub.status.idle": "2023-12-09T06:58:25.395799Z",
     "shell.execute_reply": "2023-12-09T06:58:25.394983Z"
    },
    "papermill": {
     "duration": 0.021705,
     "end_time": "2023-12-09T06:58:25.397614",
     "exception": false,
     "start_time": "2023-12-09T06:58:25.375909",
     "status": "completed"
    },
    "tags": []
   },
   "outputs": [],
   "source": [
    "def generate_masks(inp, tar):\n",
    "    enc_padding_mask = generate_padding_mask(inp)\n",
    "    dec_padding_mask = generate_padding_mask(inp)\n",
    "\n",
    "    look_ahead_mask = generate_look_ahead_mask(tf.shape(tar)[1])\n",
    "    dec_target_padding_mask = generate_padding_mask(tar)\n",
    "    combined_mask = tf.maximum(dec_target_padding_mask, look_ahead_mask)\n",
    "  \n",
    "    return enc_padding_mask, combined_mask, dec_padding_mask"
   ]
  },
  {
   "cell_type": "code",
   "execution_count": 31,
   "id": "739136fa",
   "metadata": {
    "execution": {
     "iopub.execute_input": "2023-12-09T06:58:25.427063Z",
     "iopub.status.busy": "2023-12-09T06:58:25.426802Z",
     "iopub.status.idle": "2023-12-09T06:58:25.434672Z",
     "shell.execute_reply": "2023-12-09T06:58:25.433963Z"
    },
    "papermill": {
     "duration": 0.024375,
     "end_time": "2023-12-09T06:58:25.436416",
     "exception": false,
     "start_time": "2023-12-09T06:58:25.412041",
     "status": "completed"
    },
    "tags": []
   },
   "outputs": [],
   "source": [
    "checkpoint_path = \"checkpoints\"\n",
    "\n",
    "ckpt = tf.train.Checkpoint(transformer=transformer, optimizer=optimizer)\n",
    "\n",
    "ckpt_manager = tf.train.CheckpointManager(ckpt, checkpoint_path, max_to_keep=5)\n",
    "\n",
    "if ckpt_manager.latest_checkpoint:\n",
    "    ckpt.restore(ckpt_manager.latest_checkpoint)\n",
    "    print ('Latest checkpoint restored!!')"
   ]
  },
  {
   "cell_type": "code",
   "execution_count": 32,
   "id": "6efc6d6e",
   "metadata": {
    "execution": {
     "iopub.execute_input": "2023-12-09T06:58:25.465947Z",
     "iopub.status.busy": "2023-12-09T06:58:25.465664Z",
     "iopub.status.idle": "2023-12-09T06:58:25.472362Z",
     "shell.execute_reply": "2023-12-09T06:58:25.471639Z"
    },
    "papermill": {
     "duration": 0.023563,
     "end_time": "2023-12-09T06:58:25.474165",
     "exception": false,
     "start_time": "2023-12-09T06:58:25.450602",
     "status": "completed"
    },
    "tags": []
   },
   "outputs": [],
   "source": [
    "@tf.function\n",
    "def train_step(inp, tar):\n",
    "    tar_inp = tar[:, :-1]\n",
    "    tar_real = tar[:, 1:]\n",
    "\n",
    "    enc_padding_mask, combined_mask, dec_padding_mask = generate_masks(inp, tar_inp)\n",
    "\n",
    "    with tf.GradientTape() as tape:\n",
    "        predictions, _ = transformer(\n",
    "            inp, tar_inp, \n",
    "            True, \n",
    "            enc_padding_mask, \n",
    "            combined_mask, \n",
    "            dec_padding_mask\n",
    "        )\n",
    "        loss = loss_function(tar_real, predictions)\n",
    "\n",
    "    gradients = tape.gradient(loss, transformer.trainable_variables)    \n",
    "    optimizer.apply_gradients(zip(gradients, transformer.trainable_variables))\n",
    "\n",
    "    train_loss(loss)\n",
    "    train_accuracy(accuracy_function(tar_real, predictions))"
   ]
  },
  {
   "cell_type": "code",
   "execution_count": 33,
   "id": "e69ea322",
   "metadata": {
    "execution": {
     "iopub.execute_input": "2023-12-09T06:58:25.503083Z",
     "iopub.status.busy": "2023-12-09T06:58:25.502807Z",
     "iopub.status.idle": "2023-12-09T06:58:25.506427Z",
     "shell.execute_reply": "2023-12-09T06:58:25.505610Z"
    },
    "papermill": {
     "duration": 0.020118,
     "end_time": "2023-12-09T06:58:25.508180",
     "exception": false,
     "start_time": "2023-12-09T06:58:25.488062",
     "status": "completed"
    },
    "tags": []
   },
   "outputs": [],
   "source": [
    "loss_values=[]\n",
    "accuracy_values=[]"
   ]
  },
  {
   "cell_type": "code",
   "execution_count": 34,
   "id": "4d885a57",
   "metadata": {
    "execution": {
     "iopub.execute_input": "2023-12-09T06:58:25.537709Z",
     "iopub.status.busy": "2023-12-09T06:58:25.537464Z",
     "iopub.status.idle": "2023-12-09T09:15:18.510339Z",
     "shell.execute_reply": "2023-12-09T09:15:18.509074Z"
    },
    "papermill": {
     "duration": 8212.990086,
     "end_time": "2023-12-09T09:15:18.512473",
     "exception": false,
     "start_time": "2023-12-09T06:58:25.522387",
     "status": "completed"
    },
    "tags": []
   },
   "outputs": [
    {
     "name": "stdout",
     "output_type": "stream",
     "text": [
      "Epoch 1 Batch 0 Loss 10.3189 Accuracy 0.0000\n"
     ]
    },
    {
     "name": "stdout",
     "output_type": "stream",
     "text": [
      "Epoch 1 Batch 100 Loss 10.2064 Accuracy 0.0551\n"
     ]
    },
    {
     "name": "stdout",
     "output_type": "stream",
     "text": [
      "Epoch 1 Batch 200 Loss 9.9871 Accuracy 0.0749\n"
     ]
    },
    {
     "name": "stdout",
     "output_type": "stream",
     "text": [
      "Epoch 1 Batch 300 Loss 9.6757 Accuracy 0.0821\n"
     ]
    },
    {
     "name": "stdout",
     "output_type": "stream",
     "text": [
      "Epoch 1 Batch 400 Loss 9.3310 Accuracy 0.0865\n"
     ]
    },
    {
     "name": "stdout",
     "output_type": "stream",
     "text": [
      "Epoch 1 Batch 500 Loss 9.0170 Accuracy 0.0902\n"
     ]
    },
    {
     "name": "stdout",
     "output_type": "stream",
     "text": [
      "Epoch 1 Batch 600 Loss 8.7712 Accuracy 0.0941\n"
     ]
    },
    {
     "name": "stdout",
     "output_type": "stream",
     "text": [
      "Epoch 1 Batch 700 Loss 8.5768 Accuracy 0.0997\n"
     ]
    },
    {
     "name": "stdout",
     "output_type": "stream",
     "text": [
      "Epoch 1 Batch 800 Loss 8.4191 Accuracy 0.1046\n"
     ]
    },
    {
     "name": "stdout",
     "output_type": "stream",
     "text": [
      "Epoch 1 Loss 8.3337 Accuracy 0.1074\n",
      "Time taken for 1 epoch: 150.53101778030396 secs\n",
      "\n"
     ]
    },
    {
     "name": "stdout",
     "output_type": "stream",
     "text": [
      "Epoch 2 Batch 0 Loss 7.4775 Accuracy 0.1074\n"
     ]
    },
    {
     "name": "stdout",
     "output_type": "stream",
     "text": [
      "Epoch 2 Batch 100 Loss 7.3673 Accuracy 0.1088\n"
     ]
    },
    {
     "name": "stdout",
     "output_type": "stream",
     "text": [
      "Epoch 2 Batch 200 Loss 7.2892 Accuracy 0.1106\n"
     ]
    },
    {
     "name": "stdout",
     "output_type": "stream",
     "text": [
      "Epoch 2 Batch 300 Loss 7.2105 Accuracy 0.1127\n"
     ]
    },
    {
     "name": "stdout",
     "output_type": "stream",
     "text": [
      "Epoch 2 Batch 400 Loss 7.1611 Accuracy 0.1149\n"
     ]
    },
    {
     "name": "stdout",
     "output_type": "stream",
     "text": [
      "Epoch 2 Batch 500 Loss 7.1060 Accuracy 0.1177\n"
     ]
    },
    {
     "name": "stdout",
     "output_type": "stream",
     "text": [
      "Epoch 2 Batch 600 Loss 7.0501 Accuracy 0.1205\n"
     ]
    },
    {
     "name": "stdout",
     "output_type": "stream",
     "text": [
      "Epoch 2 Batch 700 Loss 6.9891 Accuracy 0.1237\n"
     ]
    },
    {
     "name": "stdout",
     "output_type": "stream",
     "text": [
      "Epoch 2 Batch 800 Loss 6.9236 Accuracy 0.1271\n"
     ]
    },
    {
     "name": "stdout",
     "output_type": "stream",
     "text": [
      "Epoch 2 Loss 6.8809 Accuracy 0.1291\n",
      "Time taken for 1 epoch: 84.8046772480011 secs\n",
      "\n",
      "Epoch 3 Batch 0 Loss 6.7815 Accuracy 0.1292\n"
     ]
    },
    {
     "name": "stdout",
     "output_type": "stream",
     "text": [
      "Epoch 3 Batch 100 Loss 6.6383 Accuracy 0.1302\n"
     ]
    },
    {
     "name": "stdout",
     "output_type": "stream",
     "text": [
      "Epoch 3 Batch 200 Loss 6.5448 Accuracy 0.1317\n"
     ]
    },
    {
     "name": "stdout",
     "output_type": "stream",
     "text": [
      "Epoch 3 Batch 300 Loss 6.4681 Accuracy 0.1334\n"
     ]
    },
    {
     "name": "stdout",
     "output_type": "stream",
     "text": [
      "Epoch 3 Batch 400 Loss 6.4199 Accuracy 0.1353\n"
     ]
    },
    {
     "name": "stdout",
     "output_type": "stream",
     "text": [
      "Epoch 3 Batch 500 Loss 6.3710 Accuracy 0.1376\n"
     ]
    },
    {
     "name": "stdout",
     "output_type": "stream",
     "text": [
      "Epoch 3 Batch 600 Loss 6.3236 Accuracy 0.1402\n"
     ]
    },
    {
     "name": "stdout",
     "output_type": "stream",
     "text": [
      "Epoch 3 Batch 700 Loss 6.2683 Accuracy 0.1430\n"
     ]
    },
    {
     "name": "stdout",
     "output_type": "stream",
     "text": [
      "Epoch 3 Batch 800 Loss 6.2105 Accuracy 0.1459\n"
     ]
    },
    {
     "name": "stdout",
     "output_type": "stream",
     "text": [
      "Epoch 3 Loss 6.1728 Accuracy 0.1478\n",
      "Time taken for 1 epoch: 82.8121075630188 secs\n",
      "\n",
      "Epoch 4 Batch 0 Loss 6.5927 Accuracy 0.1478\n"
     ]
    },
    {
     "name": "stdout",
     "output_type": "stream",
     "text": [
      "Epoch 4 Batch 100 Loss 6.0724 Accuracy 0.1489\n"
     ]
    },
    {
     "name": "stdout",
     "output_type": "stream",
     "text": [
      "Epoch 4 Batch 200 Loss 5.9866 Accuracy 0.1504\n"
     ]
    },
    {
     "name": "stdout",
     "output_type": "stream",
     "text": [
      "Epoch 4 Batch 300 Loss 5.9164 Accuracy 0.1521\n"
     ]
    },
    {
     "name": "stdout",
     "output_type": "stream",
     "text": [
      "Epoch 4 Batch 400 Loss 5.8754 Accuracy 0.1539\n"
     ]
    },
    {
     "name": "stdout",
     "output_type": "stream",
     "text": [
      "Epoch 4 Batch 500 Loss 5.8331 Accuracy 0.1560\n"
     ]
    },
    {
     "name": "stdout",
     "output_type": "stream",
     "text": [
      "Epoch 4 Batch 600 Loss 5.7911 Accuracy 0.1584\n"
     ]
    },
    {
     "name": "stdout",
     "output_type": "stream",
     "text": [
      "Epoch 4 Batch 700 Loss 5.7397 Accuracy 0.1611\n"
     ]
    },
    {
     "name": "stdout",
     "output_type": "stream",
     "text": [
      "Epoch 4 Batch 800 Loss 5.6844 Accuracy 0.1639\n"
     ]
    },
    {
     "name": "stdout",
     "output_type": "stream",
     "text": [
      "Epoch 4 Loss 5.6490 Accuracy 0.1656\n",
      "Time taken for 1 epoch: 82.2544732093811 secs\n",
      "\n",
      "Epoch 5 Batch 0 Loss 6.0355 Accuracy 0.1656\n"
     ]
    },
    {
     "name": "stdout",
     "output_type": "stream",
     "text": [
      "Epoch 5 Batch 100 Loss 5.6279 Accuracy 0.1669\n"
     ]
    },
    {
     "name": "stdout",
     "output_type": "stream",
     "text": [
      "Epoch 5 Batch 200 Loss 5.5359 Accuracy 0.1685\n"
     ]
    },
    {
     "name": "stdout",
     "output_type": "stream",
     "text": [
      "Epoch 5 Batch 300 Loss 5.4669 Accuracy 0.1704\n"
     ]
    },
    {
     "name": "stdout",
     "output_type": "stream",
     "text": [
      "Epoch 5 Batch 400 Loss 5.4349 Accuracy 0.1722\n"
     ]
    },
    {
     "name": "stdout",
     "output_type": "stream",
     "text": [
      "Epoch 5 Batch 500 Loss 5.3919 Accuracy 0.1743\n"
     ]
    },
    {
     "name": "stdout",
     "output_type": "stream",
     "text": [
      "Epoch 5 Batch 600 Loss 5.3495 Accuracy 0.1766\n"
     ]
    },
    {
     "name": "stdout",
     "output_type": "stream",
     "text": [
      "Epoch 5 Batch 700 Loss 5.3013 Accuracy 0.1791\n"
     ]
    },
    {
     "name": "stdout",
     "output_type": "stream",
     "text": [
      "Epoch 5 Batch 800 Loss 5.2468 Accuracy 0.1818\n"
     ]
    },
    {
     "name": "stdout",
     "output_type": "stream",
     "text": [
      "Saving checkpoint for epoch 5 at checkpoints/ckpt-1\n",
      "Epoch 5 Loss 5.2123 Accuracy 0.1835\n",
      "Time taken for 1 epoch: 83.21591639518738 secs\n",
      "\n",
      "Epoch 6 Batch 0 Loss 5.8740 Accuracy 0.1835\n"
     ]
    },
    {
     "name": "stdout",
     "output_type": "stream",
     "text": [
      "Epoch 6 Batch 100 Loss 5.2347 Accuracy 0.1849\n"
     ]
    },
    {
     "name": "stdout",
     "output_type": "stream",
     "text": [
      "Epoch 6 Batch 200 Loss 5.1428 Accuracy 0.1866\n"
     ]
    },
    {
     "name": "stdout",
     "output_type": "stream",
     "text": [
      "Epoch 6 Batch 300 Loss 5.0678 Accuracy 0.1885\n"
     ]
    },
    {
     "name": "stdout",
     "output_type": "stream",
     "text": [
      "Epoch 6 Batch 400 Loss 5.0277 Accuracy 0.1904\n"
     ]
    },
    {
     "name": "stdout",
     "output_type": "stream",
     "text": [
      "Epoch 6 Batch 500 Loss 4.9767 Accuracy 0.1926\n"
     ]
    },
    {
     "name": "stdout",
     "output_type": "stream",
     "text": [
      "Epoch 6 Batch 600 Loss 4.9287 Accuracy 0.1949\n"
     ]
    },
    {
     "name": "stdout",
     "output_type": "stream",
     "text": [
      "Epoch 6 Batch 700 Loss 4.8773 Accuracy 0.1974\n"
     ]
    },
    {
     "name": "stdout",
     "output_type": "stream",
     "text": [
      "Epoch 6 Batch 800 Loss 4.8210 Accuracy 0.2002\n"
     ]
    },
    {
     "name": "stdout",
     "output_type": "stream",
     "text": [
      "Epoch 6 Loss 4.7890 Accuracy 0.2018\n",
      "Time taken for 1 epoch: 81.99781060218811 secs\n",
      "\n",
      "Epoch 7 Batch 0 Loss 5.4190 Accuracy 0.2018\n"
     ]
    },
    {
     "name": "stdout",
     "output_type": "stream",
     "text": [
      "Epoch 7 Batch 100 Loss 4.8571 Accuracy 0.2032\n"
     ]
    },
    {
     "name": "stdout",
     "output_type": "stream",
     "text": [
      "Epoch 7 Batch 200 Loss 4.7619 Accuracy 0.2049\n"
     ]
    },
    {
     "name": "stdout",
     "output_type": "stream",
     "text": [
      "Epoch 7 Batch 300 Loss 4.6885 Accuracy 0.2069\n"
     ]
    },
    {
     "name": "stdout",
     "output_type": "stream",
     "text": [
      "Epoch 7 Batch 400 Loss 4.6523 Accuracy 0.2087\n"
     ]
    },
    {
     "name": "stdout",
     "output_type": "stream",
     "text": [
      "Epoch 7 Batch 500 Loss 4.6002 Accuracy 0.2109\n"
     ]
    },
    {
     "name": "stdout",
     "output_type": "stream",
     "text": [
      "Epoch 7 Batch 600 Loss 4.5570 Accuracy 0.2131\n"
     ]
    },
    {
     "name": "stdout",
     "output_type": "stream",
     "text": [
      "Epoch 7 Batch 700 Loss 4.5075 Accuracy 0.2156\n"
     ]
    },
    {
     "name": "stdout",
     "output_type": "stream",
     "text": [
      "Epoch 7 Batch 800 Loss 4.4557 Accuracy 0.2182\n"
     ]
    },
    {
     "name": "stdout",
     "output_type": "stream",
     "text": [
      "Epoch 7 Loss 4.4264 Accuracy 0.2197\n",
      "Time taken for 1 epoch: 82.14209938049316 secs\n",
      "\n",
      "Epoch 8 Batch 0 Loss 5.0068 Accuracy 0.2197\n"
     ]
    },
    {
     "name": "stdout",
     "output_type": "stream",
     "text": [
      "Epoch 8 Batch 100 Loss 4.5559 Accuracy 0.2212\n"
     ]
    },
    {
     "name": "stdout",
     "output_type": "stream",
     "text": [
      "Epoch 8 Batch 200 Loss 4.4543 Accuracy 0.2229\n"
     ]
    },
    {
     "name": "stdout",
     "output_type": "stream",
     "text": [
      "Epoch 8 Batch 300 Loss 4.3840 Accuracy 0.2248\n"
     ]
    },
    {
     "name": "stdout",
     "output_type": "stream",
     "text": [
      "Epoch 8 Batch 400 Loss 4.3432 Accuracy 0.2266\n"
     ]
    },
    {
     "name": "stdout",
     "output_type": "stream",
     "text": [
      "Epoch 8 Batch 500 Loss 4.2909 Accuracy 0.2288\n"
     ]
    },
    {
     "name": "stdout",
     "output_type": "stream",
     "text": [
      "Epoch 8 Batch 600 Loss 4.2473 Accuracy 0.2310\n"
     ]
    },
    {
     "name": "stdout",
     "output_type": "stream",
     "text": [
      "Epoch 8 Batch 700 Loss 4.2012 Accuracy 0.2333\n"
     ]
    },
    {
     "name": "stdout",
     "output_type": "stream",
     "text": [
      "Epoch 8 Batch 800 Loss 4.1526 Accuracy 0.2358\n"
     ]
    },
    {
     "name": "stdout",
     "output_type": "stream",
     "text": [
      "Epoch 8 Loss 4.1253 Accuracy 0.2373\n",
      "Time taken for 1 epoch: 81.47279858589172 secs\n",
      "\n",
      "Epoch 9 Batch 0 Loss 4.7358 Accuracy 0.2373\n"
     ]
    },
    {
     "name": "stdout",
     "output_type": "stream",
     "text": [
      "Epoch 9 Batch 100 Loss 4.2837 Accuracy 0.2387\n"
     ]
    },
    {
     "name": "stdout",
     "output_type": "stream",
     "text": [
      "Epoch 9 Batch 200 Loss 4.1899 Accuracy 0.2404\n"
     ]
    },
    {
     "name": "stdout",
     "output_type": "stream",
     "text": [
      "Epoch 9 Batch 300 Loss 4.1241 Accuracy 0.2422\n"
     ]
    },
    {
     "name": "stdout",
     "output_type": "stream",
     "text": [
      "Epoch 9 Batch 400 Loss 4.0867 Accuracy 0.2440\n"
     ]
    },
    {
     "name": "stdout",
     "output_type": "stream",
     "text": [
      "Epoch 9 Batch 500 Loss 4.0391 Accuracy 0.2461\n"
     ]
    },
    {
     "name": "stdout",
     "output_type": "stream",
     "text": [
      "Epoch 9 Batch 600 Loss 3.9959 Accuracy 0.2482\n"
     ]
    },
    {
     "name": "stdout",
     "output_type": "stream",
     "text": [
      "Epoch 9 Batch 700 Loss 3.9489 Accuracy 0.2505\n"
     ]
    },
    {
     "name": "stdout",
     "output_type": "stream",
     "text": [
      "Epoch 9 Batch 800 Loss 3.9035 Accuracy 0.2528\n"
     ]
    },
    {
     "name": "stdout",
     "output_type": "stream",
     "text": [
      "Epoch 9 Loss 3.8768 Accuracy 0.2542\n",
      "Time taken for 1 epoch: 81.61093020439148 secs\n",
      "\n",
      "Epoch 10 Batch 0 Loss 4.7193 Accuracy 0.2542\n"
     ]
    },
    {
     "name": "stdout",
     "output_type": "stream",
     "text": [
      "Epoch 10 Batch 100 Loss 4.0658 Accuracy 0.2556\n"
     ]
    },
    {
     "name": "stdout",
     "output_type": "stream",
     "text": [
      "Epoch 10 Batch 200 Loss 3.9767 Accuracy 0.2572\n"
     ]
    },
    {
     "name": "stdout",
     "output_type": "stream",
     "text": [
      "Epoch 10 Batch 300 Loss 3.9101 Accuracy 0.2589\n"
     ]
    },
    {
     "name": "stdout",
     "output_type": "stream",
     "text": [
      "Epoch 10 Batch 400 Loss 3.8722 Accuracy 0.2606\n"
     ]
    },
    {
     "name": "stdout",
     "output_type": "stream",
     "text": [
      "Epoch 10 Batch 500 Loss 3.8232 Accuracy 0.2626\n"
     ]
    },
    {
     "name": "stdout",
     "output_type": "stream",
     "text": [
      "Epoch 10 Batch 600 Loss 3.7811 Accuracy 0.2646\n"
     ]
    },
    {
     "name": "stdout",
     "output_type": "stream",
     "text": [
      "Epoch 10 Batch 700 Loss 3.7376 Accuracy 0.2667\n"
     ]
    },
    {
     "name": "stdout",
     "output_type": "stream",
     "text": [
      "Epoch 10 Batch 800 Loss 3.6932 Accuracy 0.2689\n"
     ]
    },
    {
     "name": "stdout",
     "output_type": "stream",
     "text": [
      "Saving checkpoint for epoch 10 at checkpoints/ckpt-2\n",
      "Epoch 10 Loss 3.6681 Accuracy 0.2703\n",
      "Time taken for 1 epoch: 82.33835983276367 secs\n",
      "\n",
      "Epoch 11 Batch 0 Loss 4.5632 Accuracy 0.2703\n"
     ]
    },
    {
     "name": "stdout",
     "output_type": "stream",
     "text": [
      "Epoch 11 Batch 100 Loss 3.8778 Accuracy 0.2716\n"
     ]
    },
    {
     "name": "stdout",
     "output_type": "stream",
     "text": [
      "Epoch 11 Batch 200 Loss 3.7893 Accuracy 0.2731\n"
     ]
    },
    {
     "name": "stdout",
     "output_type": "stream",
     "text": [
      "Epoch 11 Batch 300 Loss 3.7259 Accuracy 0.2748\n"
     ]
    },
    {
     "name": "stdout",
     "output_type": "stream",
     "text": [
      "Epoch 11 Batch 400 Loss 3.6873 Accuracy 0.2764\n"
     ]
    },
    {
     "name": "stdout",
     "output_type": "stream",
     "text": [
      "Epoch 11 Batch 500 Loss 3.6378 Accuracy 0.2783\n"
     ]
    },
    {
     "name": "stdout",
     "output_type": "stream",
     "text": [
      "Epoch 11 Batch 600 Loss 3.5937 Accuracy 0.2802\n"
     ]
    },
    {
     "name": "stdout",
     "output_type": "stream",
     "text": [
      "Epoch 11 Batch 700 Loss 3.5499 Accuracy 0.2823\n"
     ]
    },
    {
     "name": "stdout",
     "output_type": "stream",
     "text": [
      "Epoch 11 Batch 800 Loss 3.5080 Accuracy 0.2844\n"
     ]
    },
    {
     "name": "stdout",
     "output_type": "stream",
     "text": [
      "Epoch 11 Loss 3.4845 Accuracy 0.2856\n",
      "Time taken for 1 epoch: 81.70484590530396 secs\n",
      "\n",
      "Epoch 12 Batch 0 Loss 3.9365 Accuracy 0.2856\n"
     ]
    },
    {
     "name": "stdout",
     "output_type": "stream",
     "text": [
      "Epoch 12 Batch 100 Loss 3.7044 Accuracy 0.2869\n"
     ]
    },
    {
     "name": "stdout",
     "output_type": "stream",
     "text": [
      "Epoch 12 Batch 200 Loss 3.6210 Accuracy 0.2884\n"
     ]
    },
    {
     "name": "stdout",
     "output_type": "stream",
     "text": [
      "Epoch 12 Batch 300 Loss 3.5590 Accuracy 0.2899\n"
     ]
    },
    {
     "name": "stdout",
     "output_type": "stream",
     "text": [
      "Epoch 12 Batch 400 Loss 3.5245 Accuracy 0.2914\n"
     ]
    },
    {
     "name": "stdout",
     "output_type": "stream",
     "text": [
      "Epoch 12 Batch 500 Loss 3.4776 Accuracy 0.2932\n"
     ]
    },
    {
     "name": "stdout",
     "output_type": "stream",
     "text": [
      "Epoch 12 Batch 600 Loss 3.4330 Accuracy 0.2951\n"
     ]
    },
    {
     "name": "stdout",
     "output_type": "stream",
     "text": [
      "Epoch 12 Batch 700 Loss 3.3885 Accuracy 0.2970\n"
     ]
    },
    {
     "name": "stdout",
     "output_type": "stream",
     "text": [
      "Epoch 12 Batch 800 Loss 3.3483 Accuracy 0.2990\n"
     ]
    },
    {
     "name": "stdout",
     "output_type": "stream",
     "text": [
      "Epoch 12 Loss 3.3256 Accuracy 0.3002\n",
      "Time taken for 1 epoch: 81.60227560997009 secs\n",
      "\n",
      "Epoch 13 Batch 0 Loss 4.0623 Accuracy 0.3002\n"
     ]
    },
    {
     "name": "stdout",
     "output_type": "stream",
     "text": [
      "Epoch 13 Batch 100 Loss 3.5616 Accuracy 0.3014\n"
     ]
    },
    {
     "name": "stdout",
     "output_type": "stream",
     "text": [
      "Epoch 13 Batch 200 Loss 3.4839 Accuracy 0.3028\n"
     ]
    },
    {
     "name": "stdout",
     "output_type": "stream",
     "text": [
      "Epoch 13 Batch 300 Loss 3.4224 Accuracy 0.3043\n"
     ]
    },
    {
     "name": "stdout",
     "output_type": "stream",
     "text": [
      "Epoch 13 Batch 400 Loss 3.3836 Accuracy 0.3058\n"
     ]
    },
    {
     "name": "stdout",
     "output_type": "stream",
     "text": [
      "Epoch 13 Batch 500 Loss 3.3395 Accuracy 0.3075\n"
     ]
    },
    {
     "name": "stdout",
     "output_type": "stream",
     "text": [
      "Epoch 13 Batch 600 Loss 3.2995 Accuracy 0.3092\n"
     ]
    },
    {
     "name": "stdout",
     "output_type": "stream",
     "text": [
      "Epoch 13 Batch 700 Loss 3.2576 Accuracy 0.3110\n"
     ]
    },
    {
     "name": "stdout",
     "output_type": "stream",
     "text": [
      "Epoch 13 Batch 800 Loss 3.2214 Accuracy 0.3129\n"
     ]
    },
    {
     "name": "stdout",
     "output_type": "stream",
     "text": [
      "Epoch 13 Loss 3.2001 Accuracy 0.3140\n",
      "Time taken for 1 epoch: 81.47983288764954 secs\n",
      "\n",
      "Epoch 14 Batch 0 Loss 4.0111 Accuracy 0.3140\n"
     ]
    },
    {
     "name": "stdout",
     "output_type": "stream",
     "text": [
      "Epoch 14 Batch 100 Loss 3.4638 Accuracy 0.3152\n"
     ]
    },
    {
     "name": "stdout",
     "output_type": "stream",
     "text": [
      "Epoch 14 Batch 200 Loss 3.3761 Accuracy 0.3165\n"
     ]
    },
    {
     "name": "stdout",
     "output_type": "stream",
     "text": [
      "Epoch 14 Batch 300 Loss 3.3171 Accuracy 0.3179\n"
     ]
    },
    {
     "name": "stdout",
     "output_type": "stream",
     "text": [
      "Epoch 14 Batch 400 Loss 3.2820 Accuracy 0.3193\n"
     ]
    },
    {
     "name": "stdout",
     "output_type": "stream",
     "text": [
      "Epoch 14 Batch 500 Loss 3.2386 Accuracy 0.3209\n"
     ]
    },
    {
     "name": "stdout",
     "output_type": "stream",
     "text": [
      "Epoch 14 Batch 600 Loss 3.1994 Accuracy 0.3225\n"
     ]
    },
    {
     "name": "stdout",
     "output_type": "stream",
     "text": [
      "Epoch 14 Batch 700 Loss 3.1600 Accuracy 0.3243\n"
     ]
    },
    {
     "name": "stdout",
     "output_type": "stream",
     "text": [
      "Epoch 14 Batch 800 Loss 3.1237 Accuracy 0.3260\n"
     ]
    },
    {
     "name": "stdout",
     "output_type": "stream",
     "text": [
      "Epoch 14 Loss 3.1033 Accuracy 0.3271\n",
      "Time taken for 1 epoch: 81.57380032539368 secs\n",
      "\n",
      "Epoch 15 Batch 0 Loss 3.9944 Accuracy 0.3271\n"
     ]
    },
    {
     "name": "stdout",
     "output_type": "stream",
     "text": [
      "Epoch 15 Batch 100 Loss 3.3644 Accuracy 0.3282\n"
     ]
    },
    {
     "name": "stdout",
     "output_type": "stream",
     "text": [
      "Epoch 15 Batch 200 Loss 3.2837 Accuracy 0.3294\n"
     ]
    },
    {
     "name": "stdout",
     "output_type": "stream",
     "text": [
      "Epoch 15 Batch 300 Loss 3.2254 Accuracy 0.3307\n"
     ]
    },
    {
     "name": "stdout",
     "output_type": "stream",
     "text": [
      "Epoch 15 Batch 400 Loss 3.1904 Accuracy 0.3320\n"
     ]
    },
    {
     "name": "stdout",
     "output_type": "stream",
     "text": [
      "Epoch 15 Batch 500 Loss 3.1435 Accuracy 0.3335\n"
     ]
    },
    {
     "name": "stdout",
     "output_type": "stream",
     "text": [
      "Epoch 15 Batch 600 Loss 3.1043 Accuracy 0.3351\n"
     ]
    },
    {
     "name": "stdout",
     "output_type": "stream",
     "text": [
      "Epoch 15 Batch 700 Loss 3.0649 Accuracy 0.3367\n"
     ]
    },
    {
     "name": "stdout",
     "output_type": "stream",
     "text": [
      "Epoch 15 Batch 800 Loss 3.0294 Accuracy 0.3384\n"
     ]
    },
    {
     "name": "stdout",
     "output_type": "stream",
     "text": [
      "Saving checkpoint for epoch 15 at checkpoints/ckpt-3\n",
      "Epoch 15 Loss 3.0103 Accuracy 0.3393\n",
      "Time taken for 1 epoch: 81.95210862159729 secs\n",
      "\n",
      "Epoch 16 Batch 0 Loss 3.5951 Accuracy 0.3393\n"
     ]
    },
    {
     "name": "stdout",
     "output_type": "stream",
     "text": [
      "Epoch 16 Batch 100 Loss 3.2559 Accuracy 0.3404\n"
     ]
    },
    {
     "name": "stdout",
     "output_type": "stream",
     "text": [
      "Epoch 16 Batch 200 Loss 3.1795 Accuracy 0.3415\n"
     ]
    },
    {
     "name": "stdout",
     "output_type": "stream",
     "text": [
      "Epoch 16 Batch 300 Loss 3.1249 Accuracy 0.3427\n"
     ]
    },
    {
     "name": "stdout",
     "output_type": "stream",
     "text": [
      "Epoch 16 Batch 400 Loss 3.0870 Accuracy 0.3440\n"
     ]
    },
    {
     "name": "stdout",
     "output_type": "stream",
     "text": [
      "Epoch 16 Batch 500 Loss 3.0430 Accuracy 0.3454\n"
     ]
    },
    {
     "name": "stdout",
     "output_type": "stream",
     "text": [
      "Epoch 16 Batch 600 Loss 3.0017 Accuracy 0.3469\n"
     ]
    },
    {
     "name": "stdout",
     "output_type": "stream",
     "text": [
      "Epoch 16 Batch 700 Loss 2.9601 Accuracy 0.3484\n"
     ]
    },
    {
     "name": "stdout",
     "output_type": "stream",
     "text": [
      "Epoch 16 Batch 800 Loss 2.9243 Accuracy 0.3500\n"
     ]
    },
    {
     "name": "stdout",
     "output_type": "stream",
     "text": [
      "Epoch 16 Loss 2.9050 Accuracy 0.3510\n",
      "Time taken for 1 epoch: 81.1956536769867 secs\n",
      "\n",
      "Epoch 17 Batch 0 Loss 3.5663 Accuracy 0.3510\n"
     ]
    },
    {
     "name": "stdout",
     "output_type": "stream",
     "text": [
      "Epoch 17 Batch 100 Loss 3.1484 Accuracy 0.3519\n"
     ]
    },
    {
     "name": "stdout",
     "output_type": "stream",
     "text": [
      "Epoch 17 Batch 200 Loss 3.0707 Accuracy 0.3530\n"
     ]
    },
    {
     "name": "stdout",
     "output_type": "stream",
     "text": [
      "Epoch 17 Batch 300 Loss 3.0111 Accuracy 0.3542\n"
     ]
    },
    {
     "name": "stdout",
     "output_type": "stream",
     "text": [
      "Epoch 17 Batch 400 Loss 2.9748 Accuracy 0.3554\n"
     ]
    },
    {
     "name": "stdout",
     "output_type": "stream",
     "text": [
      "Epoch 17 Batch 500 Loss 2.9290 Accuracy 0.3568\n"
     ]
    },
    {
     "name": "stdout",
     "output_type": "stream",
     "text": [
      "Epoch 17 Batch 600 Loss 2.8889 Accuracy 0.3582\n"
     ]
    },
    {
     "name": "stdout",
     "output_type": "stream",
     "text": [
      "Epoch 17 Batch 700 Loss 2.8473 Accuracy 0.3596\n"
     ]
    },
    {
     "name": "stdout",
     "output_type": "stream",
     "text": [
      "Epoch 17 Batch 800 Loss 2.8112 Accuracy 0.3611\n"
     ]
    },
    {
     "name": "stdout",
     "output_type": "stream",
     "text": [
      "Epoch 17 Loss 2.7926 Accuracy 0.3621\n",
      "Time taken for 1 epoch: 81.33493995666504 secs\n",
      "\n",
      "Epoch 18 Batch 0 Loss 3.5028 Accuracy 0.3621\n"
     ]
    },
    {
     "name": "stdout",
     "output_type": "stream",
     "text": [
      "Epoch 18 Batch 100 Loss 3.0261 Accuracy 0.3630\n"
     ]
    },
    {
     "name": "stdout",
     "output_type": "stream",
     "text": [
      "Epoch 18 Batch 200 Loss 2.9532 Accuracy 0.3640\n"
     ]
    },
    {
     "name": "stdout",
     "output_type": "stream",
     "text": [
      "Epoch 18 Batch 300 Loss 2.8992 Accuracy 0.3652\n"
     ]
    },
    {
     "name": "stdout",
     "output_type": "stream",
     "text": [
      "Epoch 18 Batch 400 Loss 2.8642 Accuracy 0.3663\n"
     ]
    },
    {
     "name": "stdout",
     "output_type": "stream",
     "text": [
      "Epoch 18 Batch 500 Loss 2.8214 Accuracy 0.3676\n"
     ]
    },
    {
     "name": "stdout",
     "output_type": "stream",
     "text": [
      "Epoch 18 Batch 600 Loss 2.7801 Accuracy 0.3690\n"
     ]
    },
    {
     "name": "stdout",
     "output_type": "stream",
     "text": [
      "Epoch 18 Batch 700 Loss 2.7396 Accuracy 0.3704\n"
     ]
    },
    {
     "name": "stdout",
     "output_type": "stream",
     "text": [
      "Epoch 18 Batch 800 Loss 2.7041 Accuracy 0.3718\n"
     ]
    },
    {
     "name": "stdout",
     "output_type": "stream",
     "text": [
      "Epoch 18 Loss 2.6857 Accuracy 0.3727\n",
      "Time taken for 1 epoch: 81.43678116798401 secs\n",
      "\n",
      "Epoch 19 Batch 0 Loss 3.3471 Accuracy 0.3727\n"
     ]
    },
    {
     "name": "stdout",
     "output_type": "stream",
     "text": [
      "Epoch 19 Batch 100 Loss 2.9287 Accuracy 0.3736\n"
     ]
    },
    {
     "name": "stdout",
     "output_type": "stream",
     "text": [
      "Epoch 19 Batch 200 Loss 2.8599 Accuracy 0.3746\n"
     ]
    },
    {
     "name": "stdout",
     "output_type": "stream",
     "text": [
      "Epoch 19 Batch 300 Loss 2.8067 Accuracy 0.3756\n"
     ]
    },
    {
     "name": "stdout",
     "output_type": "stream",
     "text": [
      "Epoch 19 Batch 400 Loss 2.7696 Accuracy 0.3767\n"
     ]
    },
    {
     "name": "stdout",
     "output_type": "stream",
     "text": [
      "Epoch 19 Batch 500 Loss 2.7259 Accuracy 0.3780\n"
     ]
    },
    {
     "name": "stdout",
     "output_type": "stream",
     "text": [
      "Epoch 19 Batch 600 Loss 2.6851 Accuracy 0.3792\n"
     ]
    },
    {
     "name": "stdout",
     "output_type": "stream",
     "text": [
      "Epoch 19 Batch 700 Loss 2.6437 Accuracy 0.3806\n"
     ]
    },
    {
     "name": "stdout",
     "output_type": "stream",
     "text": [
      "Epoch 19 Batch 800 Loss 2.6092 Accuracy 0.3820\n"
     ]
    },
    {
     "name": "stdout",
     "output_type": "stream",
     "text": [
      "Epoch 19 Loss 2.5916 Accuracy 0.3828\n",
      "Time taken for 1 epoch: 81.1723268032074 secs\n",
      "\n",
      "Epoch 20 Batch 0 Loss 3.3798 Accuracy 0.3828\n"
     ]
    },
    {
     "name": "stdout",
     "output_type": "stream",
     "text": [
      "Epoch 20 Batch 100 Loss 2.8281 Accuracy 0.3837\n"
     ]
    },
    {
     "name": "stdout",
     "output_type": "stream",
     "text": [
      "Epoch 20 Batch 200 Loss 2.7618 Accuracy 0.3846\n"
     ]
    },
    {
     "name": "stdout",
     "output_type": "stream",
     "text": [
      "Epoch 20 Batch 300 Loss 2.7098 Accuracy 0.3857\n"
     ]
    },
    {
     "name": "stdout",
     "output_type": "stream",
     "text": [
      "Epoch 20 Batch 400 Loss 2.6748 Accuracy 0.3867\n"
     ]
    },
    {
     "name": "stdout",
     "output_type": "stream",
     "text": [
      "Epoch 20 Batch 500 Loss 2.6339 Accuracy 0.3879\n"
     ]
    },
    {
     "name": "stdout",
     "output_type": "stream",
     "text": [
      "Epoch 20 Batch 600 Loss 2.5935 Accuracy 0.3891\n"
     ]
    },
    {
     "name": "stdout",
     "output_type": "stream",
     "text": [
      "Epoch 20 Batch 700 Loss 2.5522 Accuracy 0.3904\n"
     ]
    },
    {
     "name": "stdout",
     "output_type": "stream",
     "text": [
      "Epoch 20 Batch 800 Loss 2.5179 Accuracy 0.3917\n"
     ]
    },
    {
     "name": "stdout",
     "output_type": "stream",
     "text": [
      "Saving checkpoint for epoch 20 at checkpoints/ckpt-4\n",
      "Epoch 20 Loss 2.4998 Accuracy 0.3925\n",
      "Time taken for 1 epoch: 81.79976749420166 secs\n",
      "\n",
      "Epoch 21 Batch 0 Loss 3.3261 Accuracy 0.3925\n"
     ]
    },
    {
     "name": "stdout",
     "output_type": "stream",
     "text": [
      "Epoch 21 Batch 100 Loss 2.7491 Accuracy 0.3934\n"
     ]
    },
    {
     "name": "stdout",
     "output_type": "stream",
     "text": [
      "Epoch 21 Batch 200 Loss 2.6800 Accuracy 0.3943\n"
     ]
    },
    {
     "name": "stdout",
     "output_type": "stream",
     "text": [
      "Epoch 21 Batch 300 Loss 2.6294 Accuracy 0.3953\n"
     ]
    },
    {
     "name": "stdout",
     "output_type": "stream",
     "text": [
      "Epoch 21 Batch 400 Loss 2.5966 Accuracy 0.3963\n"
     ]
    },
    {
     "name": "stdout",
     "output_type": "stream",
     "text": [
      "Epoch 21 Batch 500 Loss 2.5564 Accuracy 0.3974\n"
     ]
    },
    {
     "name": "stdout",
     "output_type": "stream",
     "text": [
      "Epoch 21 Batch 600 Loss 2.5140 Accuracy 0.3986\n"
     ]
    },
    {
     "name": "stdout",
     "output_type": "stream",
     "text": [
      "Epoch 21 Batch 700 Loss 2.4724 Accuracy 0.3998\n"
     ]
    },
    {
     "name": "stdout",
     "output_type": "stream",
     "text": [
      "Epoch 21 Batch 800 Loss 2.4385 Accuracy 0.4011\n"
     ]
    },
    {
     "name": "stdout",
     "output_type": "stream",
     "text": [
      "Epoch 21 Loss 2.4222 Accuracy 0.4018\n",
      "Time taken for 1 epoch: 81.17069220542908 secs\n",
      "\n",
      "Epoch 22 Batch 0 Loss 3.1816 Accuracy 0.4018\n"
     ]
    },
    {
     "name": "stdout",
     "output_type": "stream",
     "text": [
      "Epoch 22 Batch 100 Loss 2.6694 Accuracy 0.4026\n"
     ]
    },
    {
     "name": "stdout",
     "output_type": "stream",
     "text": [
      "Epoch 22 Batch 200 Loss 2.6015 Accuracy 0.4035\n"
     ]
    },
    {
     "name": "stdout",
     "output_type": "stream",
     "text": [
      "Epoch 22 Batch 300 Loss 2.5547 Accuracy 0.4045\n"
     ]
    },
    {
     "name": "stdout",
     "output_type": "stream",
     "text": [
      "Epoch 22 Batch 400 Loss 2.5227 Accuracy 0.4054\n"
     ]
    },
    {
     "name": "stdout",
     "output_type": "stream",
     "text": [
      "Epoch 22 Batch 500 Loss 2.4794 Accuracy 0.4065\n"
     ]
    },
    {
     "name": "stdout",
     "output_type": "stream",
     "text": [
      "Epoch 22 Batch 600 Loss 2.4392 Accuracy 0.4076\n"
     ]
    },
    {
     "name": "stdout",
     "output_type": "stream",
     "text": [
      "Epoch 22 Batch 700 Loss 2.3979 Accuracy 0.4088\n"
     ]
    },
    {
     "name": "stdout",
     "output_type": "stream",
     "text": [
      "Epoch 22 Batch 800 Loss 2.3665 Accuracy 0.4100\n"
     ]
    },
    {
     "name": "stdout",
     "output_type": "stream",
     "text": [
      "Epoch 22 Loss 2.3485 Accuracy 0.4107\n",
      "Time taken for 1 epoch: 81.30907940864563 secs\n",
      "\n",
      "Epoch 23 Batch 0 Loss 3.1093 Accuracy 0.4107\n"
     ]
    },
    {
     "name": "stdout",
     "output_type": "stream",
     "text": [
      "Epoch 23 Batch 100 Loss 2.5920 Accuracy 0.4115\n"
     ]
    },
    {
     "name": "stdout",
     "output_type": "stream",
     "text": [
      "Epoch 23 Batch 200 Loss 2.5281 Accuracy 0.4124\n"
     ]
    },
    {
     "name": "stdout",
     "output_type": "stream",
     "text": [
      "Epoch 23 Batch 300 Loss 2.4813 Accuracy 0.4133\n"
     ]
    },
    {
     "name": "stdout",
     "output_type": "stream",
     "text": [
      "Epoch 23 Batch 400 Loss 2.4516 Accuracy 0.4142\n"
     ]
    },
    {
     "name": "stdout",
     "output_type": "stream",
     "text": [
      "Epoch 23 Batch 500 Loss 2.4116 Accuracy 0.4152\n"
     ]
    },
    {
     "name": "stdout",
     "output_type": "stream",
     "text": [
      "Epoch 23 Batch 600 Loss 2.3713 Accuracy 0.4163\n"
     ]
    },
    {
     "name": "stdout",
     "output_type": "stream",
     "text": [
      "Epoch 23 Batch 700 Loss 2.3305 Accuracy 0.4175\n"
     ]
    },
    {
     "name": "stdout",
     "output_type": "stream",
     "text": [
      "Epoch 23 Batch 800 Loss 2.2993 Accuracy 0.4186\n"
     ]
    },
    {
     "name": "stdout",
     "output_type": "stream",
     "text": [
      "Epoch 23 Loss 2.2824 Accuracy 0.4193\n",
      "Time taken for 1 epoch: 81.31235003471375 secs\n",
      "\n",
      "Epoch 24 Batch 0 Loss 3.1053 Accuracy 0.4193\n"
     ]
    },
    {
     "name": "stdout",
     "output_type": "stream",
     "text": [
      "Epoch 24 Batch 100 Loss 2.5265 Accuracy 0.4200\n"
     ]
    },
    {
     "name": "stdout",
     "output_type": "stream",
     "text": [
      "Epoch 24 Batch 200 Loss 2.4665 Accuracy 0.4209\n"
     ]
    },
    {
     "name": "stdout",
     "output_type": "stream",
     "text": [
      "Epoch 24 Batch 300 Loss 2.4194 Accuracy 0.4217\n"
     ]
    },
    {
     "name": "stdout",
     "output_type": "stream",
     "text": [
      "Epoch 24 Batch 400 Loss 2.3916 Accuracy 0.4226\n"
     ]
    },
    {
     "name": "stdout",
     "output_type": "stream",
     "text": [
      "Epoch 24 Batch 500 Loss 2.3506 Accuracy 0.4236\n"
     ]
    },
    {
     "name": "stdout",
     "output_type": "stream",
     "text": [
      "Epoch 24 Batch 600 Loss 2.3075 Accuracy 0.4247\n"
     ]
    },
    {
     "name": "stdout",
     "output_type": "stream",
     "text": [
      "Epoch 24 Batch 700 Loss 2.2679 Accuracy 0.4258\n"
     ]
    },
    {
     "name": "stdout",
     "output_type": "stream",
     "text": [
      "Epoch 24 Batch 800 Loss 2.2372 Accuracy 0.4269\n"
     ]
    },
    {
     "name": "stdout",
     "output_type": "stream",
     "text": [
      "Epoch 24 Loss 2.2211 Accuracy 0.4275\n",
      "Time taken for 1 epoch: 81.03873038291931 secs\n",
      "\n",
      "Epoch 25 Batch 0 Loss 2.9057 Accuracy 0.4275\n"
     ]
    },
    {
     "name": "stdout",
     "output_type": "stream",
     "text": [
      "Epoch 25 Batch 100 Loss 2.4679 Accuracy 0.4282\n"
     ]
    },
    {
     "name": "stdout",
     "output_type": "stream",
     "text": [
      "Epoch 25 Batch 200 Loss 2.4037 Accuracy 0.4290\n"
     ]
    },
    {
     "name": "stdout",
     "output_type": "stream",
     "text": [
      "Epoch 25 Batch 300 Loss 2.3616 Accuracy 0.4299\n"
     ]
    },
    {
     "name": "stdout",
     "output_type": "stream",
     "text": [
      "Epoch 25 Batch 400 Loss 2.3335 Accuracy 0.4307\n"
     ]
    },
    {
     "name": "stdout",
     "output_type": "stream",
     "text": [
      "Epoch 25 Batch 500 Loss 2.2935 Accuracy 0.4317\n"
     ]
    },
    {
     "name": "stdout",
     "output_type": "stream",
     "text": [
      "Epoch 25 Batch 600 Loss 2.2507 Accuracy 0.4327\n"
     ]
    },
    {
     "name": "stdout",
     "output_type": "stream",
     "text": [
      "Epoch 25 Batch 700 Loss 2.2126 Accuracy 0.4337\n"
     ]
    },
    {
     "name": "stdout",
     "output_type": "stream",
     "text": [
      "Epoch 25 Batch 800 Loss 2.1831 Accuracy 0.4348\n"
     ]
    },
    {
     "name": "stdout",
     "output_type": "stream",
     "text": [
      "Saving checkpoint for epoch 25 at checkpoints/ckpt-5\n",
      "Epoch 25 Loss 2.1671 Accuracy 0.4354\n",
      "Time taken for 1 epoch: 81.9209463596344 secs\n",
      "\n",
      "Epoch 26 Batch 0 Loss 2.9948 Accuracy 0.4354\n"
     ]
    },
    {
     "name": "stdout",
     "output_type": "stream",
     "text": [
      "Epoch 26 Batch 100 Loss 2.4183 Accuracy 0.4361\n"
     ]
    },
    {
     "name": "stdout",
     "output_type": "stream",
     "text": [
      "Epoch 26 Batch 200 Loss 2.3507 Accuracy 0.4369\n"
     ]
    },
    {
     "name": "stdout",
     "output_type": "stream",
     "text": [
      "Epoch 26 Batch 300 Loss 2.3109 Accuracy 0.4377\n"
     ]
    },
    {
     "name": "stdout",
     "output_type": "stream",
     "text": [
      "Epoch 26 Batch 400 Loss 2.2831 Accuracy 0.4385\n"
     ]
    },
    {
     "name": "stdout",
     "output_type": "stream",
     "text": [
      "Epoch 26 Batch 500 Loss 2.2415 Accuracy 0.4394\n"
     ]
    },
    {
     "name": "stdout",
     "output_type": "stream",
     "text": [
      "Epoch 26 Batch 600 Loss 2.1994 Accuracy 0.4404\n"
     ]
    },
    {
     "name": "stdout",
     "output_type": "stream",
     "text": [
      "Epoch 26 Batch 700 Loss 2.1616 Accuracy 0.4414\n"
     ]
    },
    {
     "name": "stdout",
     "output_type": "stream",
     "text": [
      "Epoch 26 Batch 800 Loss 2.1328 Accuracy 0.4424\n"
     ]
    },
    {
     "name": "stdout",
     "output_type": "stream",
     "text": [
      "Epoch 26 Loss 2.1170 Accuracy 0.4430\n",
      "Time taken for 1 epoch: 81.30514144897461 secs\n",
      "\n",
      "Epoch 27 Batch 0 Loss 2.8887 Accuracy 0.4430\n"
     ]
    },
    {
     "name": "stdout",
     "output_type": "stream",
     "text": [
      "Epoch 27 Batch 100 Loss 2.3639 Accuracy 0.4437\n"
     ]
    },
    {
     "name": "stdout",
     "output_type": "stream",
     "text": [
      "Epoch 27 Batch 200 Loss 2.3010 Accuracy 0.4444\n"
     ]
    },
    {
     "name": "stdout",
     "output_type": "stream",
     "text": [
      "Epoch 27 Batch 300 Loss 2.2608 Accuracy 0.4452\n"
     ]
    },
    {
     "name": "stdout",
     "output_type": "stream",
     "text": [
      "Epoch 27 Batch 400 Loss 2.2315 Accuracy 0.4460\n"
     ]
    },
    {
     "name": "stdout",
     "output_type": "stream",
     "text": [
      "Epoch 27 Batch 500 Loss 2.1931 Accuracy 0.4469\n"
     ]
    },
    {
     "name": "stdout",
     "output_type": "stream",
     "text": [
      "Epoch 27 Batch 600 Loss 2.1498 Accuracy 0.4478\n"
     ]
    },
    {
     "name": "stdout",
     "output_type": "stream",
     "text": [
      "Epoch 27 Batch 700 Loss 2.1125 Accuracy 0.4488\n"
     ]
    },
    {
     "name": "stdout",
     "output_type": "stream",
     "text": [
      "Epoch 27 Batch 800 Loss 2.0841 Accuracy 0.4498\n"
     ]
    },
    {
     "name": "stdout",
     "output_type": "stream",
     "text": [
      "Epoch 27 Loss 2.0695 Accuracy 0.4503\n",
      "Time taken for 1 epoch: 81.1661217212677 secs\n",
      "\n",
      "Epoch 28 Batch 0 Loss 2.8091 Accuracy 0.4503\n"
     ]
    },
    {
     "name": "stdout",
     "output_type": "stream",
     "text": [
      "Epoch 28 Batch 100 Loss 2.3191 Accuracy 0.4510\n"
     ]
    },
    {
     "name": "stdout",
     "output_type": "stream",
     "text": [
      "Epoch 28 Batch 200 Loss 2.2569 Accuracy 0.4517\n"
     ]
    },
    {
     "name": "stdout",
     "output_type": "stream",
     "text": [
      "Epoch 28 Batch 300 Loss 2.2137 Accuracy 0.4524\n"
     ]
    },
    {
     "name": "stdout",
     "output_type": "stream",
     "text": [
      "Epoch 28 Batch 400 Loss 2.1875 Accuracy 0.4532\n"
     ]
    },
    {
     "name": "stdout",
     "output_type": "stream",
     "text": [
      "Epoch 28 Batch 500 Loss 2.1478 Accuracy 0.4541\n"
     ]
    },
    {
     "name": "stdout",
     "output_type": "stream",
     "text": [
      "Epoch 28 Batch 600 Loss 2.1067 Accuracy 0.4550\n"
     ]
    },
    {
     "name": "stdout",
     "output_type": "stream",
     "text": [
      "Epoch 28 Batch 700 Loss 2.0692 Accuracy 0.4559\n"
     ]
    },
    {
     "name": "stdout",
     "output_type": "stream",
     "text": [
      "Epoch 28 Batch 800 Loss 2.0409 Accuracy 0.4568\n"
     ]
    },
    {
     "name": "stdout",
     "output_type": "stream",
     "text": [
      "Epoch 28 Loss 2.0266 Accuracy 0.4574\n",
      "Time taken for 1 epoch: 81.1815116405487 secs\n",
      "\n",
      "Epoch 29 Batch 0 Loss 2.6520 Accuracy 0.4574\n"
     ]
    },
    {
     "name": "stdout",
     "output_type": "stream",
     "text": [
      "Epoch 29 Batch 100 Loss 2.2740 Accuracy 0.4580\n"
     ]
    },
    {
     "name": "stdout",
     "output_type": "stream",
     "text": [
      "Epoch 29 Batch 200 Loss 2.2123 Accuracy 0.4587\n"
     ]
    },
    {
     "name": "stdout",
     "output_type": "stream",
     "text": [
      "Epoch 29 Batch 300 Loss 2.1719 Accuracy 0.4594\n"
     ]
    },
    {
     "name": "stdout",
     "output_type": "stream",
     "text": [
      "Epoch 29 Batch 400 Loss 2.1453 Accuracy 0.4601\n"
     ]
    },
    {
     "name": "stdout",
     "output_type": "stream",
     "text": [
      "Epoch 29 Batch 500 Loss 2.1046 Accuracy 0.4610\n"
     ]
    },
    {
     "name": "stdout",
     "output_type": "stream",
     "text": [
      "Epoch 29 Batch 600 Loss 2.0640 Accuracy 0.4618\n"
     ]
    },
    {
     "name": "stdout",
     "output_type": "stream",
     "text": [
      "Epoch 29 Batch 700 Loss 2.0273 Accuracy 0.4627\n"
     ]
    },
    {
     "name": "stdout",
     "output_type": "stream",
     "text": [
      "Epoch 29 Batch 800 Loss 2.0001 Accuracy 0.4636\n"
     ]
    },
    {
     "name": "stdout",
     "output_type": "stream",
     "text": [
      "Epoch 29 Loss 1.9860 Accuracy 0.4642\n",
      "Time taken for 1 epoch: 81.30427312850952 secs\n",
      "\n",
      "Epoch 30 Batch 0 Loss 2.5451 Accuracy 0.4642\n"
     ]
    },
    {
     "name": "stdout",
     "output_type": "stream",
     "text": [
      "Epoch 30 Batch 100 Loss 2.2316 Accuracy 0.4648\n"
     ]
    },
    {
     "name": "stdout",
     "output_type": "stream",
     "text": [
      "Epoch 30 Batch 200 Loss 2.1742 Accuracy 0.4654\n"
     ]
    },
    {
     "name": "stdout",
     "output_type": "stream",
     "text": [
      "Epoch 30 Batch 300 Loss 2.1347 Accuracy 0.4661\n"
     ]
    },
    {
     "name": "stdout",
     "output_type": "stream",
     "text": [
      "Epoch 30 Batch 400 Loss 2.1054 Accuracy 0.4668\n"
     ]
    },
    {
     "name": "stdout",
     "output_type": "stream",
     "text": [
      "Epoch 30 Batch 500 Loss 2.0656 Accuracy 0.4676\n"
     ]
    },
    {
     "name": "stdout",
     "output_type": "stream",
     "text": [
      "Epoch 30 Batch 600 Loss 2.0247 Accuracy 0.4685\n"
     ]
    },
    {
     "name": "stdout",
     "output_type": "stream",
     "text": [
      "Epoch 30 Batch 700 Loss 1.9889 Accuracy 0.4693\n"
     ]
    },
    {
     "name": "stdout",
     "output_type": "stream",
     "text": [
      "Epoch 30 Batch 800 Loss 1.9619 Accuracy 0.4702\n"
     ]
    },
    {
     "name": "stdout",
     "output_type": "stream",
     "text": [
      "Saving checkpoint for epoch 30 at checkpoints/ckpt-6\n",
      "Epoch 30 Loss 1.9479 Accuracy 0.4707\n",
      "Time taken for 1 epoch: 81.80567049980164 secs\n",
      "\n",
      "Epoch 31 Batch 0 Loss 2.5801 Accuracy 0.4707\n"
     ]
    },
    {
     "name": "stdout",
     "output_type": "stream",
     "text": [
      "Epoch 31 Batch 100 Loss 2.1872 Accuracy 0.4713\n"
     ]
    },
    {
     "name": "stdout",
     "output_type": "stream",
     "text": [
      "Epoch 31 Batch 200 Loss 2.1348 Accuracy 0.4719\n"
     ]
    },
    {
     "name": "stdout",
     "output_type": "stream",
     "text": [
      "Epoch 31 Batch 300 Loss 2.0931 Accuracy 0.4726\n"
     ]
    },
    {
     "name": "stdout",
     "output_type": "stream",
     "text": [
      "Epoch 31 Batch 400 Loss 2.0674 Accuracy 0.4733\n"
     ]
    },
    {
     "name": "stdout",
     "output_type": "stream",
     "text": [
      "Epoch 31 Batch 500 Loss 2.0257 Accuracy 0.4741\n"
     ]
    },
    {
     "name": "stdout",
     "output_type": "stream",
     "text": [
      "Epoch 31 Batch 600 Loss 1.9887 Accuracy 0.4749\n"
     ]
    },
    {
     "name": "stdout",
     "output_type": "stream",
     "text": [
      "Epoch 31 Batch 700 Loss 1.9537 Accuracy 0.4757\n"
     ]
    },
    {
     "name": "stdout",
     "output_type": "stream",
     "text": [
      "Epoch 31 Batch 800 Loss 1.9265 Accuracy 0.4765\n"
     ]
    },
    {
     "name": "stdout",
     "output_type": "stream",
     "text": [
      "Epoch 31 Loss 1.9135 Accuracy 0.4770\n",
      "Time taken for 1 epoch: 81.18245029449463 secs\n",
      "\n",
      "Epoch 32 Batch 0 Loss 2.6846 Accuracy 0.4770\n"
     ]
    },
    {
     "name": "stdout",
     "output_type": "stream",
     "text": [
      "Epoch 32 Batch 100 Loss 2.1508 Accuracy 0.4776\n"
     ]
    },
    {
     "name": "stdout",
     "output_type": "stream",
     "text": [
      "Epoch 32 Batch 200 Loss 2.0992 Accuracy 0.4782\n"
     ]
    },
    {
     "name": "stdout",
     "output_type": "stream",
     "text": [
      "Epoch 32 Batch 300 Loss 2.0605 Accuracy 0.4788\n"
     ]
    },
    {
     "name": "stdout",
     "output_type": "stream",
     "text": [
      "Epoch 32 Batch 400 Loss 2.0330 Accuracy 0.4795\n"
     ]
    },
    {
     "name": "stdout",
     "output_type": "stream",
     "text": [
      "Epoch 32 Batch 500 Loss 1.9934 Accuracy 0.4802\n"
     ]
    },
    {
     "name": "stdout",
     "output_type": "stream",
     "text": [
      "Epoch 32 Batch 600 Loss 1.9545 Accuracy 0.4810\n"
     ]
    },
    {
     "name": "stdout",
     "output_type": "stream",
     "text": [
      "Epoch 32 Batch 700 Loss 1.9196 Accuracy 0.4818\n"
     ]
    },
    {
     "name": "stdout",
     "output_type": "stream",
     "text": [
      "Epoch 32 Batch 800 Loss 1.8923 Accuracy 0.4827\n"
     ]
    },
    {
     "name": "stdout",
     "output_type": "stream",
     "text": [
      "Epoch 32 Loss 1.8788 Accuracy 0.4831\n",
      "Time taken for 1 epoch: 81.17612504959106 secs\n",
      "\n",
      "Epoch 33 Batch 0 Loss 2.4826 Accuracy 0.4832\n"
     ]
    },
    {
     "name": "stdout",
     "output_type": "stream",
     "text": [
      "Epoch 33 Batch 100 Loss 2.1267 Accuracy 0.4837\n"
     ]
    },
    {
     "name": "stdout",
     "output_type": "stream",
     "text": [
      "Epoch 33 Batch 200 Loss 2.0699 Accuracy 0.4843\n"
     ]
    },
    {
     "name": "stdout",
     "output_type": "stream",
     "text": [
      "Epoch 33 Batch 300 Loss 2.0270 Accuracy 0.4849\n"
     ]
    },
    {
     "name": "stdout",
     "output_type": "stream",
     "text": [
      "Epoch 33 Batch 400 Loss 2.0006 Accuracy 0.4855\n"
     ]
    },
    {
     "name": "stdout",
     "output_type": "stream",
     "text": [
      "Epoch 33 Batch 500 Loss 1.9620 Accuracy 0.4863\n"
     ]
    },
    {
     "name": "stdout",
     "output_type": "stream",
     "text": [
      "Epoch 33 Batch 600 Loss 1.9230 Accuracy 0.4870\n"
     ]
    },
    {
     "name": "stdout",
     "output_type": "stream",
     "text": [
      "Epoch 33 Batch 700 Loss 1.8873 Accuracy 0.4878\n"
     ]
    },
    {
     "name": "stdout",
     "output_type": "stream",
     "text": [
      "Epoch 33 Batch 800 Loss 1.8608 Accuracy 0.4886\n"
     ]
    },
    {
     "name": "stdout",
     "output_type": "stream",
     "text": [
      "Epoch 33 Loss 1.8465 Accuracy 0.4891\n",
      "Time taken for 1 epoch: 81.02882957458496 secs\n",
      "\n",
      "Epoch 34 Batch 0 Loss 2.4845 Accuracy 0.4891\n"
     ]
    },
    {
     "name": "stdout",
     "output_type": "stream",
     "text": [
      "Epoch 34 Batch 100 Loss 2.0881 Accuracy 0.4896\n"
     ]
    },
    {
     "name": "stdout",
     "output_type": "stream",
     "text": [
      "Epoch 34 Batch 200 Loss 2.0320 Accuracy 0.4901\n"
     ]
    },
    {
     "name": "stdout",
     "output_type": "stream",
     "text": [
      "Epoch 34 Batch 300 Loss 1.9941 Accuracy 0.4907\n"
     ]
    },
    {
     "name": "stdout",
     "output_type": "stream",
     "text": [
      "Epoch 34 Batch 400 Loss 1.9692 Accuracy 0.4914\n"
     ]
    },
    {
     "name": "stdout",
     "output_type": "stream",
     "text": [
      "Epoch 34 Batch 500 Loss 1.9308 Accuracy 0.4921\n"
     ]
    },
    {
     "name": "stdout",
     "output_type": "stream",
     "text": [
      "Epoch 34 Batch 600 Loss 1.8919 Accuracy 0.4928\n"
     ]
    },
    {
     "name": "stdout",
     "output_type": "stream",
     "text": [
      "Epoch 34 Batch 700 Loss 1.8572 Accuracy 0.4936\n"
     ]
    },
    {
     "name": "stdout",
     "output_type": "stream",
     "text": [
      "Epoch 34 Batch 800 Loss 1.8307 Accuracy 0.4943\n"
     ]
    },
    {
     "name": "stdout",
     "output_type": "stream",
     "text": [
      "Epoch 34 Loss 1.8172 Accuracy 0.4948\n",
      "Time taken for 1 epoch: 81.04103207588196 secs\n",
      "\n",
      "Epoch 35 Batch 0 Loss 2.6618 Accuracy 0.4948\n"
     ]
    },
    {
     "name": "stdout",
     "output_type": "stream",
     "text": [
      "Epoch 35 Batch 100 Loss 2.0548 Accuracy 0.4953\n"
     ]
    },
    {
     "name": "stdout",
     "output_type": "stream",
     "text": [
      "Epoch 35 Batch 200 Loss 1.9969 Accuracy 0.4959\n"
     ]
    },
    {
     "name": "stdout",
     "output_type": "stream",
     "text": [
      "Epoch 35 Batch 300 Loss 1.9580 Accuracy 0.4964\n"
     ]
    },
    {
     "name": "stdout",
     "output_type": "stream",
     "text": [
      "Epoch 35 Batch 400 Loss 1.9352 Accuracy 0.4970\n"
     ]
    },
    {
     "name": "stdout",
     "output_type": "stream",
     "text": [
      "Epoch 35 Batch 500 Loss 1.8974 Accuracy 0.4977\n"
     ]
    },
    {
     "name": "stdout",
     "output_type": "stream",
     "text": [
      "Epoch 35 Batch 600 Loss 1.8590 Accuracy 0.4984\n"
     ]
    },
    {
     "name": "stdout",
     "output_type": "stream",
     "text": [
      "Epoch 35 Batch 700 Loss 1.8255 Accuracy 0.4992\n"
     ]
    },
    {
     "name": "stdout",
     "output_type": "stream",
     "text": [
      "Epoch 35 Batch 800 Loss 1.8002 Accuracy 0.4999\n"
     ]
    },
    {
     "name": "stdout",
     "output_type": "stream",
     "text": [
      "Saving checkpoint for epoch 35 at checkpoints/ckpt-7\n",
      "Epoch 35 Loss 1.7867 Accuracy 0.5003\n",
      "Time taken for 1 epoch: 81.97822499275208 secs\n",
      "\n",
      "Epoch 36 Batch 0 Loss 2.4085 Accuracy 0.5003\n"
     ]
    },
    {
     "name": "stdout",
     "output_type": "stream",
     "text": [
      "Epoch 36 Batch 100 Loss 2.0178 Accuracy 0.5008\n"
     ]
    },
    {
     "name": "stdout",
     "output_type": "stream",
     "text": [
      "Epoch 36 Batch 200 Loss 1.9659 Accuracy 0.5014\n"
     ]
    },
    {
     "name": "stdout",
     "output_type": "stream",
     "text": [
      "Epoch 36 Batch 300 Loss 1.9266 Accuracy 0.5019\n"
     ]
    },
    {
     "name": "stdout",
     "output_type": "stream",
     "text": [
      "Epoch 36 Batch 400 Loss 1.9024 Accuracy 0.5025\n"
     ]
    },
    {
     "name": "stdout",
     "output_type": "stream",
     "text": [
      "Epoch 36 Batch 500 Loss 1.8672 Accuracy 0.5032\n"
     ]
    },
    {
     "name": "stdout",
     "output_type": "stream",
     "text": [
      "Epoch 36 Batch 600 Loss 1.8308 Accuracy 0.5038\n"
     ]
    },
    {
     "name": "stdout",
     "output_type": "stream",
     "text": [
      "Epoch 36 Batch 700 Loss 1.7978 Accuracy 0.5046\n"
     ]
    },
    {
     "name": "stdout",
     "output_type": "stream",
     "text": [
      "Epoch 36 Batch 800 Loss 1.7738 Accuracy 0.5053\n"
     ]
    },
    {
     "name": "stdout",
     "output_type": "stream",
     "text": [
      "Epoch 36 Loss 1.7611 Accuracy 0.5057\n",
      "Time taken for 1 epoch: 81.04312086105347 secs\n",
      "\n",
      "Epoch 37 Batch 0 Loss 2.3195 Accuracy 0.5057\n"
     ]
    },
    {
     "name": "stdout",
     "output_type": "stream",
     "text": [
      "Epoch 37 Batch 100 Loss 1.9929 Accuracy 0.5062\n"
     ]
    },
    {
     "name": "stdout",
     "output_type": "stream",
     "text": [
      "Epoch 37 Batch 200 Loss 1.9414 Accuracy 0.5067\n"
     ]
    },
    {
     "name": "stdout",
     "output_type": "stream",
     "text": [
      "Epoch 37 Batch 300 Loss 1.9008 Accuracy 0.5072\n"
     ]
    },
    {
     "name": "stdout",
     "output_type": "stream",
     "text": [
      "Epoch 37 Batch 400 Loss 1.8778 Accuracy 0.5078\n"
     ]
    },
    {
     "name": "stdout",
     "output_type": "stream",
     "text": [
      "Epoch 37 Batch 500 Loss 1.8418 Accuracy 0.5084\n"
     ]
    },
    {
     "name": "stdout",
     "output_type": "stream",
     "text": [
      "Epoch 37 Batch 600 Loss 1.8052 Accuracy 0.5091\n"
     ]
    },
    {
     "name": "stdout",
     "output_type": "stream",
     "text": [
      "Epoch 37 Batch 700 Loss 1.7740 Accuracy 0.5098\n"
     ]
    },
    {
     "name": "stdout",
     "output_type": "stream",
     "text": [
      "Epoch 37 Batch 800 Loss 1.7483 Accuracy 0.5105\n"
     ]
    },
    {
     "name": "stdout",
     "output_type": "stream",
     "text": [
      "Epoch 37 Loss 1.7373 Accuracy 0.5109\n",
      "Time taken for 1 epoch: 81.19415283203125 secs\n",
      "\n",
      "Epoch 38 Batch 0 Loss 2.3678 Accuracy 0.5109\n"
     ]
    },
    {
     "name": "stdout",
     "output_type": "stream",
     "text": [
      "Epoch 38 Batch 100 Loss 1.9668 Accuracy 0.5113\n"
     ]
    },
    {
     "name": "stdout",
     "output_type": "stream",
     "text": [
      "Epoch 38 Batch 200 Loss 1.9147 Accuracy 0.5118\n"
     ]
    },
    {
     "name": "stdout",
     "output_type": "stream",
     "text": [
      "Epoch 38 Batch 300 Loss 1.8752 Accuracy 0.5124\n"
     ]
    },
    {
     "name": "stdout",
     "output_type": "stream",
     "text": [
      "Epoch 38 Batch 400 Loss 1.8535 Accuracy 0.5129\n"
     ]
    },
    {
     "name": "stdout",
     "output_type": "stream",
     "text": [
      "Epoch 38 Batch 500 Loss 1.8188 Accuracy 0.5135\n"
     ]
    },
    {
     "name": "stdout",
     "output_type": "stream",
     "text": [
      "Epoch 38 Batch 600 Loss 1.7820 Accuracy 0.5142\n"
     ]
    },
    {
     "name": "stdout",
     "output_type": "stream",
     "text": [
      "Epoch 38 Batch 700 Loss 1.7496 Accuracy 0.5149\n"
     ]
    },
    {
     "name": "stdout",
     "output_type": "stream",
     "text": [
      "Epoch 38 Batch 800 Loss 1.7258 Accuracy 0.5155\n"
     ]
    },
    {
     "name": "stdout",
     "output_type": "stream",
     "text": [
      "Epoch 38 Loss 1.7128 Accuracy 0.5159\n",
      "Time taken for 1 epoch: 81.05640077590942 secs\n",
      "\n",
      "Epoch 39 Batch 0 Loss 2.2568 Accuracy 0.5159\n"
     ]
    },
    {
     "name": "stdout",
     "output_type": "stream",
     "text": [
      "Epoch 39 Batch 100 Loss 1.9360 Accuracy 0.5164\n"
     ]
    },
    {
     "name": "stdout",
     "output_type": "stream",
     "text": [
      "Epoch 39 Batch 200 Loss 1.8861 Accuracy 0.5169\n"
     ]
    },
    {
     "name": "stdout",
     "output_type": "stream",
     "text": [
      "Epoch 39 Batch 300 Loss 1.8499 Accuracy 0.5174\n"
     ]
    },
    {
     "name": "stdout",
     "output_type": "stream",
     "text": [
      "Epoch 39 Batch 400 Loss 1.8257 Accuracy 0.5179\n"
     ]
    },
    {
     "name": "stdout",
     "output_type": "stream",
     "text": [
      "Epoch 39 Batch 500 Loss 1.7897 Accuracy 0.5185\n"
     ]
    },
    {
     "name": "stdout",
     "output_type": "stream",
     "text": [
      "Epoch 39 Batch 600 Loss 1.7535 Accuracy 0.5191\n"
     ]
    },
    {
     "name": "stdout",
     "output_type": "stream",
     "text": [
      "Epoch 39 Batch 700 Loss 1.7227 Accuracy 0.5198\n"
     ]
    },
    {
     "name": "stdout",
     "output_type": "stream",
     "text": [
      "Epoch 39 Batch 800 Loss 1.6995 Accuracy 0.5204\n"
     ]
    },
    {
     "name": "stdout",
     "output_type": "stream",
     "text": [
      "Epoch 39 Loss 1.6874 Accuracy 0.5208\n",
      "Time taken for 1 epoch: 81.19748497009277 secs\n",
      "\n",
      "Epoch 40 Batch 0 Loss 2.5338 Accuracy 0.5208\n"
     ]
    },
    {
     "name": "stdout",
     "output_type": "stream",
     "text": [
      "Epoch 40 Batch 100 Loss 1.9043 Accuracy 0.5213\n"
     ]
    },
    {
     "name": "stdout",
     "output_type": "stream",
     "text": [
      "Epoch 40 Batch 200 Loss 1.8600 Accuracy 0.5217\n"
     ]
    },
    {
     "name": "stdout",
     "output_type": "stream",
     "text": [
      "Epoch 40 Batch 300 Loss 1.8218 Accuracy 0.5222\n"
     ]
    },
    {
     "name": "stdout",
     "output_type": "stream",
     "text": [
      "Epoch 40 Batch 400 Loss 1.7995 Accuracy 0.5228\n"
     ]
    },
    {
     "name": "stdout",
     "output_type": "stream",
     "text": [
      "Epoch 40 Batch 500 Loss 1.7659 Accuracy 0.5233\n"
     ]
    },
    {
     "name": "stdout",
     "output_type": "stream",
     "text": [
      "Epoch 40 Batch 600 Loss 1.7308 Accuracy 0.5239\n"
     ]
    },
    {
     "name": "stdout",
     "output_type": "stream",
     "text": [
      "Epoch 40 Batch 700 Loss 1.7009 Accuracy 0.5246\n"
     ]
    },
    {
     "name": "stdout",
     "output_type": "stream",
     "text": [
      "Epoch 40 Batch 800 Loss 1.6770 Accuracy 0.5252\n"
     ]
    },
    {
     "name": "stdout",
     "output_type": "stream",
     "text": [
      "Saving checkpoint for epoch 40 at checkpoints/ckpt-8\n",
      "Epoch 40 Loss 1.6651 Accuracy 0.5256\n",
      "Time taken for 1 epoch: 81.83049869537354 secs\n",
      "\n",
      "Epoch 41 Batch 0 Loss 2.2302 Accuracy 0.5256\n"
     ]
    },
    {
     "name": "stdout",
     "output_type": "stream",
     "text": [
      "Epoch 41 Batch 100 Loss 1.8821 Accuracy 0.5260\n"
     ]
    },
    {
     "name": "stdout",
     "output_type": "stream",
     "text": [
      "Epoch 41 Batch 200 Loss 1.8329 Accuracy 0.5264\n"
     ]
    },
    {
     "name": "stdout",
     "output_type": "stream",
     "text": [
      "Epoch 41 Batch 300 Loss 1.7976 Accuracy 0.5269\n"
     ]
    },
    {
     "name": "stdout",
     "output_type": "stream",
     "text": [
      "Epoch 41 Batch 400 Loss 1.7756 Accuracy 0.5274\n"
     ]
    },
    {
     "name": "stdout",
     "output_type": "stream",
     "text": [
      "Epoch 41 Batch 500 Loss 1.7418 Accuracy 0.5280\n"
     ]
    },
    {
     "name": "stdout",
     "output_type": "stream",
     "text": [
      "Epoch 41 Batch 600 Loss 1.7074 Accuracy 0.5286\n"
     ]
    },
    {
     "name": "stdout",
     "output_type": "stream",
     "text": [
      "Epoch 41 Batch 700 Loss 1.6764 Accuracy 0.5292\n"
     ]
    },
    {
     "name": "stdout",
     "output_type": "stream",
     "text": [
      "Epoch 41 Batch 800 Loss 1.6542 Accuracy 0.5298\n"
     ]
    },
    {
     "name": "stdout",
     "output_type": "stream",
     "text": [
      "Epoch 41 Loss 1.6426 Accuracy 0.5302\n",
      "Time taken for 1 epoch: 81.05442476272583 secs\n",
      "\n",
      "Epoch 42 Batch 0 Loss 2.3014 Accuracy 0.5302\n"
     ]
    },
    {
     "name": "stdout",
     "output_type": "stream",
     "text": [
      "Epoch 42 Batch 100 Loss 1.8520 Accuracy 0.5306\n"
     ]
    },
    {
     "name": "stdout",
     "output_type": "stream",
     "text": [
      "Epoch 42 Batch 200 Loss 1.8059 Accuracy 0.5310\n"
     ]
    },
    {
     "name": "stdout",
     "output_type": "stream",
     "text": [
      "Epoch 42 Batch 300 Loss 1.7729 Accuracy 0.5315\n"
     ]
    },
    {
     "name": "stdout",
     "output_type": "stream",
     "text": [
      "Epoch 42 Batch 400 Loss 1.7513 Accuracy 0.5320\n"
     ]
    },
    {
     "name": "stdout",
     "output_type": "stream",
     "text": [
      "Epoch 42 Batch 500 Loss 1.7194 Accuracy 0.5325\n"
     ]
    },
    {
     "name": "stdout",
     "output_type": "stream",
     "text": [
      "Epoch 42 Batch 600 Loss 1.6856 Accuracy 0.5331\n"
     ]
    },
    {
     "name": "stdout",
     "output_type": "stream",
     "text": [
      "Epoch 42 Batch 700 Loss 1.6536 Accuracy 0.5337\n"
     ]
    },
    {
     "name": "stdout",
     "output_type": "stream",
     "text": [
      "Epoch 42 Batch 800 Loss 1.6313 Accuracy 0.5343\n"
     ]
    },
    {
     "name": "stdout",
     "output_type": "stream",
     "text": [
      "Epoch 42 Loss 1.6201 Accuracy 0.5347\n",
      "Time taken for 1 epoch: 81.31144690513611 secs\n",
      "\n",
      "Epoch 43 Batch 0 Loss 2.1642 Accuracy 0.5347\n"
     ]
    },
    {
     "name": "stdout",
     "output_type": "stream",
     "text": [
      "Epoch 43 Batch 100 Loss 1.8411 Accuracy 0.5351\n"
     ]
    },
    {
     "name": "stdout",
     "output_type": "stream",
     "text": [
      "Epoch 43 Batch 200 Loss 1.7856 Accuracy 0.5355\n"
     ]
    },
    {
     "name": "stdout",
     "output_type": "stream",
     "text": [
      "Epoch 43 Batch 300 Loss 1.7497 Accuracy 0.5360\n"
     ]
    },
    {
     "name": "stdout",
     "output_type": "stream",
     "text": [
      "Epoch 43 Batch 400 Loss 1.7294 Accuracy 0.5364\n"
     ]
    },
    {
     "name": "stdout",
     "output_type": "stream",
     "text": [
      "Epoch 43 Batch 500 Loss 1.6945 Accuracy 0.5370\n"
     ]
    },
    {
     "name": "stdout",
     "output_type": "stream",
     "text": [
      "Epoch 43 Batch 600 Loss 1.6599 Accuracy 0.5375\n"
     ]
    },
    {
     "name": "stdout",
     "output_type": "stream",
     "text": [
      "Epoch 43 Batch 700 Loss 1.6293 Accuracy 0.5381\n"
     ]
    },
    {
     "name": "stdout",
     "output_type": "stream",
     "text": [
      "Epoch 43 Batch 800 Loss 1.6068 Accuracy 0.5387\n"
     ]
    },
    {
     "name": "stdout",
     "output_type": "stream",
     "text": [
      "Epoch 43 Loss 1.5954 Accuracy 0.5390\n",
      "Time taken for 1 epoch: 81.32142543792725 secs\n",
      "\n",
      "Epoch 44 Batch 0 Loss 2.1958 Accuracy 0.5390\n"
     ]
    },
    {
     "name": "stdout",
     "output_type": "stream",
     "text": [
      "Epoch 44 Batch 100 Loss 1.8137 Accuracy 0.5394\n"
     ]
    },
    {
     "name": "stdout",
     "output_type": "stream",
     "text": [
      "Epoch 44 Batch 200 Loss 1.7594 Accuracy 0.5399\n"
     ]
    },
    {
     "name": "stdout",
     "output_type": "stream",
     "text": [
      "Epoch 44 Batch 300 Loss 1.7266 Accuracy 0.5403\n"
     ]
    },
    {
     "name": "stdout",
     "output_type": "stream",
     "text": [
      "Epoch 44 Batch 400 Loss 1.7048 Accuracy 0.5408\n"
     ]
    },
    {
     "name": "stdout",
     "output_type": "stream",
     "text": [
      "Epoch 44 Batch 500 Loss 1.6712 Accuracy 0.5413\n"
     ]
    },
    {
     "name": "stdout",
     "output_type": "stream",
     "text": [
      "Epoch 44 Batch 600 Loss 1.6389 Accuracy 0.5418\n"
     ]
    },
    {
     "name": "stdout",
     "output_type": "stream",
     "text": [
      "Epoch 44 Batch 700 Loss 1.6101 Accuracy 0.5424\n"
     ]
    },
    {
     "name": "stdout",
     "output_type": "stream",
     "text": [
      "Epoch 44 Batch 800 Loss 1.5889 Accuracy 0.5430\n"
     ]
    },
    {
     "name": "stdout",
     "output_type": "stream",
     "text": [
      "Epoch 44 Loss 1.5777 Accuracy 0.5433\n",
      "Time taken for 1 epoch: 81.20106196403503 secs\n",
      "\n",
      "Epoch 45 Batch 0 Loss 2.0723 Accuracy 0.5433\n"
     ]
    },
    {
     "name": "stdout",
     "output_type": "stream",
     "text": [
      "Epoch 45 Batch 100 Loss 1.7942 Accuracy 0.5437\n"
     ]
    },
    {
     "name": "stdout",
     "output_type": "stream",
     "text": [
      "Epoch 45 Batch 200 Loss 1.7421 Accuracy 0.5441\n"
     ]
    },
    {
     "name": "stdout",
     "output_type": "stream",
     "text": [
      "Epoch 45 Batch 300 Loss 1.7093 Accuracy 0.5445\n"
     ]
    },
    {
     "name": "stdout",
     "output_type": "stream",
     "text": [
      "Epoch 45 Batch 400 Loss 1.6880 Accuracy 0.5450\n"
     ]
    },
    {
     "name": "stdout",
     "output_type": "stream",
     "text": [
      "Epoch 45 Batch 500 Loss 1.6550 Accuracy 0.5455\n"
     ]
    },
    {
     "name": "stdout",
     "output_type": "stream",
     "text": [
      "Epoch 45 Batch 600 Loss 1.6231 Accuracy 0.5460\n"
     ]
    },
    {
     "name": "stdout",
     "output_type": "stream",
     "text": [
      "Epoch 45 Batch 700 Loss 1.5938 Accuracy 0.5466\n"
     ]
    },
    {
     "name": "stdout",
     "output_type": "stream",
     "text": [
      "Epoch 45 Batch 800 Loss 1.5727 Accuracy 0.5471\n"
     ]
    },
    {
     "name": "stdout",
     "output_type": "stream",
     "text": [
      "Saving checkpoint for epoch 45 at checkpoints/ckpt-9\n",
      "Epoch 45 Loss 1.5617 Accuracy 0.5474\n",
      "Time taken for 1 epoch: 81.9579553604126 secs\n",
      "\n",
      "Epoch 46 Batch 0 Loss 2.0506 Accuracy 0.5474\n"
     ]
    },
    {
     "name": "stdout",
     "output_type": "stream",
     "text": [
      "Epoch 46 Batch 100 Loss 1.7691 Accuracy 0.5478\n"
     ]
    },
    {
     "name": "stdout",
     "output_type": "stream",
     "text": [
      "Epoch 46 Batch 200 Loss 1.7213 Accuracy 0.5482\n"
     ]
    },
    {
     "name": "stdout",
     "output_type": "stream",
     "text": [
      "Epoch 46 Batch 300 Loss 1.6862 Accuracy 0.5486\n"
     ]
    },
    {
     "name": "stdout",
     "output_type": "stream",
     "text": [
      "Epoch 46 Batch 400 Loss 1.6654 Accuracy 0.5490\n"
     ]
    },
    {
     "name": "stdout",
     "output_type": "stream",
     "text": [
      "Epoch 46 Batch 500 Loss 1.6346 Accuracy 0.5495\n"
     ]
    },
    {
     "name": "stdout",
     "output_type": "stream",
     "text": [
      "Epoch 46 Batch 600 Loss 1.6014 Accuracy 0.5500\n"
     ]
    },
    {
     "name": "stdout",
     "output_type": "stream",
     "text": [
      "Epoch 46 Batch 700 Loss 1.5727 Accuracy 0.5506\n"
     ]
    },
    {
     "name": "stdout",
     "output_type": "stream",
     "text": [
      "Epoch 46 Batch 800 Loss 1.5515 Accuracy 0.5511\n"
     ]
    },
    {
     "name": "stdout",
     "output_type": "stream",
     "text": [
      "Epoch 46 Loss 1.5411 Accuracy 0.5514\n",
      "Time taken for 1 epoch: 81.061851978302 secs\n",
      "\n",
      "Epoch 47 Batch 0 Loss 1.9591 Accuracy 0.5514\n"
     ]
    },
    {
     "name": "stdout",
     "output_type": "stream",
     "text": [
      "Epoch 47 Batch 100 Loss 1.7461 Accuracy 0.5518\n"
     ]
    },
    {
     "name": "stdout",
     "output_type": "stream",
     "text": [
      "Epoch 47 Batch 200 Loss 1.7010 Accuracy 0.5522\n"
     ]
    },
    {
     "name": "stdout",
     "output_type": "stream",
     "text": [
      "Epoch 47 Batch 300 Loss 1.6663 Accuracy 0.5526\n"
     ]
    },
    {
     "name": "stdout",
     "output_type": "stream",
     "text": [
      "Epoch 47 Batch 400 Loss 1.6452 Accuracy 0.5530\n"
     ]
    },
    {
     "name": "stdout",
     "output_type": "stream",
     "text": [
      "Epoch 47 Batch 500 Loss 1.6141 Accuracy 0.5535\n"
     ]
    },
    {
     "name": "stdout",
     "output_type": "stream",
     "text": [
      "Epoch 47 Batch 600 Loss 1.5817 Accuracy 0.5540\n"
     ]
    },
    {
     "name": "stdout",
     "output_type": "stream",
     "text": [
      "Epoch 47 Batch 700 Loss 1.5541 Accuracy 0.5545\n"
     ]
    },
    {
     "name": "stdout",
     "output_type": "stream",
     "text": [
      "Epoch 47 Batch 800 Loss 1.5340 Accuracy 0.5550\n"
     ]
    },
    {
     "name": "stdout",
     "output_type": "stream",
     "text": [
      "Epoch 47 Loss 1.5238 Accuracy 0.5553\n",
      "Time taken for 1 epoch: 81.19023323059082 secs\n",
      "\n",
      "Epoch 48 Batch 0 Loss 1.9928 Accuracy 0.5553\n"
     ]
    },
    {
     "name": "stdout",
     "output_type": "stream",
     "text": [
      "Epoch 48 Batch 100 Loss 1.7369 Accuracy 0.5557\n"
     ]
    },
    {
     "name": "stdout",
     "output_type": "stream",
     "text": [
      "Epoch 48 Batch 200 Loss 1.6896 Accuracy 0.5561\n"
     ]
    },
    {
     "name": "stdout",
     "output_type": "stream",
     "text": [
      "Epoch 48 Batch 300 Loss 1.6539 Accuracy 0.5565\n"
     ]
    },
    {
     "name": "stdout",
     "output_type": "stream",
     "text": [
      "Epoch 48 Batch 400 Loss 1.6319 Accuracy 0.5569\n"
     ]
    },
    {
     "name": "stdout",
     "output_type": "stream",
     "text": [
      "Epoch 48 Batch 500 Loss 1.6000 Accuracy 0.5573\n"
     ]
    },
    {
     "name": "stdout",
     "output_type": "stream",
     "text": [
      "Epoch 48 Batch 600 Loss 1.5679 Accuracy 0.5578\n"
     ]
    },
    {
     "name": "stdout",
     "output_type": "stream",
     "text": [
      "Epoch 48 Batch 700 Loss 1.5392 Accuracy 0.5583\n"
     ]
    },
    {
     "name": "stdout",
     "output_type": "stream",
     "text": [
      "Epoch 48 Batch 800 Loss 1.5190 Accuracy 0.5588\n"
     ]
    },
    {
     "name": "stdout",
     "output_type": "stream",
     "text": [
      "Epoch 48 Loss 1.5082 Accuracy 0.5591\n",
      "Time taken for 1 epoch: 81.05419087409973 secs\n",
      "\n",
      "Epoch 49 Batch 0 Loss 1.9210 Accuracy 0.5591\n"
     ]
    },
    {
     "name": "stdout",
     "output_type": "stream",
     "text": [
      "Epoch 49 Batch 100 Loss 1.7034 Accuracy 0.5595\n"
     ]
    },
    {
     "name": "stdout",
     "output_type": "stream",
     "text": [
      "Epoch 49 Batch 200 Loss 1.6617 Accuracy 0.5599\n"
     ]
    },
    {
     "name": "stdout",
     "output_type": "stream",
     "text": [
      "Epoch 49 Batch 300 Loss 1.6299 Accuracy 0.5603\n"
     ]
    },
    {
     "name": "stdout",
     "output_type": "stream",
     "text": [
      "Epoch 49 Batch 400 Loss 1.6096 Accuracy 0.5607\n"
     ]
    },
    {
     "name": "stdout",
     "output_type": "stream",
     "text": [
      "Epoch 49 Batch 500 Loss 1.5779 Accuracy 0.5611\n"
     ]
    },
    {
     "name": "stdout",
     "output_type": "stream",
     "text": [
      "Epoch 49 Batch 600 Loss 1.5476 Accuracy 0.5616\n"
     ]
    },
    {
     "name": "stdout",
     "output_type": "stream",
     "text": [
      "Epoch 49 Batch 700 Loss 1.5193 Accuracy 0.5621\n"
     ]
    },
    {
     "name": "stdout",
     "output_type": "stream",
     "text": [
      "Epoch 49 Batch 800 Loss 1.4992 Accuracy 0.5626\n"
     ]
    },
    {
     "name": "stdout",
     "output_type": "stream",
     "text": [
      "Epoch 49 Loss 1.4890 Accuracy 0.5629\n",
      "Time taken for 1 epoch: 81.18816542625427 secs\n",
      "\n",
      "Epoch 50 Batch 0 Loss 2.1442 Accuracy 0.5629\n"
     ]
    },
    {
     "name": "stdout",
     "output_type": "stream",
     "text": [
      "Epoch 50 Batch 100 Loss 1.6965 Accuracy 0.5632\n"
     ]
    },
    {
     "name": "stdout",
     "output_type": "stream",
     "text": [
      "Epoch 50 Batch 200 Loss 1.6508 Accuracy 0.5636\n"
     ]
    },
    {
     "name": "stdout",
     "output_type": "stream",
     "text": [
      "Epoch 50 Batch 300 Loss 1.6183 Accuracy 0.5639\n"
     ]
    },
    {
     "name": "stdout",
     "output_type": "stream",
     "text": [
      "Epoch 50 Batch 400 Loss 1.5948 Accuracy 0.5643\n"
     ]
    },
    {
     "name": "stdout",
     "output_type": "stream",
     "text": [
      "Epoch 50 Batch 500 Loss 1.5650 Accuracy 0.5648\n"
     ]
    },
    {
     "name": "stdout",
     "output_type": "stream",
     "text": [
      "Epoch 50 Batch 600 Loss 1.5326 Accuracy 0.5653\n"
     ]
    },
    {
     "name": "stdout",
     "output_type": "stream",
     "text": [
      "Epoch 50 Batch 700 Loss 1.5058 Accuracy 0.5657\n"
     ]
    },
    {
     "name": "stdout",
     "output_type": "stream",
     "text": [
      "Epoch 50 Batch 800 Loss 1.4865 Accuracy 0.5662\n"
     ]
    },
    {
     "name": "stdout",
     "output_type": "stream",
     "text": [
      "Saving checkpoint for epoch 50 at checkpoints/ckpt-10\n",
      "Epoch 50 Loss 1.4766 Accuracy 0.5665\n",
      "Time taken for 1 epoch: 81.85488939285278 secs\n",
      "\n",
      "Epoch 51 Batch 0 Loss 1.9659 Accuracy 0.5665\n"
     ]
    },
    {
     "name": "stdout",
     "output_type": "stream",
     "text": [
      "Epoch 51 Batch 100 Loss 1.6857 Accuracy 0.5668\n"
     ]
    },
    {
     "name": "stdout",
     "output_type": "stream",
     "text": [
      "Epoch 51 Batch 200 Loss 1.6397 Accuracy 0.5672\n"
     ]
    },
    {
     "name": "stdout",
     "output_type": "stream",
     "text": [
      "Epoch 51 Batch 300 Loss 1.6047 Accuracy 0.5676\n"
     ]
    },
    {
     "name": "stdout",
     "output_type": "stream",
     "text": [
      "Epoch 51 Batch 400 Loss 1.5839 Accuracy 0.5679\n"
     ]
    },
    {
     "name": "stdout",
     "output_type": "stream",
     "text": [
      "Epoch 51 Batch 500 Loss 1.5524 Accuracy 0.5684\n"
     ]
    },
    {
     "name": "stdout",
     "output_type": "stream",
     "text": [
      "Epoch 51 Batch 600 Loss 1.5192 Accuracy 0.5688\n"
     ]
    },
    {
     "name": "stdout",
     "output_type": "stream",
     "text": [
      "Epoch 51 Batch 700 Loss 1.4914 Accuracy 0.5693\n"
     ]
    },
    {
     "name": "stdout",
     "output_type": "stream",
     "text": [
      "Epoch 51 Batch 800 Loss 1.4720 Accuracy 0.5698\n"
     ]
    },
    {
     "name": "stdout",
     "output_type": "stream",
     "text": [
      "Epoch 51 Loss 1.4617 Accuracy 0.5700\n",
      "Time taken for 1 epoch: 81.06816029548645 secs\n",
      "\n",
      "Epoch 52 Batch 0 Loss 1.8222 Accuracy 0.5700\n"
     ]
    },
    {
     "name": "stdout",
     "output_type": "stream",
     "text": [
      "Epoch 52 Batch 100 Loss 1.6599 Accuracy 0.5704\n"
     ]
    },
    {
     "name": "stdout",
     "output_type": "stream",
     "text": [
      "Epoch 52 Batch 200 Loss 1.6183 Accuracy 0.5707\n"
     ]
    },
    {
     "name": "stdout",
     "output_type": "stream",
     "text": [
      "Epoch 52 Batch 300 Loss 1.5853 Accuracy 0.5711\n"
     ]
    },
    {
     "name": "stdout",
     "output_type": "stream",
     "text": [
      "Epoch 52 Batch 400 Loss 1.5656 Accuracy 0.5714\n"
     ]
    },
    {
     "name": "stdout",
     "output_type": "stream",
     "text": [
      "Epoch 52 Batch 500 Loss 1.5338 Accuracy 0.5719\n"
     ]
    },
    {
     "name": "stdout",
     "output_type": "stream",
     "text": [
      "Epoch 52 Batch 600 Loss 1.5020 Accuracy 0.5723\n"
     ]
    },
    {
     "name": "stdout",
     "output_type": "stream",
     "text": [
      "Epoch 52 Batch 700 Loss 1.4762 Accuracy 0.5728\n"
     ]
    },
    {
     "name": "stdout",
     "output_type": "stream",
     "text": [
      "Epoch 52 Batch 800 Loss 1.4574 Accuracy 0.5732\n"
     ]
    },
    {
     "name": "stdout",
     "output_type": "stream",
     "text": [
      "Epoch 52 Loss 1.4466 Accuracy 0.5735\n",
      "Time taken for 1 epoch: 81.05905675888062 secs\n",
      "\n",
      "Epoch 53 Batch 0 Loss 2.0031 Accuracy 0.5735\n"
     ]
    },
    {
     "name": "stdout",
     "output_type": "stream",
     "text": [
      "Epoch 53 Batch 100 Loss 1.6437 Accuracy 0.5738\n"
     ]
    },
    {
     "name": "stdout",
     "output_type": "stream",
     "text": [
      "Epoch 53 Batch 200 Loss 1.5997 Accuracy 0.5742\n"
     ]
    },
    {
     "name": "stdout",
     "output_type": "stream",
     "text": [
      "Epoch 53 Batch 300 Loss 1.5673 Accuracy 0.5745\n"
     ]
    },
    {
     "name": "stdout",
     "output_type": "stream",
     "text": [
      "Epoch 53 Batch 400 Loss 1.5503 Accuracy 0.5749\n"
     ]
    },
    {
     "name": "stdout",
     "output_type": "stream",
     "text": [
      "Epoch 53 Batch 500 Loss 1.5185 Accuracy 0.5753\n"
     ]
    },
    {
     "name": "stdout",
     "output_type": "stream",
     "text": [
      "Epoch 53 Batch 600 Loss 1.4868 Accuracy 0.5757\n"
     ]
    },
    {
     "name": "stdout",
     "output_type": "stream",
     "text": [
      "Epoch 53 Batch 700 Loss 1.4607 Accuracy 0.5762\n"
     ]
    },
    {
     "name": "stdout",
     "output_type": "stream",
     "text": [
      "Epoch 53 Batch 800 Loss 1.4405 Accuracy 0.5766\n"
     ]
    },
    {
     "name": "stdout",
     "output_type": "stream",
     "text": [
      "Epoch 53 Loss 1.4307 Accuracy 0.5769\n",
      "Time taken for 1 epoch: 81.05105948448181 secs\n",
      "\n",
      "Epoch 54 Batch 0 Loss 1.9513 Accuracy 0.5769\n"
     ]
    },
    {
     "name": "stdout",
     "output_type": "stream",
     "text": [
      "Epoch 54 Batch 100 Loss 1.6300 Accuracy 0.5772\n"
     ]
    },
    {
     "name": "stdout",
     "output_type": "stream",
     "text": [
      "Epoch 54 Batch 200 Loss 1.5902 Accuracy 0.5775\n"
     ]
    },
    {
     "name": "stdout",
     "output_type": "stream",
     "text": [
      "Epoch 54 Batch 300 Loss 1.5600 Accuracy 0.5779\n"
     ]
    },
    {
     "name": "stdout",
     "output_type": "stream",
     "text": [
      "Epoch 54 Batch 400 Loss 1.5379 Accuracy 0.5782\n"
     ]
    },
    {
     "name": "stdout",
     "output_type": "stream",
     "text": [
      "Epoch 54 Batch 500 Loss 1.5072 Accuracy 0.5786\n"
     ]
    },
    {
     "name": "stdout",
     "output_type": "stream",
     "text": [
      "Epoch 54 Batch 600 Loss 1.4766 Accuracy 0.5790\n"
     ]
    },
    {
     "name": "stdout",
     "output_type": "stream",
     "text": [
      "Epoch 54 Batch 700 Loss 1.4505 Accuracy 0.5795\n"
     ]
    },
    {
     "name": "stdout",
     "output_type": "stream",
     "text": [
      "Epoch 54 Batch 800 Loss 1.4305 Accuracy 0.5799\n"
     ]
    },
    {
     "name": "stdout",
     "output_type": "stream",
     "text": [
      "Epoch 54 Loss 1.4206 Accuracy 0.5802\n",
      "Time taken for 1 epoch: 81.05930233001709 secs\n",
      "\n",
      "Epoch 55 Batch 0 Loss 1.9562 Accuracy 0.5802\n"
     ]
    },
    {
     "name": "stdout",
     "output_type": "stream",
     "text": [
      "Epoch 55 Batch 100 Loss 1.6197 Accuracy 0.5805\n"
     ]
    },
    {
     "name": "stdout",
     "output_type": "stream",
     "text": [
      "Epoch 55 Batch 200 Loss 1.5779 Accuracy 0.5808\n"
     ]
    },
    {
     "name": "stdout",
     "output_type": "stream",
     "text": [
      "Epoch 55 Batch 300 Loss 1.5451 Accuracy 0.5811\n"
     ]
    },
    {
     "name": "stdout",
     "output_type": "stream",
     "text": [
      "Epoch 55 Batch 400 Loss 1.5241 Accuracy 0.5815\n"
     ]
    },
    {
     "name": "stdout",
     "output_type": "stream",
     "text": [
      "Epoch 55 Batch 500 Loss 1.4934 Accuracy 0.5819\n"
     ]
    },
    {
     "name": "stdout",
     "output_type": "stream",
     "text": [
      "Epoch 55 Batch 600 Loss 1.4617 Accuracy 0.5823\n"
     ]
    },
    {
     "name": "stdout",
     "output_type": "stream",
     "text": [
      "Epoch 55 Batch 700 Loss 1.4350 Accuracy 0.5827\n"
     ]
    },
    {
     "name": "stdout",
     "output_type": "stream",
     "text": [
      "Epoch 55 Batch 800 Loss 1.4158 Accuracy 0.5831\n"
     ]
    },
    {
     "name": "stdout",
     "output_type": "stream",
     "text": [
      "Saving checkpoint for epoch 55 at checkpoints/ckpt-11\n",
      "Epoch 55 Loss 1.4067 Accuracy 0.5834\n",
      "Time taken for 1 epoch: 82.00072574615479 secs\n",
      "\n",
      "Epoch 56 Batch 0 Loss 1.8199 Accuracy 0.5834\n"
     ]
    },
    {
     "name": "stdout",
     "output_type": "stream",
     "text": [
      "Epoch 56 Batch 100 Loss 1.6096 Accuracy 0.5837\n"
     ]
    },
    {
     "name": "stdout",
     "output_type": "stream",
     "text": [
      "Epoch 56 Batch 200 Loss 1.5693 Accuracy 0.5840\n"
     ]
    },
    {
     "name": "stdout",
     "output_type": "stream",
     "text": [
      "Epoch 56 Batch 300 Loss 1.5355 Accuracy 0.5843\n"
     ]
    },
    {
     "name": "stdout",
     "output_type": "stream",
     "text": [
      "Epoch 56 Batch 400 Loss 1.5160 Accuracy 0.5847\n"
     ]
    },
    {
     "name": "stdout",
     "output_type": "stream",
     "text": [
      "Epoch 56 Batch 500 Loss 1.4842 Accuracy 0.5851\n"
     ]
    },
    {
     "name": "stdout",
     "output_type": "stream",
     "text": [
      "Epoch 56 Batch 600 Loss 1.4519 Accuracy 0.5855\n"
     ]
    },
    {
     "name": "stdout",
     "output_type": "stream",
     "text": [
      "Epoch 56 Batch 700 Loss 1.4251 Accuracy 0.5859\n"
     ]
    },
    {
     "name": "stdout",
     "output_type": "stream",
     "text": [
      "Epoch 56 Batch 800 Loss 1.4057 Accuracy 0.5863\n"
     ]
    },
    {
     "name": "stdout",
     "output_type": "stream",
     "text": [
      "Epoch 56 Loss 1.3960 Accuracy 0.5866\n",
      "Time taken for 1 epoch: 81.19842958450317 secs\n",
      "\n",
      "Epoch 57 Batch 0 Loss 1.9229 Accuracy 0.5866\n"
     ]
    },
    {
     "name": "stdout",
     "output_type": "stream",
     "text": [
      "Epoch 57 Batch 100 Loss 1.5841 Accuracy 0.5868\n"
     ]
    },
    {
     "name": "stdout",
     "output_type": "stream",
     "text": [
      "Epoch 57 Batch 200 Loss 1.5458 Accuracy 0.5871\n"
     ]
    },
    {
     "name": "stdout",
     "output_type": "stream",
     "text": [
      "Epoch 57 Batch 300 Loss 1.5170 Accuracy 0.5875\n"
     ]
    },
    {
     "name": "stdout",
     "output_type": "stream",
     "text": [
      "Epoch 57 Batch 400 Loss 1.4970 Accuracy 0.5878\n"
     ]
    },
    {
     "name": "stdout",
     "output_type": "stream",
     "text": [
      "Epoch 57 Batch 500 Loss 1.4683 Accuracy 0.5882\n"
     ]
    },
    {
     "name": "stdout",
     "output_type": "stream",
     "text": [
      "Epoch 57 Batch 600 Loss 1.4391 Accuracy 0.5886\n"
     ]
    },
    {
     "name": "stdout",
     "output_type": "stream",
     "text": [
      "Epoch 57 Batch 700 Loss 1.4134 Accuracy 0.5890\n"
     ]
    },
    {
     "name": "stdout",
     "output_type": "stream",
     "text": [
      "Epoch 57 Batch 800 Loss 1.3939 Accuracy 0.5894\n"
     ]
    },
    {
     "name": "stdout",
     "output_type": "stream",
     "text": [
      "Epoch 57 Loss 1.3830 Accuracy 0.5896\n",
      "Time taken for 1 epoch: 81.19788765907288 secs\n",
      "\n",
      "Epoch 58 Batch 0 Loss 2.0067 Accuracy 0.5896\n"
     ]
    },
    {
     "name": "stdout",
     "output_type": "stream",
     "text": [
      "Epoch 58 Batch 100 Loss 1.5782 Accuracy 0.5899\n"
     ]
    },
    {
     "name": "stdout",
     "output_type": "stream",
     "text": [
      "Epoch 58 Batch 200 Loss 1.5363 Accuracy 0.5902\n"
     ]
    },
    {
     "name": "stdout",
     "output_type": "stream",
     "text": [
      "Epoch 58 Batch 300 Loss 1.5061 Accuracy 0.5905\n"
     ]
    },
    {
     "name": "stdout",
     "output_type": "stream",
     "text": [
      "Epoch 58 Batch 400 Loss 1.4838 Accuracy 0.5909\n"
     ]
    },
    {
     "name": "stdout",
     "output_type": "stream",
     "text": [
      "Epoch 58 Batch 500 Loss 1.4543 Accuracy 0.5912\n"
     ]
    },
    {
     "name": "stdout",
     "output_type": "stream",
     "text": [
      "Epoch 58 Batch 600 Loss 1.4249 Accuracy 0.5916\n"
     ]
    },
    {
     "name": "stdout",
     "output_type": "stream",
     "text": [
      "Epoch 58 Batch 700 Loss 1.3975 Accuracy 0.5920\n"
     ]
    },
    {
     "name": "stdout",
     "output_type": "stream",
     "text": [
      "Epoch 58 Batch 800 Loss 1.3796 Accuracy 0.5924\n"
     ]
    },
    {
     "name": "stdout",
     "output_type": "stream",
     "text": [
      "Epoch 58 Loss 1.3693 Accuracy 0.5926\n",
      "Time taken for 1 epoch: 81.06191039085388 secs\n",
      "\n",
      "Epoch 59 Batch 0 Loss 1.7790 Accuracy 0.5926\n"
     ]
    },
    {
     "name": "stdout",
     "output_type": "stream",
     "text": [
      "Epoch 59 Batch 100 Loss 1.5694 Accuracy 0.5929\n"
     ]
    },
    {
     "name": "stdout",
     "output_type": "stream",
     "text": [
      "Epoch 59 Batch 200 Loss 1.5243 Accuracy 0.5932\n"
     ]
    },
    {
     "name": "stdout",
     "output_type": "stream",
     "text": [
      "Epoch 59 Batch 300 Loss 1.4923 Accuracy 0.5935\n"
     ]
    },
    {
     "name": "stdout",
     "output_type": "stream",
     "text": [
      "Epoch 59 Batch 400 Loss 1.4738 Accuracy 0.5938\n"
     ]
    },
    {
     "name": "stdout",
     "output_type": "stream",
     "text": [
      "Epoch 59 Batch 500 Loss 1.4447 Accuracy 0.5942\n"
     ]
    },
    {
     "name": "stdout",
     "output_type": "stream",
     "text": [
      "Epoch 59 Batch 600 Loss 1.4141 Accuracy 0.5946\n"
     ]
    },
    {
     "name": "stdout",
     "output_type": "stream",
     "text": [
      "Epoch 59 Batch 700 Loss 1.3876 Accuracy 0.5950\n"
     ]
    },
    {
     "name": "stdout",
     "output_type": "stream",
     "text": [
      "Epoch 59 Batch 800 Loss 1.3687 Accuracy 0.5954\n"
     ]
    },
    {
     "name": "stdout",
     "output_type": "stream",
     "text": [
      "Epoch 59 Loss 1.3588 Accuracy 0.5956\n",
      "Time taken for 1 epoch: 81.05746984481812 secs\n",
      "\n",
      "Epoch 60 Batch 0 Loss 1.8349 Accuracy 0.5956\n"
     ]
    },
    {
     "name": "stdout",
     "output_type": "stream",
     "text": [
      "Epoch 60 Batch 100 Loss 1.5424 Accuracy 0.5959\n"
     ]
    },
    {
     "name": "stdout",
     "output_type": "stream",
     "text": [
      "Epoch 60 Batch 200 Loss 1.5111 Accuracy 0.5962\n"
     ]
    },
    {
     "name": "stdout",
     "output_type": "stream",
     "text": [
      "Epoch 60 Batch 300 Loss 1.4832 Accuracy 0.5965\n"
     ]
    },
    {
     "name": "stdout",
     "output_type": "stream",
     "text": [
      "Epoch 60 Batch 400 Loss 1.4645 Accuracy 0.5968\n"
     ]
    },
    {
     "name": "stdout",
     "output_type": "stream",
     "text": [
      "Epoch 60 Batch 500 Loss 1.4332 Accuracy 0.5971\n"
     ]
    },
    {
     "name": "stdout",
     "output_type": "stream",
     "text": [
      "Epoch 60 Batch 600 Loss 1.4024 Accuracy 0.5975\n"
     ]
    },
    {
     "name": "stdout",
     "output_type": "stream",
     "text": [
      "Epoch 60 Batch 700 Loss 1.3772 Accuracy 0.5979\n"
     ]
    },
    {
     "name": "stdout",
     "output_type": "stream",
     "text": [
      "Epoch 60 Batch 800 Loss 1.3576 Accuracy 0.5983\n"
     ]
    },
    {
     "name": "stdout",
     "output_type": "stream",
     "text": [
      "Saving checkpoint for epoch 60 at checkpoints/ckpt-12\n",
      "Epoch 60 Loss 1.3482 Accuracy 0.5985\n",
      "Time taken for 1 epoch: 81.98666906356812 secs\n",
      "\n",
      "Epoch 61 Batch 0 Loss 1.7048 Accuracy 0.5985\n"
     ]
    },
    {
     "name": "stdout",
     "output_type": "stream",
     "text": [
      "Epoch 61 Batch 100 Loss 1.5338 Accuracy 0.5988\n"
     ]
    },
    {
     "name": "stdout",
     "output_type": "stream",
     "text": [
      "Epoch 61 Batch 200 Loss 1.4967 Accuracy 0.5990\n"
     ]
    },
    {
     "name": "stdout",
     "output_type": "stream",
     "text": [
      "Epoch 61 Batch 300 Loss 1.4684 Accuracy 0.5993\n"
     ]
    },
    {
     "name": "stdout",
     "output_type": "stream",
     "text": [
      "Epoch 61 Batch 400 Loss 1.4494 Accuracy 0.5996\n"
     ]
    },
    {
     "name": "stdout",
     "output_type": "stream",
     "text": [
      "Epoch 61 Batch 500 Loss 1.4171 Accuracy 0.6000\n"
     ]
    },
    {
     "name": "stdout",
     "output_type": "stream",
     "text": [
      "Epoch 61 Batch 600 Loss 1.3870 Accuracy 0.6004\n"
     ]
    },
    {
     "name": "stdout",
     "output_type": "stream",
     "text": [
      "Epoch 61 Batch 700 Loss 1.3621 Accuracy 0.6007\n"
     ]
    },
    {
     "name": "stdout",
     "output_type": "stream",
     "text": [
      "Epoch 61 Batch 800 Loss 1.3448 Accuracy 0.6011\n"
     ]
    },
    {
     "name": "stdout",
     "output_type": "stream",
     "text": [
      "Epoch 61 Loss 1.3358 Accuracy 0.6013\n",
      "Time taken for 1 epoch: 81.17162275314331 secs\n",
      "\n",
      "Epoch 62 Batch 0 Loss 2.0228 Accuracy 0.6013\n"
     ]
    },
    {
     "name": "stdout",
     "output_type": "stream",
     "text": [
      "Epoch 62 Batch 100 Loss 1.5121 Accuracy 0.6016\n"
     ]
    },
    {
     "name": "stdout",
     "output_type": "stream",
     "text": [
      "Epoch 62 Batch 200 Loss 1.4817 Accuracy 0.6019\n"
     ]
    },
    {
     "name": "stdout",
     "output_type": "stream",
     "text": [
      "Epoch 62 Batch 300 Loss 1.4538 Accuracy 0.6021\n"
     ]
    },
    {
     "name": "stdout",
     "output_type": "stream",
     "text": [
      "Epoch 62 Batch 400 Loss 1.4346 Accuracy 0.6024\n"
     ]
    },
    {
     "name": "stdout",
     "output_type": "stream",
     "text": [
      "Epoch 62 Batch 500 Loss 1.4053 Accuracy 0.6028\n"
     ]
    },
    {
     "name": "stdout",
     "output_type": "stream",
     "text": [
      "Epoch 62 Batch 600 Loss 1.3755 Accuracy 0.6031\n"
     ]
    },
    {
     "name": "stdout",
     "output_type": "stream",
     "text": [
      "Epoch 62 Batch 700 Loss 1.3511 Accuracy 0.6035\n"
     ]
    },
    {
     "name": "stdout",
     "output_type": "stream",
     "text": [
      "Epoch 62 Batch 800 Loss 1.3326 Accuracy 0.6039\n"
     ]
    },
    {
     "name": "stdout",
     "output_type": "stream",
     "text": [
      "Epoch 62 Loss 1.3236 Accuracy 0.6041\n",
      "Time taken for 1 epoch: 81.05212497711182 secs\n",
      "\n",
      "Epoch 63 Batch 0 Loss 1.7695 Accuracy 0.6041\n"
     ]
    },
    {
     "name": "stdout",
     "output_type": "stream",
     "text": [
      "Epoch 63 Batch 100 Loss 1.5231 Accuracy 0.6043\n"
     ]
    },
    {
     "name": "stdout",
     "output_type": "stream",
     "text": [
      "Epoch 63 Batch 200 Loss 1.4774 Accuracy 0.6046\n"
     ]
    },
    {
     "name": "stdout",
     "output_type": "stream",
     "text": [
      "Epoch 63 Batch 300 Loss 1.4482 Accuracy 0.6049\n"
     ]
    },
    {
     "name": "stdout",
     "output_type": "stream",
     "text": [
      "Epoch 63 Batch 400 Loss 1.4292 Accuracy 0.6052\n"
     ]
    },
    {
     "name": "stdout",
     "output_type": "stream",
     "text": [
      "Epoch 63 Batch 500 Loss 1.3991 Accuracy 0.6055\n"
     ]
    },
    {
     "name": "stdout",
     "output_type": "stream",
     "text": [
      "Epoch 63 Batch 600 Loss 1.3697 Accuracy 0.6059\n"
     ]
    },
    {
     "name": "stdout",
     "output_type": "stream",
     "text": [
      "Epoch 63 Batch 700 Loss 1.3431 Accuracy 0.6062\n"
     ]
    },
    {
     "name": "stdout",
     "output_type": "stream",
     "text": [
      "Epoch 63 Batch 800 Loss 1.3246 Accuracy 0.6066\n"
     ]
    },
    {
     "name": "stdout",
     "output_type": "stream",
     "text": [
      "Epoch 63 Loss 1.3164 Accuracy 0.6068\n",
      "Time taken for 1 epoch: 81.17230033874512 secs\n",
      "\n",
      "Epoch 64 Batch 0 Loss 1.7166 Accuracy 0.6068\n"
     ]
    },
    {
     "name": "stdout",
     "output_type": "stream",
     "text": [
      "Epoch 64 Batch 100 Loss 1.5003 Accuracy 0.6070\n"
     ]
    },
    {
     "name": "stdout",
     "output_type": "stream",
     "text": [
      "Epoch 64 Batch 200 Loss 1.4656 Accuracy 0.6073\n"
     ]
    },
    {
     "name": "stdout",
     "output_type": "stream",
     "text": [
      "Epoch 64 Batch 300 Loss 1.4379 Accuracy 0.6076\n"
     ]
    },
    {
     "name": "stdout",
     "output_type": "stream",
     "text": [
      "Epoch 64 Batch 400 Loss 1.4171 Accuracy 0.6079\n"
     ]
    },
    {
     "name": "stdout",
     "output_type": "stream",
     "text": [
      "Epoch 64 Batch 500 Loss 1.3884 Accuracy 0.6082\n"
     ]
    },
    {
     "name": "stdout",
     "output_type": "stream",
     "text": [
      "Epoch 64 Batch 600 Loss 1.3587 Accuracy 0.6085\n"
     ]
    },
    {
     "name": "stdout",
     "output_type": "stream",
     "text": [
      "Epoch 64 Batch 700 Loss 1.3322 Accuracy 0.6089\n"
     ]
    },
    {
     "name": "stdout",
     "output_type": "stream",
     "text": [
      "Epoch 64 Batch 800 Loss 1.3143 Accuracy 0.6092\n"
     ]
    },
    {
     "name": "stdout",
     "output_type": "stream",
     "text": [
      "Epoch 64 Loss 1.3061 Accuracy 0.6094\n",
      "Time taken for 1 epoch: 81.0682909488678 secs\n",
      "\n",
      "Epoch 65 Batch 0 Loss 1.6068 Accuracy 0.6094\n"
     ]
    },
    {
     "name": "stdout",
     "output_type": "stream",
     "text": [
      "Epoch 65 Batch 100 Loss 1.4947 Accuracy 0.6097\n"
     ]
    },
    {
     "name": "stdout",
     "output_type": "stream",
     "text": [
      "Epoch 65 Batch 200 Loss 1.4590 Accuracy 0.6099\n"
     ]
    },
    {
     "name": "stdout",
     "output_type": "stream",
     "text": [
      "Epoch 65 Batch 300 Loss 1.4250 Accuracy 0.6102\n"
     ]
    },
    {
     "name": "stdout",
     "output_type": "stream",
     "text": [
      "Epoch 65 Batch 400 Loss 1.4070 Accuracy 0.6105\n"
     ]
    },
    {
     "name": "stdout",
     "output_type": "stream",
     "text": [
      "Epoch 65 Batch 500 Loss 1.3775 Accuracy 0.6108\n"
     ]
    },
    {
     "name": "stdout",
     "output_type": "stream",
     "text": [
      "Epoch 65 Batch 600 Loss 1.3472 Accuracy 0.6111\n"
     ]
    },
    {
     "name": "stdout",
     "output_type": "stream",
     "text": [
      "Epoch 65 Batch 700 Loss 1.3216 Accuracy 0.6115\n"
     ]
    },
    {
     "name": "stdout",
     "output_type": "stream",
     "text": [
      "Epoch 65 Batch 800 Loss 1.3041 Accuracy 0.6118\n"
     ]
    },
    {
     "name": "stdout",
     "output_type": "stream",
     "text": [
      "Saving checkpoint for epoch 65 at checkpoints/ckpt-13\n",
      "Epoch 65 Loss 1.2954 Accuracy 0.6120\n",
      "Time taken for 1 epoch: 81.86037421226501 secs\n",
      "\n",
      "Epoch 66 Batch 0 Loss 1.6214 Accuracy 0.6121\n"
     ]
    },
    {
     "name": "stdout",
     "output_type": "stream",
     "text": [
      "Epoch 66 Batch 100 Loss 1.4777 Accuracy 0.6123\n"
     ]
    },
    {
     "name": "stdout",
     "output_type": "stream",
     "text": [
      "Epoch 66 Batch 200 Loss 1.4410 Accuracy 0.6125\n"
     ]
    },
    {
     "name": "stdout",
     "output_type": "stream",
     "text": [
      "Epoch 66 Batch 300 Loss 1.4138 Accuracy 0.6128\n"
     ]
    },
    {
     "name": "stdout",
     "output_type": "stream",
     "text": [
      "Epoch 66 Batch 400 Loss 1.3944 Accuracy 0.6131\n"
     ]
    },
    {
     "name": "stdout",
     "output_type": "stream",
     "text": [
      "Epoch 66 Batch 500 Loss 1.3668 Accuracy 0.6134\n"
     ]
    },
    {
     "name": "stdout",
     "output_type": "stream",
     "text": [
      "Epoch 66 Batch 600 Loss 1.3364 Accuracy 0.6137\n"
     ]
    },
    {
     "name": "stdout",
     "output_type": "stream",
     "text": [
      "Epoch 66 Batch 700 Loss 1.3114 Accuracy 0.6141\n"
     ]
    },
    {
     "name": "stdout",
     "output_type": "stream",
     "text": [
      "Epoch 66 Batch 800 Loss 1.2935 Accuracy 0.6144\n"
     ]
    },
    {
     "name": "stdout",
     "output_type": "stream",
     "text": [
      "Epoch 66 Loss 1.2846 Accuracy 0.6146\n",
      "Time taken for 1 epoch: 81.05107307434082 secs\n",
      "\n",
      "Epoch 67 Batch 0 Loss 1.8160 Accuracy 0.6146\n"
     ]
    },
    {
     "name": "stdout",
     "output_type": "stream",
     "text": [
      "Epoch 67 Batch 100 Loss 1.4732 Accuracy 0.6148\n"
     ]
    },
    {
     "name": "stdout",
     "output_type": "stream",
     "text": [
      "Epoch 67 Batch 200 Loss 1.4323 Accuracy 0.6151\n"
     ]
    },
    {
     "name": "stdout",
     "output_type": "stream",
     "text": [
      "Epoch 67 Batch 300 Loss 1.4085 Accuracy 0.6153\n"
     ]
    },
    {
     "name": "stdout",
     "output_type": "stream",
     "text": [
      "Epoch 67 Batch 400 Loss 1.3903 Accuracy 0.6156\n"
     ]
    },
    {
     "name": "stdout",
     "output_type": "stream",
     "text": [
      "Epoch 67 Batch 500 Loss 1.3617 Accuracy 0.6159\n"
     ]
    },
    {
     "name": "stdout",
     "output_type": "stream",
     "text": [
      "Epoch 67 Batch 600 Loss 1.3316 Accuracy 0.6162\n"
     ]
    },
    {
     "name": "stdout",
     "output_type": "stream",
     "text": [
      "Epoch 67 Batch 700 Loss 1.3058 Accuracy 0.6166\n"
     ]
    },
    {
     "name": "stdout",
     "output_type": "stream",
     "text": [
      "Epoch 67 Batch 800 Loss 1.2870 Accuracy 0.6169\n"
     ]
    },
    {
     "name": "stdout",
     "output_type": "stream",
     "text": [
      "Epoch 67 Loss 1.2785 Accuracy 0.6171\n",
      "Time taken for 1 epoch: 81.11987376213074 secs\n",
      "\n",
      "Epoch 68 Batch 0 Loss 1.5598 Accuracy 0.6171\n"
     ]
    },
    {
     "name": "stdout",
     "output_type": "stream",
     "text": [
      "Epoch 68 Batch 100 Loss 1.4640 Accuracy 0.6173\n"
     ]
    },
    {
     "name": "stdout",
     "output_type": "stream",
     "text": [
      "Epoch 68 Batch 200 Loss 1.4264 Accuracy 0.6176\n"
     ]
    },
    {
     "name": "stdout",
     "output_type": "stream",
     "text": [
      "Epoch 68 Batch 300 Loss 1.3985 Accuracy 0.6178\n"
     ]
    },
    {
     "name": "stdout",
     "output_type": "stream",
     "text": [
      "Epoch 68 Batch 400 Loss 1.3801 Accuracy 0.6181\n"
     ]
    },
    {
     "name": "stdout",
     "output_type": "stream",
     "text": [
      "Epoch 68 Batch 500 Loss 1.3503 Accuracy 0.6184\n"
     ]
    },
    {
     "name": "stdout",
     "output_type": "stream",
     "text": [
      "Epoch 68 Batch 600 Loss 1.3209 Accuracy 0.6187\n"
     ]
    },
    {
     "name": "stdout",
     "output_type": "stream",
     "text": [
      "Epoch 68 Batch 700 Loss 1.2952 Accuracy 0.6190\n"
     ]
    },
    {
     "name": "stdout",
     "output_type": "stream",
     "text": [
      "Epoch 68 Batch 800 Loss 1.2764 Accuracy 0.6193\n"
     ]
    },
    {
     "name": "stdout",
     "output_type": "stream",
     "text": [
      "Epoch 68 Loss 1.2675 Accuracy 0.6195\n",
      "Time taken for 1 epoch: 81.28161907196045 secs\n",
      "\n",
      "Epoch 69 Batch 0 Loss 1.6838 Accuracy 0.6195\n"
     ]
    },
    {
     "name": "stdout",
     "output_type": "stream",
     "text": [
      "Epoch 69 Batch 100 Loss 1.4557 Accuracy 0.6198\n"
     ]
    },
    {
     "name": "stdout",
     "output_type": "stream",
     "text": [
      "Epoch 69 Batch 200 Loss 1.4211 Accuracy 0.6200\n"
     ]
    },
    {
     "name": "stdout",
     "output_type": "stream",
     "text": [
      "Epoch 69 Batch 300 Loss 1.3921 Accuracy 0.6202\n"
     ]
    },
    {
     "name": "stdout",
     "output_type": "stream",
     "text": [
      "Epoch 69 Batch 400 Loss 1.3743 Accuracy 0.6205\n"
     ]
    },
    {
     "name": "stdout",
     "output_type": "stream",
     "text": [
      "Epoch 69 Batch 500 Loss 1.3432 Accuracy 0.6208\n"
     ]
    },
    {
     "name": "stdout",
     "output_type": "stream",
     "text": [
      "Epoch 69 Batch 600 Loss 1.3121 Accuracy 0.6211\n"
     ]
    },
    {
     "name": "stdout",
     "output_type": "stream",
     "text": [
      "Epoch 69 Batch 700 Loss 1.2868 Accuracy 0.6214\n"
     ]
    },
    {
     "name": "stdout",
     "output_type": "stream",
     "text": [
      "Epoch 69 Batch 800 Loss 1.2704 Accuracy 0.6217\n"
     ]
    },
    {
     "name": "stdout",
     "output_type": "stream",
     "text": [
      "Epoch 69 Loss 1.2621 Accuracy 0.6219\n",
      "Time taken for 1 epoch: 81.27909779548645 secs\n",
      "\n",
      "Epoch 70 Batch 0 Loss 1.5967 Accuracy 0.6219\n"
     ]
    },
    {
     "name": "stdout",
     "output_type": "stream",
     "text": [
      "Epoch 70 Batch 100 Loss 1.4499 Accuracy 0.6221\n"
     ]
    },
    {
     "name": "stdout",
     "output_type": "stream",
     "text": [
      "Epoch 70 Batch 200 Loss 1.4096 Accuracy 0.6224\n"
     ]
    },
    {
     "name": "stdout",
     "output_type": "stream",
     "text": [
      "Epoch 70 Batch 300 Loss 1.3832 Accuracy 0.6226\n"
     ]
    },
    {
     "name": "stdout",
     "output_type": "stream",
     "text": [
      "Epoch 70 Batch 400 Loss 1.3649 Accuracy 0.6229\n"
     ]
    },
    {
     "name": "stdout",
     "output_type": "stream",
     "text": [
      "Epoch 70 Batch 500 Loss 1.3346 Accuracy 0.6232\n"
     ]
    },
    {
     "name": "stdout",
     "output_type": "stream",
     "text": [
      "Epoch 70 Batch 600 Loss 1.3038 Accuracy 0.6235\n"
     ]
    },
    {
     "name": "stdout",
     "output_type": "stream",
     "text": [
      "Epoch 70 Batch 700 Loss 1.2784 Accuracy 0.6238\n"
     ]
    },
    {
     "name": "stdout",
     "output_type": "stream",
     "text": [
      "Epoch 70 Batch 800 Loss 1.2612 Accuracy 0.6241\n"
     ]
    },
    {
     "name": "stdout",
     "output_type": "stream",
     "text": [
      "Saving checkpoint for epoch 70 at checkpoints/ckpt-14\n",
      "Epoch 70 Loss 1.2528 Accuracy 0.6243\n",
      "Time taken for 1 epoch: 81.93455290794373 secs\n",
      "\n",
      "Epoch 71 Batch 0 Loss 1.8440 Accuracy 0.6243\n"
     ]
    },
    {
     "name": "stdout",
     "output_type": "stream",
     "text": [
      "Epoch 71 Batch 100 Loss 1.4310 Accuracy 0.6245\n"
     ]
    },
    {
     "name": "stdout",
     "output_type": "stream",
     "text": [
      "Epoch 71 Batch 200 Loss 1.3985 Accuracy 0.6247\n"
     ]
    },
    {
     "name": "stdout",
     "output_type": "stream",
     "text": [
      "Epoch 71 Batch 300 Loss 1.3731 Accuracy 0.6250\n"
     ]
    },
    {
     "name": "stdout",
     "output_type": "stream",
     "text": [
      "Epoch 71 Batch 400 Loss 1.3526 Accuracy 0.6252\n"
     ]
    },
    {
     "name": "stdout",
     "output_type": "stream",
     "text": [
      "Epoch 71 Batch 500 Loss 1.3220 Accuracy 0.6255\n"
     ]
    },
    {
     "name": "stdout",
     "output_type": "stream",
     "text": [
      "Epoch 71 Batch 600 Loss 1.2925 Accuracy 0.6258\n"
     ]
    },
    {
     "name": "stdout",
     "output_type": "stream",
     "text": [
      "Epoch 71 Batch 700 Loss 1.2680 Accuracy 0.6261\n"
     ]
    },
    {
     "name": "stdout",
     "output_type": "stream",
     "text": [
      "Epoch 71 Batch 800 Loss 1.2504 Accuracy 0.6264\n"
     ]
    },
    {
     "name": "stdout",
     "output_type": "stream",
     "text": [
      "Epoch 71 Loss 1.2424 Accuracy 0.6266\n",
      "Time taken for 1 epoch: 81.13903498649597 secs\n",
      "\n",
      "Epoch 72 Batch 0 Loss 1.7950 Accuracy 0.6266\n"
     ]
    },
    {
     "name": "stdout",
     "output_type": "stream",
     "text": [
      "Epoch 72 Batch 100 Loss 1.4289 Accuracy 0.6268\n"
     ]
    },
    {
     "name": "stdout",
     "output_type": "stream",
     "text": [
      "Epoch 72 Batch 200 Loss 1.3931 Accuracy 0.6270\n"
     ]
    },
    {
     "name": "stdout",
     "output_type": "stream",
     "text": [
      "Epoch 72 Batch 300 Loss 1.3657 Accuracy 0.6273\n"
     ]
    },
    {
     "name": "stdout",
     "output_type": "stream",
     "text": [
      "Epoch 72 Batch 400 Loss 1.3465 Accuracy 0.6275\n"
     ]
    },
    {
     "name": "stdout",
     "output_type": "stream",
     "text": [
      "Epoch 72 Batch 500 Loss 1.3177 Accuracy 0.6278\n"
     ]
    },
    {
     "name": "stdout",
     "output_type": "stream",
     "text": [
      "Epoch 72 Batch 600 Loss 1.2882 Accuracy 0.6281\n"
     ]
    },
    {
     "name": "stdout",
     "output_type": "stream",
     "text": [
      "Epoch 72 Batch 700 Loss 1.2635 Accuracy 0.6284\n"
     ]
    },
    {
     "name": "stdout",
     "output_type": "stream",
     "text": [
      "Epoch 72 Batch 800 Loss 1.2452 Accuracy 0.6287\n"
     ]
    },
    {
     "name": "stdout",
     "output_type": "stream",
     "text": [
      "Epoch 72 Loss 1.2369 Accuracy 0.6289\n",
      "Time taken for 1 epoch: 81.27789974212646 secs\n",
      "\n",
      "Epoch 73 Batch 0 Loss 1.6222 Accuracy 0.6289\n"
     ]
    },
    {
     "name": "stdout",
     "output_type": "stream",
     "text": [
      "Epoch 73 Batch 100 Loss 1.4216 Accuracy 0.6291\n"
     ]
    },
    {
     "name": "stdout",
     "output_type": "stream",
     "text": [
      "Epoch 73 Batch 200 Loss 1.3883 Accuracy 0.6293\n"
     ]
    },
    {
     "name": "stdout",
     "output_type": "stream",
     "text": [
      "Epoch 73 Batch 300 Loss 1.3616 Accuracy 0.6295\n"
     ]
    },
    {
     "name": "stdout",
     "output_type": "stream",
     "text": [
      "Epoch 73 Batch 400 Loss 1.3426 Accuracy 0.6298\n"
     ]
    },
    {
     "name": "stdout",
     "output_type": "stream",
     "text": [
      "Epoch 73 Batch 500 Loss 1.3144 Accuracy 0.6300\n"
     ]
    },
    {
     "name": "stdout",
     "output_type": "stream",
     "text": [
      "Epoch 73 Batch 600 Loss 1.2813 Accuracy 0.6303\n"
     ]
    },
    {
     "name": "stdout",
     "output_type": "stream",
     "text": [
      "Epoch 73 Batch 700 Loss 1.2561 Accuracy 0.6306\n"
     ]
    },
    {
     "name": "stdout",
     "output_type": "stream",
     "text": [
      "Epoch 73 Batch 800 Loss 1.2391 Accuracy 0.6309\n"
     ]
    },
    {
     "name": "stdout",
     "output_type": "stream",
     "text": [
      "Epoch 73 Loss 1.2307 Accuracy 0.6311\n",
      "Time taken for 1 epoch: 81.14948797225952 secs\n",
      "\n",
      "Epoch 74 Batch 0 Loss 1.6339 Accuracy 0.6311\n"
     ]
    },
    {
     "name": "stdout",
     "output_type": "stream",
     "text": [
      "Epoch 74 Batch 100 Loss 1.4073 Accuracy 0.6313\n"
     ]
    },
    {
     "name": "stdout",
     "output_type": "stream",
     "text": [
      "Epoch 74 Batch 200 Loss 1.3816 Accuracy 0.6315\n"
     ]
    },
    {
     "name": "stdout",
     "output_type": "stream",
     "text": [
      "Epoch 74 Batch 300 Loss 1.3528 Accuracy 0.6317\n"
     ]
    },
    {
     "name": "stdout",
     "output_type": "stream",
     "text": [
      "Epoch 74 Batch 400 Loss 1.3344 Accuracy 0.6320\n"
     ]
    },
    {
     "name": "stdout",
     "output_type": "stream",
     "text": [
      "Epoch 74 Batch 500 Loss 1.3044 Accuracy 0.6322\n"
     ]
    },
    {
     "name": "stdout",
     "output_type": "stream",
     "text": [
      "Epoch 74 Batch 600 Loss 1.2740 Accuracy 0.6325\n"
     ]
    },
    {
     "name": "stdout",
     "output_type": "stream",
     "text": [
      "Epoch 74 Batch 700 Loss 1.2500 Accuracy 0.6328\n"
     ]
    },
    {
     "name": "stdout",
     "output_type": "stream",
     "text": [
      "Epoch 74 Batch 800 Loss 1.2321 Accuracy 0.6331\n"
     ]
    },
    {
     "name": "stdout",
     "output_type": "stream",
     "text": [
      "Epoch 74 Loss 1.2240 Accuracy 0.6333\n",
      "Time taken for 1 epoch: 81.27914023399353 secs\n",
      "\n",
      "Epoch 75 Batch 0 Loss 1.4814 Accuracy 0.6333\n"
     ]
    },
    {
     "name": "stdout",
     "output_type": "stream",
     "text": [
      "Epoch 75 Batch 100 Loss 1.3992 Accuracy 0.6335\n"
     ]
    },
    {
     "name": "stdout",
     "output_type": "stream",
     "text": [
      "Epoch 75 Batch 200 Loss 1.3677 Accuracy 0.6337\n"
     ]
    },
    {
     "name": "stdout",
     "output_type": "stream",
     "text": [
      "Epoch 75 Batch 300 Loss 1.3421 Accuracy 0.6339\n"
     ]
    },
    {
     "name": "stdout",
     "output_type": "stream",
     "text": [
      "Epoch 75 Batch 400 Loss 1.3256 Accuracy 0.6342\n"
     ]
    },
    {
     "name": "stdout",
     "output_type": "stream",
     "text": [
      "Epoch 75 Batch 500 Loss 1.2947 Accuracy 0.6344\n"
     ]
    },
    {
     "name": "stdout",
     "output_type": "stream",
     "text": [
      "Epoch 75 Batch 600 Loss 1.2644 Accuracy 0.6347\n"
     ]
    },
    {
     "name": "stdout",
     "output_type": "stream",
     "text": [
      "Epoch 75 Batch 700 Loss 1.2399 Accuracy 0.6350\n"
     ]
    },
    {
     "name": "stdout",
     "output_type": "stream",
     "text": [
      "Epoch 75 Batch 800 Loss 1.2234 Accuracy 0.6353\n"
     ]
    },
    {
     "name": "stdout",
     "output_type": "stream",
     "text": [
      "Saving checkpoint for epoch 75 at checkpoints/ckpt-15\n",
      "Epoch 75 Loss 1.2156 Accuracy 0.6354\n",
      "Time taken for 1 epoch: 82.05397701263428 secs\n",
      "\n",
      "Epoch 76 Batch 0 Loss 1.6969 Accuracy 0.6354\n"
     ]
    },
    {
     "name": "stdout",
     "output_type": "stream",
     "text": [
      "Epoch 76 Batch 100 Loss 1.3978 Accuracy 0.6356\n"
     ]
    },
    {
     "name": "stdout",
     "output_type": "stream",
     "text": [
      "Epoch 76 Batch 200 Loss 1.3652 Accuracy 0.6358\n"
     ]
    },
    {
     "name": "stdout",
     "output_type": "stream",
     "text": [
      "Epoch 76 Batch 300 Loss 1.3408 Accuracy 0.6361\n"
     ]
    },
    {
     "name": "stdout",
     "output_type": "stream",
     "text": [
      "Epoch 76 Batch 400 Loss 1.3206 Accuracy 0.6363\n"
     ]
    },
    {
     "name": "stdout",
     "output_type": "stream",
     "text": [
      "Epoch 76 Batch 500 Loss 1.2906 Accuracy 0.6366\n"
     ]
    },
    {
     "name": "stdout",
     "output_type": "stream",
     "text": [
      "Epoch 76 Batch 600 Loss 1.2599 Accuracy 0.6368\n"
     ]
    },
    {
     "name": "stdout",
     "output_type": "stream",
     "text": [
      "Epoch 76 Batch 700 Loss 1.2345 Accuracy 0.6371\n"
     ]
    },
    {
     "name": "stdout",
     "output_type": "stream",
     "text": [
      "Epoch 76 Batch 800 Loss 1.2176 Accuracy 0.6374\n"
     ]
    },
    {
     "name": "stdout",
     "output_type": "stream",
     "text": [
      "Epoch 76 Loss 1.2095 Accuracy 0.6376\n",
      "Time taken for 1 epoch: 81.26457285881042 secs\n",
      "\n",
      "Epoch 77 Batch 0 Loss 1.6602 Accuracy 0.6376\n"
     ]
    },
    {
     "name": "stdout",
     "output_type": "stream",
     "text": [
      "Epoch 77 Batch 100 Loss 1.3875 Accuracy 0.6377\n"
     ]
    },
    {
     "name": "stdout",
     "output_type": "stream",
     "text": [
      "Epoch 77 Batch 200 Loss 1.3586 Accuracy 0.6380\n"
     ]
    },
    {
     "name": "stdout",
     "output_type": "stream",
     "text": [
      "Epoch 77 Batch 300 Loss 1.3306 Accuracy 0.6382\n"
     ]
    },
    {
     "name": "stdout",
     "output_type": "stream",
     "text": [
      "Epoch 77 Batch 400 Loss 1.3135 Accuracy 0.6384\n"
     ]
    },
    {
     "name": "stdout",
     "output_type": "stream",
     "text": [
      "Epoch 77 Batch 500 Loss 1.2858 Accuracy 0.6386\n"
     ]
    },
    {
     "name": "stdout",
     "output_type": "stream",
     "text": [
      "Epoch 77 Batch 600 Loss 1.2548 Accuracy 0.6389\n"
     ]
    },
    {
     "name": "stdout",
     "output_type": "stream",
     "text": [
      "Epoch 77 Batch 700 Loss 1.2288 Accuracy 0.6392\n"
     ]
    },
    {
     "name": "stdout",
     "output_type": "stream",
     "text": [
      "Epoch 77 Batch 800 Loss 1.2115 Accuracy 0.6395\n"
     ]
    },
    {
     "name": "stdout",
     "output_type": "stream",
     "text": [
      "Epoch 77 Loss 1.2042 Accuracy 0.6396\n",
      "Time taken for 1 epoch: 81.14576554298401 secs\n",
      "\n",
      "Epoch 78 Batch 0 Loss 1.5494 Accuracy 0.6396\n"
     ]
    },
    {
     "name": "stdout",
     "output_type": "stream",
     "text": [
      "Epoch 78 Batch 100 Loss 1.3806 Accuracy 0.6398\n"
     ]
    },
    {
     "name": "stdout",
     "output_type": "stream",
     "text": [
      "Epoch 78 Batch 200 Loss 1.3505 Accuracy 0.6400\n"
     ]
    },
    {
     "name": "stdout",
     "output_type": "stream",
     "text": [
      "Epoch 78 Batch 300 Loss 1.3257 Accuracy 0.6402\n"
     ]
    },
    {
     "name": "stdout",
     "output_type": "stream",
     "text": [
      "Epoch 78 Batch 400 Loss 1.3083 Accuracy 0.6404\n"
     ]
    },
    {
     "name": "stdout",
     "output_type": "stream",
     "text": [
      "Epoch 78 Batch 500 Loss 1.2790 Accuracy 0.6407\n"
     ]
    },
    {
     "name": "stdout",
     "output_type": "stream",
     "text": [
      "Epoch 78 Batch 600 Loss 1.2479 Accuracy 0.6410\n"
     ]
    },
    {
     "name": "stdout",
     "output_type": "stream",
     "text": [
      "Epoch 78 Batch 700 Loss 1.2221 Accuracy 0.6412\n"
     ]
    },
    {
     "name": "stdout",
     "output_type": "stream",
     "text": [
      "Epoch 78 Batch 800 Loss 1.2046 Accuracy 0.6415\n"
     ]
    },
    {
     "name": "stdout",
     "output_type": "stream",
     "text": [
      "Epoch 78 Loss 1.1961 Accuracy 0.6417\n",
      "Time taken for 1 epoch: 81.26593327522278 secs\n",
      "\n",
      "Epoch 79 Batch 0 Loss 1.5168 Accuracy 0.6417\n"
     ]
    },
    {
     "name": "stdout",
     "output_type": "stream",
     "text": [
      "Epoch 79 Batch 100 Loss 1.3697 Accuracy 0.6418\n"
     ]
    },
    {
     "name": "stdout",
     "output_type": "stream",
     "text": [
      "Epoch 79 Batch 200 Loss 1.3422 Accuracy 0.6420\n"
     ]
    },
    {
     "name": "stdout",
     "output_type": "stream",
     "text": [
      "Epoch 79 Batch 300 Loss 1.3146 Accuracy 0.6423\n"
     ]
    },
    {
     "name": "stdout",
     "output_type": "stream",
     "text": [
      "Epoch 79 Batch 400 Loss 1.2974 Accuracy 0.6425\n"
     ]
    },
    {
     "name": "stdout",
     "output_type": "stream",
     "text": [
      "Epoch 79 Batch 500 Loss 1.2692 Accuracy 0.6427\n"
     ]
    },
    {
     "name": "stdout",
     "output_type": "stream",
     "text": [
      "Epoch 79 Batch 600 Loss 1.2389 Accuracy 0.6430\n"
     ]
    },
    {
     "name": "stdout",
     "output_type": "stream",
     "text": [
      "Epoch 79 Batch 700 Loss 1.2136 Accuracy 0.6432\n"
     ]
    },
    {
     "name": "stdout",
     "output_type": "stream",
     "text": [
      "Epoch 79 Batch 800 Loss 1.1962 Accuracy 0.6435\n"
     ]
    },
    {
     "name": "stdout",
     "output_type": "stream",
     "text": [
      "Epoch 79 Loss 1.1880 Accuracy 0.6437\n",
      "Time taken for 1 epoch: 81.13725924491882 secs\n",
      "\n",
      "Epoch 80 Batch 0 Loss 1.5131 Accuracy 0.6437\n"
     ]
    },
    {
     "name": "stdout",
     "output_type": "stream",
     "text": [
      "Epoch 80 Batch 100 Loss 1.3656 Accuracy 0.6439\n"
     ]
    },
    {
     "name": "stdout",
     "output_type": "stream",
     "text": [
      "Epoch 80 Batch 200 Loss 1.3364 Accuracy 0.6440\n"
     ]
    },
    {
     "name": "stdout",
     "output_type": "stream",
     "text": [
      "Epoch 80 Batch 300 Loss 1.3122 Accuracy 0.6442\n"
     ]
    },
    {
     "name": "stdout",
     "output_type": "stream",
     "text": [
      "Epoch 80 Batch 400 Loss 1.2939 Accuracy 0.6445\n"
     ]
    },
    {
     "name": "stdout",
     "output_type": "stream",
     "text": [
      "Epoch 80 Batch 500 Loss 1.2645 Accuracy 0.6447\n"
     ]
    },
    {
     "name": "stdout",
     "output_type": "stream",
     "text": [
      "Epoch 80 Batch 600 Loss 1.2342 Accuracy 0.6450\n"
     ]
    },
    {
     "name": "stdout",
     "output_type": "stream",
     "text": [
      "Epoch 80 Batch 700 Loss 1.2090 Accuracy 0.6452\n"
     ]
    },
    {
     "name": "stdout",
     "output_type": "stream",
     "text": [
      "Epoch 80 Batch 800 Loss 1.1907 Accuracy 0.6455\n"
     ]
    },
    {
     "name": "stdout",
     "output_type": "stream",
     "text": [
      "Saving checkpoint for epoch 80 at checkpoints/ckpt-16\n",
      "Epoch 80 Loss 1.1830 Accuracy 0.6456\n",
      "Time taken for 1 epoch: 81.89498209953308 secs\n",
      "\n",
      "Epoch 81 Batch 0 Loss 1.7807 Accuracy 0.6456\n"
     ]
    },
    {
     "name": "stdout",
     "output_type": "stream",
     "text": [
      "Epoch 81 Batch 100 Loss 1.3598 Accuracy 0.6458\n"
     ]
    },
    {
     "name": "stdout",
     "output_type": "stream",
     "text": [
      "Epoch 81 Batch 200 Loss 1.3272 Accuracy 0.6460\n"
     ]
    },
    {
     "name": "stdout",
     "output_type": "stream",
     "text": [
      "Epoch 81 Batch 300 Loss 1.3038 Accuracy 0.6462\n"
     ]
    },
    {
     "name": "stdout",
     "output_type": "stream",
     "text": [
      "Epoch 81 Batch 400 Loss 1.2876 Accuracy 0.6464\n"
     ]
    },
    {
     "name": "stdout",
     "output_type": "stream",
     "text": [
      "Epoch 81 Batch 500 Loss 1.2580 Accuracy 0.6466\n"
     ]
    },
    {
     "name": "stdout",
     "output_type": "stream",
     "text": [
      "Epoch 81 Batch 600 Loss 1.2280 Accuracy 0.6469\n"
     ]
    },
    {
     "name": "stdout",
     "output_type": "stream",
     "text": [
      "Epoch 81 Batch 700 Loss 1.2025 Accuracy 0.6472\n"
     ]
    },
    {
     "name": "stdout",
     "output_type": "stream",
     "text": [
      "Epoch 81 Batch 800 Loss 1.1858 Accuracy 0.6474\n"
     ]
    },
    {
     "name": "stdout",
     "output_type": "stream",
     "text": [
      "Epoch 81 Loss 1.1784 Accuracy 0.6476\n",
      "Time taken for 1 epoch: 81.27529096603394 secs\n",
      "\n",
      "Epoch 82 Batch 0 Loss 1.7602 Accuracy 0.6476\n"
     ]
    },
    {
     "name": "stdout",
     "output_type": "stream",
     "text": [
      "Epoch 82 Batch 100 Loss 1.3526 Accuracy 0.6477\n"
     ]
    },
    {
     "name": "stdout",
     "output_type": "stream",
     "text": [
      "Epoch 82 Batch 200 Loss 1.3197 Accuracy 0.6479\n"
     ]
    },
    {
     "name": "stdout",
     "output_type": "stream",
     "text": [
      "Epoch 82 Batch 300 Loss 1.2942 Accuracy 0.6481\n"
     ]
    },
    {
     "name": "stdout",
     "output_type": "stream",
     "text": [
      "Epoch 82 Batch 400 Loss 1.2772 Accuracy 0.6483\n"
     ]
    },
    {
     "name": "stdout",
     "output_type": "stream",
     "text": [
      "Epoch 82 Batch 500 Loss 1.2484 Accuracy 0.6486\n"
     ]
    },
    {
     "name": "stdout",
     "output_type": "stream",
     "text": [
      "Epoch 82 Batch 600 Loss 1.2195 Accuracy 0.6488\n"
     ]
    },
    {
     "name": "stdout",
     "output_type": "stream",
     "text": [
      "Epoch 82 Batch 700 Loss 1.1931 Accuracy 0.6491\n"
     ]
    },
    {
     "name": "stdout",
     "output_type": "stream",
     "text": [
      "Epoch 82 Batch 800 Loss 1.1767 Accuracy 0.6493\n"
     ]
    },
    {
     "name": "stdout",
     "output_type": "stream",
     "text": [
      "Epoch 82 Loss 1.1687 Accuracy 0.6495\n",
      "Time taken for 1 epoch: 81.13948607444763 secs\n",
      "\n",
      "Epoch 83 Batch 0 Loss 1.5787 Accuracy 0.6495\n"
     ]
    },
    {
     "name": "stdout",
     "output_type": "stream",
     "text": [
      "Epoch 83 Batch 100 Loss 1.3380 Accuracy 0.6497\n"
     ]
    },
    {
     "name": "stdout",
     "output_type": "stream",
     "text": [
      "Epoch 83 Batch 200 Loss 1.3090 Accuracy 0.6498\n"
     ]
    },
    {
     "name": "stdout",
     "output_type": "stream",
     "text": [
      "Epoch 83 Batch 300 Loss 1.2863 Accuracy 0.6500\n"
     ]
    },
    {
     "name": "stdout",
     "output_type": "stream",
     "text": [
      "Epoch 83 Batch 400 Loss 1.2713 Accuracy 0.6502\n"
     ]
    },
    {
     "name": "stdout",
     "output_type": "stream",
     "text": [
      "Epoch 83 Batch 500 Loss 1.2427 Accuracy 0.6505\n"
     ]
    },
    {
     "name": "stdout",
     "output_type": "stream",
     "text": [
      "Epoch 83 Batch 600 Loss 1.2124 Accuracy 0.6507\n"
     ]
    },
    {
     "name": "stdout",
     "output_type": "stream",
     "text": [
      "Epoch 83 Batch 700 Loss 1.1882 Accuracy 0.6509\n"
     ]
    },
    {
     "name": "stdout",
     "output_type": "stream",
     "text": [
      "Epoch 83 Batch 800 Loss 1.1707 Accuracy 0.6512\n"
     ]
    },
    {
     "name": "stdout",
     "output_type": "stream",
     "text": [
      "Epoch 83 Loss 1.1633 Accuracy 0.6513\n",
      "Time taken for 1 epoch: 81.2061140537262 secs\n",
      "\n",
      "Epoch 84 Batch 0 Loss 1.4377 Accuracy 0.6513\n"
     ]
    },
    {
     "name": "stdout",
     "output_type": "stream",
     "text": [
      "Epoch 84 Batch 100 Loss 1.3470 Accuracy 0.6515\n"
     ]
    },
    {
     "name": "stdout",
     "output_type": "stream",
     "text": [
      "Epoch 84 Batch 200 Loss 1.3113 Accuracy 0.6517\n"
     ]
    },
    {
     "name": "stdout",
     "output_type": "stream",
     "text": [
      "Epoch 84 Batch 300 Loss 1.2863 Accuracy 0.6519\n"
     ]
    },
    {
     "name": "stdout",
     "output_type": "stream",
     "text": [
      "Epoch 84 Batch 400 Loss 1.2688 Accuracy 0.6521\n"
     ]
    },
    {
     "name": "stdout",
     "output_type": "stream",
     "text": [
      "Epoch 84 Batch 500 Loss 1.2400 Accuracy 0.6523\n"
     ]
    },
    {
     "name": "stdout",
     "output_type": "stream",
     "text": [
      "Epoch 84 Batch 600 Loss 1.2105 Accuracy 0.6526\n"
     ]
    },
    {
     "name": "stdout",
     "output_type": "stream",
     "text": [
      "Epoch 84 Batch 700 Loss 1.1849 Accuracy 0.6528\n"
     ]
    },
    {
     "name": "stdout",
     "output_type": "stream",
     "text": [
      "Epoch 84 Batch 800 Loss 1.1680 Accuracy 0.6530\n"
     ]
    },
    {
     "name": "stdout",
     "output_type": "stream",
     "text": [
      "Epoch 84 Loss 1.1603 Accuracy 0.6532\n",
      "Time taken for 1 epoch: 81.17078924179077 secs\n",
      "\n",
      "Epoch 85 Batch 0 Loss 1.5418 Accuracy 0.6532\n"
     ]
    },
    {
     "name": "stdout",
     "output_type": "stream",
     "text": [
      "Epoch 85 Batch 100 Loss 1.3385 Accuracy 0.6534\n"
     ]
    },
    {
     "name": "stdout",
     "output_type": "stream",
     "text": [
      "Epoch 85 Batch 200 Loss 1.3085 Accuracy 0.6535\n"
     ]
    },
    {
     "name": "stdout",
     "output_type": "stream",
     "text": [
      "Epoch 85 Batch 300 Loss 1.2815 Accuracy 0.6537\n"
     ]
    },
    {
     "name": "stdout",
     "output_type": "stream",
     "text": [
      "Epoch 85 Batch 400 Loss 1.2636 Accuracy 0.6539\n"
     ]
    },
    {
     "name": "stdout",
     "output_type": "stream",
     "text": [
      "Epoch 85 Batch 500 Loss 1.2358 Accuracy 0.6541\n"
     ]
    },
    {
     "name": "stdout",
     "output_type": "stream",
     "text": [
      "Epoch 85 Batch 600 Loss 1.2051 Accuracy 0.6544\n"
     ]
    },
    {
     "name": "stdout",
     "output_type": "stream",
     "text": [
      "Epoch 85 Batch 700 Loss 1.1799 Accuracy 0.6546\n"
     ]
    },
    {
     "name": "stdout",
     "output_type": "stream",
     "text": [
      "Epoch 85 Batch 800 Loss 1.1619 Accuracy 0.6549\n"
     ]
    },
    {
     "name": "stdout",
     "output_type": "stream",
     "text": [
      "Saving checkpoint for epoch 85 at checkpoints/ckpt-17\n",
      "Epoch 85 Loss 1.1548 Accuracy 0.6550\n",
      "Time taken for 1 epoch: 82.10066771507263 secs\n",
      "\n",
      "Epoch 86 Batch 0 Loss 1.5446 Accuracy 0.6550\n"
     ]
    },
    {
     "name": "stdout",
     "output_type": "stream",
     "text": [
      "Epoch 86 Batch 100 Loss 1.3287 Accuracy 0.6552\n"
     ]
    },
    {
     "name": "stdout",
     "output_type": "stream",
     "text": [
      "Epoch 86 Batch 200 Loss 1.3007 Accuracy 0.6553\n"
     ]
    },
    {
     "name": "stdout",
     "output_type": "stream",
     "text": [
      "Epoch 86 Batch 300 Loss 1.2753 Accuracy 0.6555\n"
     ]
    },
    {
     "name": "stdout",
     "output_type": "stream",
     "text": [
      "Epoch 86 Batch 400 Loss 1.2587 Accuracy 0.6557\n"
     ]
    },
    {
     "name": "stdout",
     "output_type": "stream",
     "text": [
      "Epoch 86 Batch 500 Loss 1.2304 Accuracy 0.6559\n"
     ]
    },
    {
     "name": "stdout",
     "output_type": "stream",
     "text": [
      "Epoch 86 Batch 600 Loss 1.2004 Accuracy 0.6562\n"
     ]
    },
    {
     "name": "stdout",
     "output_type": "stream",
     "text": [
      "Epoch 86 Batch 700 Loss 1.1752 Accuracy 0.6564\n"
     ]
    },
    {
     "name": "stdout",
     "output_type": "stream",
     "text": [
      "Epoch 86 Batch 800 Loss 1.1580 Accuracy 0.6566\n"
     ]
    },
    {
     "name": "stdout",
     "output_type": "stream",
     "text": [
      "Epoch 86 Loss 1.1506 Accuracy 0.6568\n",
      "Time taken for 1 epoch: 81.04565477371216 secs\n",
      "\n",
      "Epoch 87 Batch 0 Loss 1.6154 Accuracy 0.6568\n"
     ]
    },
    {
     "name": "stdout",
     "output_type": "stream",
     "text": [
      "Epoch 87 Batch 100 Loss 1.3262 Accuracy 0.6569\n"
     ]
    },
    {
     "name": "stdout",
     "output_type": "stream",
     "text": [
      "Epoch 87 Batch 200 Loss 1.2939 Accuracy 0.6571\n"
     ]
    },
    {
     "name": "stdout",
     "output_type": "stream",
     "text": [
      "Epoch 87 Batch 300 Loss 1.2706 Accuracy 0.6573\n"
     ]
    },
    {
     "name": "stdout",
     "output_type": "stream",
     "text": [
      "Epoch 87 Batch 400 Loss 1.2519 Accuracy 0.6575\n"
     ]
    },
    {
     "name": "stdout",
     "output_type": "stream",
     "text": [
      "Epoch 87 Batch 500 Loss 1.2238 Accuracy 0.6577\n"
     ]
    },
    {
     "name": "stdout",
     "output_type": "stream",
     "text": [
      "Epoch 87 Batch 600 Loss 1.1936 Accuracy 0.6579\n"
     ]
    },
    {
     "name": "stdout",
     "output_type": "stream",
     "text": [
      "Epoch 87 Batch 700 Loss 1.1692 Accuracy 0.6582\n"
     ]
    },
    {
     "name": "stdout",
     "output_type": "stream",
     "text": [
      "Epoch 87 Batch 800 Loss 1.1531 Accuracy 0.6584\n"
     ]
    },
    {
     "name": "stdout",
     "output_type": "stream",
     "text": [
      "Epoch 87 Loss 1.1458 Accuracy 0.6585\n",
      "Time taken for 1 epoch: 81.03097605705261 secs\n",
      "\n",
      "Epoch 88 Batch 0 Loss 1.6604 Accuracy 0.6585\n"
     ]
    },
    {
     "name": "stdout",
     "output_type": "stream",
     "text": [
      "Epoch 88 Batch 100 Loss 1.3108 Accuracy 0.6587\n"
     ]
    },
    {
     "name": "stdout",
     "output_type": "stream",
     "text": [
      "Epoch 88 Batch 200 Loss 1.2867 Accuracy 0.6588\n"
     ]
    },
    {
     "name": "stdout",
     "output_type": "stream",
     "text": [
      "Epoch 88 Batch 300 Loss 1.2649 Accuracy 0.6590\n"
     ]
    },
    {
     "name": "stdout",
     "output_type": "stream",
     "text": [
      "Epoch 88 Batch 400 Loss 1.2475 Accuracy 0.6592\n"
     ]
    },
    {
     "name": "stdout",
     "output_type": "stream",
     "text": [
      "Epoch 88 Batch 500 Loss 1.2180 Accuracy 0.6594\n"
     ]
    },
    {
     "name": "stdout",
     "output_type": "stream",
     "text": [
      "Epoch 88 Batch 600 Loss 1.1887 Accuracy 0.6596\n"
     ]
    },
    {
     "name": "stdout",
     "output_type": "stream",
     "text": [
      "Epoch 88 Batch 700 Loss 1.1639 Accuracy 0.6599\n"
     ]
    },
    {
     "name": "stdout",
     "output_type": "stream",
     "text": [
      "Epoch 88 Batch 800 Loss 1.1481 Accuracy 0.6601\n"
     ]
    },
    {
     "name": "stdout",
     "output_type": "stream",
     "text": [
      "Epoch 88 Loss 1.1403 Accuracy 0.6602\n",
      "Time taken for 1 epoch: 81.05326700210571 secs\n",
      "\n",
      "Epoch 89 Batch 0 Loss 1.5272 Accuracy 0.6602\n"
     ]
    },
    {
     "name": "stdout",
     "output_type": "stream",
     "text": [
      "Epoch 89 Batch 100 Loss 1.3019 Accuracy 0.6604\n"
     ]
    },
    {
     "name": "stdout",
     "output_type": "stream",
     "text": [
      "Epoch 89 Batch 200 Loss 1.2783 Accuracy 0.6606\n"
     ]
    },
    {
     "name": "stdout",
     "output_type": "stream",
     "text": [
      "Epoch 89 Batch 300 Loss 1.2592 Accuracy 0.6607\n"
     ]
    },
    {
     "name": "stdout",
     "output_type": "stream",
     "text": [
      "Epoch 89 Batch 400 Loss 1.2394 Accuracy 0.6609\n"
     ]
    },
    {
     "name": "stdout",
     "output_type": "stream",
     "text": [
      "Epoch 89 Batch 500 Loss 1.2104 Accuracy 0.6611\n"
     ]
    },
    {
     "name": "stdout",
     "output_type": "stream",
     "text": [
      "Epoch 89 Batch 600 Loss 1.1815 Accuracy 0.6614\n"
     ]
    },
    {
     "name": "stdout",
     "output_type": "stream",
     "text": [
      "Epoch 89 Batch 700 Loss 1.1564 Accuracy 0.6616\n"
     ]
    },
    {
     "name": "stdout",
     "output_type": "stream",
     "text": [
      "Epoch 89 Batch 800 Loss 1.1401 Accuracy 0.6618\n"
     ]
    },
    {
     "name": "stdout",
     "output_type": "stream",
     "text": [
      "Epoch 89 Loss 1.1318 Accuracy 0.6619\n",
      "Time taken for 1 epoch: 81.2298789024353 secs\n",
      "\n",
      "Epoch 90 Batch 0 Loss 1.5106 Accuracy 0.6619\n"
     ]
    },
    {
     "name": "stdout",
     "output_type": "stream",
     "text": [
      "Epoch 90 Batch 100 Loss 1.3057 Accuracy 0.6621\n"
     ]
    },
    {
     "name": "stdout",
     "output_type": "stream",
     "text": [
      "Epoch 90 Batch 200 Loss 1.2792 Accuracy 0.6623\n"
     ]
    },
    {
     "name": "stdout",
     "output_type": "stream",
     "text": [
      "Epoch 90 Batch 300 Loss 1.2525 Accuracy 0.6624\n"
     ]
    },
    {
     "name": "stdout",
     "output_type": "stream",
     "text": [
      "Epoch 90 Batch 400 Loss 1.2367 Accuracy 0.6626\n"
     ]
    },
    {
     "name": "stdout",
     "output_type": "stream",
     "text": [
      "Epoch 90 Batch 500 Loss 1.2090 Accuracy 0.6628\n"
     ]
    },
    {
     "name": "stdout",
     "output_type": "stream",
     "text": [
      "Epoch 90 Batch 600 Loss 1.1787 Accuracy 0.6630\n"
     ]
    },
    {
     "name": "stdout",
     "output_type": "stream",
     "text": [
      "Epoch 90 Batch 700 Loss 1.1542 Accuracy 0.6633\n"
     ]
    },
    {
     "name": "stdout",
     "output_type": "stream",
     "text": [
      "Epoch 90 Batch 800 Loss 1.1382 Accuracy 0.6635\n"
     ]
    },
    {
     "name": "stdout",
     "output_type": "stream",
     "text": [
      "Saving checkpoint for epoch 90 at checkpoints/ckpt-18\n",
      "Epoch 90 Loss 1.1306 Accuracy 0.6636\n",
      "Time taken for 1 epoch: 81.9693648815155 secs\n",
      "\n",
      "Epoch 91 Batch 0 Loss 1.4757 Accuracy 0.6636\n"
     ]
    },
    {
     "name": "stdout",
     "output_type": "stream",
     "text": [
      "Epoch 91 Batch 100 Loss 1.3033 Accuracy 0.6638\n"
     ]
    },
    {
     "name": "stdout",
     "output_type": "stream",
     "text": [
      "Epoch 91 Batch 200 Loss 1.2726 Accuracy 0.6639\n"
     ]
    },
    {
     "name": "stdout",
     "output_type": "stream",
     "text": [
      "Epoch 91 Batch 300 Loss 1.2479 Accuracy 0.6641\n"
     ]
    },
    {
     "name": "stdout",
     "output_type": "stream",
     "text": [
      "Epoch 91 Batch 400 Loss 1.2306 Accuracy 0.6643\n"
     ]
    },
    {
     "name": "stdout",
     "output_type": "stream",
     "text": [
      "Epoch 91 Batch 500 Loss 1.2023 Accuracy 0.6645\n"
     ]
    },
    {
     "name": "stdout",
     "output_type": "stream",
     "text": [
      "Epoch 91 Batch 600 Loss 1.1721 Accuracy 0.6647\n"
     ]
    },
    {
     "name": "stdout",
     "output_type": "stream",
     "text": [
      "Epoch 91 Batch 700 Loss 1.1471 Accuracy 0.6649\n"
     ]
    },
    {
     "name": "stdout",
     "output_type": "stream",
     "text": [
      "Epoch 91 Batch 800 Loss 1.1305 Accuracy 0.6651\n"
     ]
    },
    {
     "name": "stdout",
     "output_type": "stream",
     "text": [
      "Epoch 91 Loss 1.1234 Accuracy 0.6653\n",
      "Time taken for 1 epoch: 81.04800128936768 secs\n",
      "\n",
      "Epoch 92 Batch 0 Loss 1.5405 Accuracy 0.6653\n"
     ]
    },
    {
     "name": "stdout",
     "output_type": "stream",
     "text": [
      "Epoch 92 Batch 100 Loss 1.2948 Accuracy 0.6654\n"
     ]
    },
    {
     "name": "stdout",
     "output_type": "stream",
     "text": [
      "Epoch 92 Batch 200 Loss 1.2689 Accuracy 0.6656\n"
     ]
    },
    {
     "name": "stdout",
     "output_type": "stream",
     "text": [
      "Epoch 92 Batch 300 Loss 1.2445 Accuracy 0.6657\n"
     ]
    },
    {
     "name": "stdout",
     "output_type": "stream",
     "text": [
      "Epoch 92 Batch 400 Loss 1.2285 Accuracy 0.6659\n"
     ]
    },
    {
     "name": "stdout",
     "output_type": "stream",
     "text": [
      "Epoch 92 Batch 500 Loss 1.2009 Accuracy 0.6661\n"
     ]
    },
    {
     "name": "stdout",
     "output_type": "stream",
     "text": [
      "Epoch 92 Batch 600 Loss 1.1707 Accuracy 0.6663\n"
     ]
    },
    {
     "name": "stdout",
     "output_type": "stream",
     "text": [
      "Epoch 92 Batch 700 Loss 1.1471 Accuracy 0.6665\n"
     ]
    },
    {
     "name": "stdout",
     "output_type": "stream",
     "text": [
      "Epoch 92 Batch 800 Loss 1.1302 Accuracy 0.6667\n"
     ]
    },
    {
     "name": "stdout",
     "output_type": "stream",
     "text": [
      "Epoch 92 Loss 1.1232 Accuracy 0.6669\n",
      "Time taken for 1 epoch: 81.16955709457397 secs\n",
      "\n",
      "Epoch 93 Batch 0 Loss 1.6270 Accuracy 0.6669\n"
     ]
    },
    {
     "name": "stdout",
     "output_type": "stream",
     "text": [
      "Epoch 93 Batch 100 Loss 1.2844 Accuracy 0.6670\n"
     ]
    },
    {
     "name": "stdout",
     "output_type": "stream",
     "text": [
      "Epoch 93 Batch 200 Loss 1.2601 Accuracy 0.6672\n"
     ]
    },
    {
     "name": "stdout",
     "output_type": "stream",
     "text": [
      "Epoch 93 Batch 300 Loss 1.2362 Accuracy 0.6673\n"
     ]
    },
    {
     "name": "stdout",
     "output_type": "stream",
     "text": [
      "Epoch 93 Batch 400 Loss 1.2197 Accuracy 0.6675\n"
     ]
    },
    {
     "name": "stdout",
     "output_type": "stream",
     "text": [
      "Epoch 93 Batch 500 Loss 1.1926 Accuracy 0.6677\n"
     ]
    },
    {
     "name": "stdout",
     "output_type": "stream",
     "text": [
      "Epoch 93 Batch 600 Loss 1.1626 Accuracy 0.6679\n"
     ]
    },
    {
     "name": "stdout",
     "output_type": "stream",
     "text": [
      "Epoch 93 Batch 700 Loss 1.1393 Accuracy 0.6681\n"
     ]
    },
    {
     "name": "stdout",
     "output_type": "stream",
     "text": [
      "Epoch 93 Batch 800 Loss 1.1222 Accuracy 0.6683\n"
     ]
    },
    {
     "name": "stdout",
     "output_type": "stream",
     "text": [
      "Epoch 93 Loss 1.1154 Accuracy 0.6685\n",
      "Time taken for 1 epoch: 81.1797125339508 secs\n",
      "\n",
      "Epoch 94 Batch 0 Loss 1.4783 Accuracy 0.6685\n"
     ]
    },
    {
     "name": "stdout",
     "output_type": "stream",
     "text": [
      "Epoch 94 Batch 100 Loss 1.2856 Accuracy 0.6686\n"
     ]
    },
    {
     "name": "stdout",
     "output_type": "stream",
     "text": [
      "Epoch 94 Batch 200 Loss 1.2565 Accuracy 0.6688\n"
     ]
    },
    {
     "name": "stdout",
     "output_type": "stream",
     "text": [
      "Epoch 94 Batch 300 Loss 1.2344 Accuracy 0.6689\n"
     ]
    },
    {
     "name": "stdout",
     "output_type": "stream",
     "text": [
      "Epoch 94 Batch 400 Loss 1.2172 Accuracy 0.6691\n"
     ]
    },
    {
     "name": "stdout",
     "output_type": "stream",
     "text": [
      "Epoch 94 Batch 500 Loss 1.1898 Accuracy 0.6693\n"
     ]
    },
    {
     "name": "stdout",
     "output_type": "stream",
     "text": [
      "Epoch 94 Batch 600 Loss 1.1597 Accuracy 0.6695\n"
     ]
    },
    {
     "name": "stdout",
     "output_type": "stream",
     "text": [
      "Epoch 94 Batch 700 Loss 1.1353 Accuracy 0.6697\n"
     ]
    },
    {
     "name": "stdout",
     "output_type": "stream",
     "text": [
      "Epoch 94 Batch 800 Loss 1.1194 Accuracy 0.6699\n"
     ]
    },
    {
     "name": "stdout",
     "output_type": "stream",
     "text": [
      "Epoch 94 Loss 1.1123 Accuracy 0.6700\n",
      "Time taken for 1 epoch: 81.04435873031616 secs\n",
      "\n",
      "Epoch 95 Batch 0 Loss 1.4621 Accuracy 0.6700\n"
     ]
    },
    {
     "name": "stdout",
     "output_type": "stream",
     "text": [
      "Epoch 95 Batch 100 Loss 1.2790 Accuracy 0.6702\n"
     ]
    },
    {
     "name": "stdout",
     "output_type": "stream",
     "text": [
      "Epoch 95 Batch 200 Loss 1.2594 Accuracy 0.6703\n"
     ]
    },
    {
     "name": "stdout",
     "output_type": "stream",
     "text": [
      "Epoch 95 Batch 300 Loss 1.2360 Accuracy 0.6705\n"
     ]
    },
    {
     "name": "stdout",
     "output_type": "stream",
     "text": [
      "Epoch 95 Batch 400 Loss 1.2194 Accuracy 0.6707\n"
     ]
    },
    {
     "name": "stdout",
     "output_type": "stream",
     "text": [
      "Epoch 95 Batch 500 Loss 1.1914 Accuracy 0.6708\n"
     ]
    },
    {
     "name": "stdout",
     "output_type": "stream",
     "text": [
      "Epoch 95 Batch 600 Loss 1.1611 Accuracy 0.6710\n"
     ]
    },
    {
     "name": "stdout",
     "output_type": "stream",
     "text": [
      "Epoch 95 Batch 700 Loss 1.1358 Accuracy 0.6713\n"
     ]
    },
    {
     "name": "stdout",
     "output_type": "stream",
     "text": [
      "Epoch 95 Batch 800 Loss 1.1187 Accuracy 0.6715\n"
     ]
    },
    {
     "name": "stdout",
     "output_type": "stream",
     "text": [
      "Saving checkpoint for epoch 95 at checkpoints/ckpt-19\n",
      "Epoch 95 Loss 1.1121 Accuracy 0.6716\n",
      "Time taken for 1 epoch: 81.83597612380981 secs\n",
      "\n",
      "Epoch 96 Batch 0 Loss 1.6001 Accuracy 0.6716\n"
     ]
    },
    {
     "name": "stdout",
     "output_type": "stream",
     "text": [
      "Epoch 96 Batch 100 Loss 1.2756 Accuracy 0.6717\n"
     ]
    },
    {
     "name": "stdout",
     "output_type": "stream",
     "text": [
      "Epoch 96 Batch 200 Loss 1.2524 Accuracy 0.6719\n"
     ]
    },
    {
     "name": "stdout",
     "output_type": "stream",
     "text": [
      "Epoch 96 Batch 300 Loss 1.2289 Accuracy 0.6720\n"
     ]
    },
    {
     "name": "stdout",
     "output_type": "stream",
     "text": [
      "Epoch 96 Batch 400 Loss 1.2120 Accuracy 0.6722\n"
     ]
    },
    {
     "name": "stdout",
     "output_type": "stream",
     "text": [
      "Epoch 96 Batch 500 Loss 1.1839 Accuracy 0.6724\n"
     ]
    },
    {
     "name": "stdout",
     "output_type": "stream",
     "text": [
      "Epoch 96 Batch 600 Loss 1.1536 Accuracy 0.6726\n"
     ]
    },
    {
     "name": "stdout",
     "output_type": "stream",
     "text": [
      "Epoch 96 Batch 700 Loss 1.1288 Accuracy 0.6728\n"
     ]
    },
    {
     "name": "stdout",
     "output_type": "stream",
     "text": [
      "Epoch 96 Batch 800 Loss 1.1122 Accuracy 0.6730\n"
     ]
    },
    {
     "name": "stdout",
     "output_type": "stream",
     "text": [
      "Epoch 96 Loss 1.1045 Accuracy 0.6731\n",
      "Time taken for 1 epoch: 81.08659791946411 secs\n",
      "\n",
      "Epoch 97 Batch 0 Loss 1.5619 Accuracy 0.6731\n"
     ]
    },
    {
     "name": "stdout",
     "output_type": "stream",
     "text": [
      "Epoch 97 Batch 100 Loss 1.2636 Accuracy 0.6733\n"
     ]
    },
    {
     "name": "stdout",
     "output_type": "stream",
     "text": [
      "Epoch 97 Batch 200 Loss 1.2407 Accuracy 0.6734\n"
     ]
    },
    {
     "name": "stdout",
     "output_type": "stream",
     "text": [
      "Epoch 97 Batch 300 Loss 1.2192 Accuracy 0.6736\n"
     ]
    },
    {
     "name": "stdout",
     "output_type": "stream",
     "text": [
      "Epoch 97 Batch 400 Loss 1.2023 Accuracy 0.6737\n"
     ]
    },
    {
     "name": "stdout",
     "output_type": "stream",
     "text": [
      "Epoch 97 Batch 500 Loss 1.1754 Accuracy 0.6739\n"
     ]
    },
    {
     "name": "stdout",
     "output_type": "stream",
     "text": [
      "Epoch 97 Batch 600 Loss 1.1456 Accuracy 0.6741\n"
     ]
    },
    {
     "name": "stdout",
     "output_type": "stream",
     "text": [
      "Epoch 97 Batch 700 Loss 1.1214 Accuracy 0.6743\n"
     ]
    },
    {
     "name": "stdout",
     "output_type": "stream",
     "text": [
      "Epoch 97 Batch 800 Loss 1.1046 Accuracy 0.6745\n"
     ]
    },
    {
     "name": "stdout",
     "output_type": "stream",
     "text": [
      "Epoch 97 Loss 1.0978 Accuracy 0.6746\n",
      "Time taken for 1 epoch: 81.08753657341003 secs\n",
      "\n",
      "Epoch 98 Batch 0 Loss 1.4290 Accuracy 0.6746\n"
     ]
    },
    {
     "name": "stdout",
     "output_type": "stream",
     "text": [
      "Epoch 98 Batch 100 Loss 1.2631 Accuracy 0.6748\n"
     ]
    },
    {
     "name": "stdout",
     "output_type": "stream",
     "text": [
      "Epoch 98 Batch 200 Loss 1.2362 Accuracy 0.6749\n"
     ]
    },
    {
     "name": "stdout",
     "output_type": "stream",
     "text": [
      "Epoch 98 Batch 300 Loss 1.2173 Accuracy 0.6751\n"
     ]
    },
    {
     "name": "stdout",
     "output_type": "stream",
     "text": [
      "Epoch 98 Batch 400 Loss 1.2008 Accuracy 0.6752\n"
     ]
    },
    {
     "name": "stdout",
     "output_type": "stream",
     "text": [
      "Epoch 98 Batch 500 Loss 1.1711 Accuracy 0.6754\n"
     ]
    },
    {
     "name": "stdout",
     "output_type": "stream",
     "text": [
      "Epoch 98 Batch 600 Loss 1.1415 Accuracy 0.6756\n"
     ]
    },
    {
     "name": "stdout",
     "output_type": "stream",
     "text": [
      "Epoch 98 Batch 700 Loss 1.1174 Accuracy 0.6758\n"
     ]
    },
    {
     "name": "stdout",
     "output_type": "stream",
     "text": [
      "Epoch 98 Batch 800 Loss 1.1004 Accuracy 0.6760\n"
     ]
    },
    {
     "name": "stdout",
     "output_type": "stream",
     "text": [
      "Epoch 98 Loss 1.0934 Accuracy 0.6761\n",
      "Time taken for 1 epoch: 81.09410357475281 secs\n",
      "\n",
      "Epoch 99 Batch 0 Loss 1.4313 Accuracy 0.6761\n"
     ]
    },
    {
     "name": "stdout",
     "output_type": "stream",
     "text": [
      "Epoch 99 Batch 100 Loss 1.2591 Accuracy 0.6762\n"
     ]
    },
    {
     "name": "stdout",
     "output_type": "stream",
     "text": [
      "Epoch 99 Batch 200 Loss 1.2358 Accuracy 0.6764\n"
     ]
    },
    {
     "name": "stdout",
     "output_type": "stream",
     "text": [
      "Epoch 99 Batch 300 Loss 1.2119 Accuracy 0.6765\n"
     ]
    },
    {
     "name": "stdout",
     "output_type": "stream",
     "text": [
      "Epoch 99 Batch 400 Loss 1.1960 Accuracy 0.6767\n"
     ]
    },
    {
     "name": "stdout",
     "output_type": "stream",
     "text": [
      "Epoch 99 Batch 500 Loss 1.1682 Accuracy 0.6769\n"
     ]
    },
    {
     "name": "stdout",
     "output_type": "stream",
     "text": [
      "Epoch 99 Batch 600 Loss 1.1386 Accuracy 0.6771\n"
     ]
    },
    {
     "name": "stdout",
     "output_type": "stream",
     "text": [
      "Epoch 99 Batch 700 Loss 1.1157 Accuracy 0.6773\n"
     ]
    },
    {
     "name": "stdout",
     "output_type": "stream",
     "text": [
      "Epoch 99 Batch 800 Loss 1.0988 Accuracy 0.6775\n"
     ]
    },
    {
     "name": "stdout",
     "output_type": "stream",
     "text": [
      "Epoch 99 Loss 1.0928 Accuracy 0.6776\n",
      "Time taken for 1 epoch: 81.10807085037231 secs\n",
      "\n",
      "Epoch 100 Batch 0 Loss 1.5591 Accuracy 0.6776\n"
     ]
    },
    {
     "name": "stdout",
     "output_type": "stream",
     "text": [
      "Epoch 100 Batch 100 Loss 1.2591 Accuracy 0.6777\n"
     ]
    },
    {
     "name": "stdout",
     "output_type": "stream",
     "text": [
      "Epoch 100 Batch 200 Loss 1.2317 Accuracy 0.6778\n"
     ]
    },
    {
     "name": "stdout",
     "output_type": "stream",
     "text": [
      "Epoch 100 Batch 300 Loss 1.2090 Accuracy 0.6780\n"
     ]
    },
    {
     "name": "stdout",
     "output_type": "stream",
     "text": [
      "Epoch 100 Batch 400 Loss 1.1913 Accuracy 0.6781\n"
     ]
    },
    {
     "name": "stdout",
     "output_type": "stream",
     "text": [
      "Epoch 100 Batch 500 Loss 1.1636 Accuracy 0.6783\n"
     ]
    },
    {
     "name": "stdout",
     "output_type": "stream",
     "text": [
      "Epoch 100 Batch 600 Loss 1.1342 Accuracy 0.6785\n"
     ]
    },
    {
     "name": "stdout",
     "output_type": "stream",
     "text": [
      "Epoch 100 Batch 700 Loss 1.1092 Accuracy 0.6787\n"
     ]
    },
    {
     "name": "stdout",
     "output_type": "stream",
     "text": [
      "Epoch 100 Batch 800 Loss 1.0938 Accuracy 0.6789\n"
     ]
    },
    {
     "name": "stdout",
     "output_type": "stream",
     "text": [
      "Saving checkpoint for epoch 100 at checkpoints/ckpt-20\n",
      "Epoch 100 Loss 1.0864 Accuracy 0.6790\n",
      "Time taken for 1 epoch: 81.8773045539856 secs\n",
      "\n"
     ]
    }
   ],
   "source": [
    "for epoch in range(EPOCHS):\n",
    "    start = time.time()\n",
    "\n",
    "    train_loss.reset_states()\n",
    "  \n",
    "    for (batch, (inp, tar)) in enumerate(dataset):\n",
    "        train_step(inp, tar)\n",
    "    \n",
    "        if batch % 100 == 0:\n",
    "            print(f'Epoch {epoch + 1} Batch {batch} Loss {train_loss.result():.4f} Accuracy {train_accuracy.result():.4f}')\n",
    "      \n",
    "    if (epoch + 1) % 5 == 0:\n",
    "        ckpt_save_path = ckpt_manager.save()\n",
    "        print ('Saving checkpoint for epoch {} at {}'.format(epoch+1, ckpt_save_path))\n",
    "   \n",
    "    print(f'Epoch {epoch + 1} Loss {train_loss.result():.4f} Accuracy {train_accuracy.result():.4f}')\n",
    "    loss_values.append(train_loss.result())\n",
    "    accuracy_values.append(train_accuracy.result())\n",
    "    print ('Time taken for 1 epoch: {} secs\\n'.format(time.time() - start))"
   ]
  },
  {
   "cell_type": "code",
   "execution_count": 35,
   "id": "a0f260b5",
   "metadata": {
    "execution": {
     "iopub.execute_input": "2023-12-09T09:15:18.678613Z",
     "iopub.status.busy": "2023-12-09T09:15:18.678242Z",
     "iopub.status.idle": "2023-12-09T09:15:18.686991Z",
     "shell.execute_reply": "2023-12-09T09:15:18.686152Z"
    },
    "papermill": {
     "duration": 0.093987,
     "end_time": "2023-12-09T09:15:18.688820",
     "exception": false,
     "start_time": "2023-12-09T09:15:18.594833",
     "status": "completed"
    },
    "tags": []
   },
   "outputs": [],
   "source": [
    "def evaluate(input_article):\n",
    "    input_article = article_tokenizer.texts_to_sequences([input_article])\n",
    "    input_article = tf.keras.preprocessing.sequence.pad_sequences(input_article, maxlen=ENCODER_LEN, \n",
    "                                                                   padding='post', truncating='post')\n",
    "\n",
    "    encoder_input = tf.expand_dims(input_article[0], 0)\n",
    "\n",
    "    decoder_input = [summary_tokenizer.word_index['<sos>']]\n",
    "    output = tf.expand_dims(decoder_input, 0)\n",
    "    \n",
    "    for i in range(DECODER_LEN):\n",
    "        enc_padding_mask, combined_mask, dec_padding_mask = generate_masks(encoder_input, output)\n",
    "\n",
    "        predictions, attention_weights = transformer(\n",
    "            encoder_input, \n",
    "            output,\n",
    "            False,\n",
    "            enc_padding_mask,\n",
    "            combined_mask,\n",
    "            dec_padding_mask\n",
    "        )\n",
    "\n",
    "        predictions = predictions[: ,-1:, :]\n",
    "        predicted_id = tf.cast(tf.argmax(predictions, axis=-1), tf.int32)\n",
    "\n",
    "        if predicted_id == summary_tokenizer.word_index['<eos>']:\n",
    "            return tf.squeeze(output, axis=0), attention_weights\n",
    "\n",
    "        output = tf.concat([output, predicted_id], axis=-1)\n",
    "\n",
    "    return tf.squeeze(output, axis=0), attention_weights"
   ]
  },
  {
   "cell_type": "code",
   "execution_count": 36,
   "id": "912d07c5",
   "metadata": {
    "execution": {
     "iopub.execute_input": "2023-12-09T09:15:18.858697Z",
     "iopub.status.busy": "2023-12-09T09:15:18.857806Z",
     "iopub.status.idle": "2023-12-09T09:15:18.863090Z",
     "shell.execute_reply": "2023-12-09T09:15:18.862237Z"
    },
    "papermill": {
     "duration": 0.09418,
     "end_time": "2023-12-09T09:15:18.864957",
     "exception": false,
     "start_time": "2023-12-09T09:15:18.770777",
     "status": "completed"
    },
    "tags": []
   },
   "outputs": [],
   "source": [
    "def summarize(input_article):\n",
    "    summarized = evaluate(input_article=input_article)[0].numpy()\n",
    "    summarized = np.expand_dims(summarized[1:], 0)  \n",
    "    return summary_tokenizer.sequences_to_texts(summarized)[0]"
   ]
  },
  {
   "cell_type": "code",
   "execution_count": 37,
   "id": "d4c96411",
   "metadata": {
    "execution": {
     "iopub.execute_input": "2023-12-09T09:15:19.031828Z",
     "iopub.status.busy": "2023-12-09T09:15:19.031474Z",
     "iopub.status.idle": "2023-12-09T09:15:19.037415Z",
     "shell.execute_reply": "2023-12-09T09:15:19.036522Z"
    },
    "papermill": {
     "duration": 0.092395,
     "end_time": "2023-12-09T09:15:19.039326",
     "exception": false,
     "start_time": "2023-12-09T09:15:18.946931",
     "status": "completed"
    },
    "tags": []
   },
   "outputs": [
    {
     "data": {
      "text/plain": [
       "'<SOS> A new trailer for the upcoming superhero film  Justice League  was released on Saturday. Based on the DC Comics superhero team, the film stars Ben Affleck as  Batman , Gal Gadot as  Wonder Woman , Ezra Miller as  The Flash  and Jason Momoa as  Aquaman . Directed by Zack Snyder, the film is scheduled to release on November 17, 2017. <EOS>'"
      ]
     },
     "execution_count": 37,
     "metadata": {},
     "output_type": "execute_result"
    }
   ],
   "source": [
    "article[5]"
   ]
  },
  {
   "cell_type": "code",
   "execution_count": 38,
   "id": "e360ab80",
   "metadata": {
    "execution": {
     "iopub.execute_input": "2023-12-09T09:15:19.204289Z",
     "iopub.status.busy": "2023-12-09T09:15:19.203930Z",
     "iopub.status.idle": "2023-12-09T09:15:20.443749Z",
     "shell.execute_reply": "2023-12-09T09:15:20.442628Z"
    },
    "papermill": {
     "duration": 1.32494,
     "end_time": "2023-12-09T09:15:20.445825",
     "exception": false,
     "start_time": "2023-12-09T09:15:19.120885",
     "status": "completed"
    },
    "tags": []
   },
   "outputs": [
    {
     "name": "stdout",
     "output_type": "stream",
     "text": [
      "Real Headline :   New trailer of  Justice League  released  \n",
      " Predicted Summary :  new trailer of justice league released\n"
     ]
    }
   ],
   "source": [
    "print(\"Real Headline : \", summary[5][5:-5],\"\\n Predicted Summary : \", summarize(article[5]))"
   ]
  },
  {
   "cell_type": "code",
   "execution_count": 39,
   "id": "ac25b141",
   "metadata": {
    "execution": {
     "iopub.execute_input": "2023-12-09T09:15:20.612511Z",
     "iopub.status.busy": "2023-12-09T09:15:20.611854Z",
     "iopub.status.idle": "2023-12-09T09:15:21.757566Z",
     "shell.execute_reply": "2023-12-09T09:15:21.756646Z"
    },
    "papermill": {
     "duration": 1.230956,
     "end_time": "2023-12-09T09:15:21.759705",
     "exception": false,
     "start_time": "2023-12-09T09:15:20.528749",
     "status": "completed"
    },
    "tags": []
   },
   "outputs": [
    {
     "name": "stdout",
     "output_type": "stream",
     "text": [
      "Real Headline :   Underprivileged kids to fill Wankhede during MI s IPL match  \n",
      "Predicted Summary :  underprivileged kids to reserves like underprivileged kids\n"
     ]
    }
   ],
   "source": [
    "print(\"Real Headline : \", summary[16][5:-5],\"\\nPredicted Summary : \", summarize(article[16]))"
   ]
  },
  {
   "cell_type": "code",
   "execution_count": 40,
   "id": "b2cdc051",
   "metadata": {
    "execution": {
     "iopub.execute_input": "2023-12-09T09:15:21.928538Z",
     "iopub.status.busy": "2023-12-09T09:15:21.927727Z",
     "iopub.status.idle": "2023-12-09T09:15:21.933666Z",
     "shell.execute_reply": "2023-12-09T09:15:21.932787Z"
    },
    "papermill": {
     "duration": 0.092608,
     "end_time": "2023-12-09T09:15:21.935515",
     "exception": false,
     "start_time": "2023-12-09T09:15:21.842907",
     "status": "completed"
    },
    "tags": []
   },
   "outputs": [
    {
     "data": {
      "text/plain": [
       "'<SOS> Uttar Pradesh s Deputy Chief Minister Dinesh Sharma on Saturday said that a transparent system to end cheating in the state board exams will be brought in.  Every department and organisation concerned has been given instructions and I am personally monitoring it,  he added. This comes after class X students were caught mass cheating on camera at a Ballia school. <EOS>'"
      ]
     },
     "execution_count": 40,
     "metadata": {},
     "output_type": "execute_result"
    }
   ],
   "source": [
    "article[23]"
   ]
  },
  {
   "cell_type": "code",
   "execution_count": 41,
   "id": "4518f5db",
   "metadata": {
    "execution": {
     "iopub.execute_input": "2023-12-09T09:15:22.105655Z",
     "iopub.status.busy": "2023-12-09T09:15:22.104833Z",
     "iopub.status.idle": "2023-12-09T09:15:23.720633Z",
     "shell.execute_reply": "2023-12-09T09:15:23.719588Z"
    },
    "papermill": {
     "duration": 1.703097,
     "end_time": "2023-12-09T09:15:23.722928",
     "exception": false,
     "start_time": "2023-12-09T09:15:22.019831",
     "status": "completed"
    },
    "tags": []
   },
   "outputs": [
    {
     "name": "stdout",
     "output_type": "stream",
     "text": [
      "Real Headline :   UP govt assures transparent system to end cheating in exams  \n",
      "Predicted Summary :  up govt says transparent system to end cheating in class\n"
     ]
    }
   ],
   "source": [
    "print(\"Real Headline : \", summary[23][5:-5],\"\\nPredicted Summary : \", summarize(article[23]))"
   ]
  },
  {
   "cell_type": "code",
   "execution_count": 42,
   "id": "06844c76",
   "metadata": {
    "execution": {
     "iopub.execute_input": "2023-12-09T09:15:23.891859Z",
     "iopub.status.busy": "2023-12-09T09:15:23.891132Z",
     "iopub.status.idle": "2023-12-09T09:15:23.900491Z",
     "shell.execute_reply": "2023-12-09T09:15:23.899612Z"
    },
    "papermill": {
     "duration": 0.095378,
     "end_time": "2023-12-09T09:15:23.902265",
     "exception": false,
     "start_time": "2023-12-09T09:15:23.806887",
     "status": "completed"
    },
    "tags": []
   },
   "outputs": [],
   "source": [
    "article = '<SOS>World leaders from more than 190 countries have converged on Geneva for a crucial summit aimed at addressing the growing climate crisis. The Climate Action Summit, organized by the United Nations, is a response to the alarming increase in extreme weather events, rising sea levels, and the urgent need to reduce greenhouse gas emissions.<EOS>'"
   ]
  },
  {
   "cell_type": "code",
   "execution_count": 43,
   "id": "61e448d3",
   "metadata": {
    "execution": {
     "iopub.execute_input": "2023-12-09T09:15:24.073002Z",
     "iopub.status.busy": "2023-12-09T09:15:24.072233Z",
     "iopub.status.idle": "2023-12-09T09:15:25.206714Z",
     "shell.execute_reply": "2023-12-09T09:15:25.205484Z"
    },
    "papermill": {
     "duration": 1.22191,
     "end_time": "2023-12-09T09:15:25.208715",
     "exception": false,
     "start_time": "2023-12-09T09:15:23.986805",
     "status": "completed"
    },
    "tags": []
   },
   "outputs": [
    {
     "name": "stdout",
     "output_type": "stream",
     "text": [
      "world s un candidates for climate change\n"
     ]
    }
   ],
   "source": [
    "print(summarize(article))"
   ]
  },
  {
   "cell_type": "code",
   "execution_count": 44,
   "id": "bca6a1b8",
   "metadata": {
    "execution": {
     "iopub.execute_input": "2023-12-09T09:15:25.376187Z",
     "iopub.status.busy": "2023-12-09T09:15:25.375565Z",
     "iopub.status.idle": "2023-12-09T09:15:39.822588Z",
     "shell.execute_reply": "2023-12-09T09:15:39.821455Z"
    },
    "papermill": {
     "duration": 14.532554,
     "end_time": "2023-12-09T09:15:39.824999",
     "exception": false,
     "start_time": "2023-12-09T09:15:25.292445",
     "status": "completed"
    },
    "tags": []
   },
   "outputs": [
    {
     "name": "stdout",
     "output_type": "stream",
     "text": [
      "Collecting anvil-uplink\r\n"
     ]
    },
    {
     "name": "stdout",
     "output_type": "stream",
     "text": [
      "  Downloading anvil_uplink-0.4.2-py2.py3-none-any.whl (90 kB)\r\n",
      "\u001b[?25l"
     ]
    },
    {
     "name": "stdout",
     "output_type": "stream",
     "text": [
      "     \u001b[90m━━━━━━━━━━━━━━━━━━━━━━━━━━━━━━━━━━━━━━━━\u001b[0m \u001b[32m0.0/90.1 kB\u001b[0m \u001b[31m?\u001b[0m eta \u001b[36m-:--:--\u001b[0m\r",
      "\u001b[2K     \u001b[90m━━━━━━━━━━━━━━━━━━━━━━━━━━━━━━━━━━━━━━━━\u001b[0m \u001b[32m90.1/90.1 kB\u001b[0m \u001b[31m2.9 MB/s\u001b[0m eta \u001b[36m0:00:00\u001b[0m\r\n",
      "\u001b[?25h"
     ]
    },
    {
     "name": "stdout",
     "output_type": "stream",
     "text": [
      "Collecting argparse (from anvil-uplink)\r\n",
      "  Downloading argparse-1.4.0-py2.py3-none-any.whl (23 kB)\r\n"
     ]
    },
    {
     "name": "stdout",
     "output_type": "stream",
     "text": [
      "Requirement already satisfied: future in /opt/conda/lib/python3.10/site-packages (from anvil-uplink) (0.18.3)\r\n",
      "Requirement already satisfied: six in /opt/conda/lib/python3.10/site-packages (from anvil-uplink) (1.16.0)\r\n",
      "Collecting ws4py (from anvil-uplink)\r\n"
     ]
    },
    {
     "name": "stdout",
     "output_type": "stream",
     "text": [
      "  Downloading ws4py-0.5.1.tar.gz (51 kB)\r\n",
      "\u001b[?25l     \u001b[90m━━━━━━━━━━━━━━━━━━━━━━━━━━━━━━━━━━━━━━━━\u001b[0m \u001b[32m0.0/51.4 kB\u001b[0m \u001b[31m?\u001b[0m eta \u001b[36m-:--:--\u001b[0m\r",
      "\u001b[2K     \u001b[90m━━━━━━━━━━━━━━━━━━━━━━━━━━━━━━━━━━━━━━━━\u001b[0m \u001b[32m51.4/51.4 kB\u001b[0m \u001b[31m4.8 MB/s\u001b[0m eta \u001b[36m0:00:00\u001b[0m\r\n",
      "\u001b[?25h"
     ]
    },
    {
     "name": "stdout",
     "output_type": "stream",
     "text": [
      "  Preparing metadata (setup.py) ... \u001b[?25l-"
     ]
    },
    {
     "name": "stdout",
     "output_type": "stream",
     "text": [
      "\b \b\\"
     ]
    },
    {
     "name": "stdout",
     "output_type": "stream",
     "text": [
      "\b \bdone\r\n",
      "\u001b[?25hBuilding wheels for collected packages: ws4py\r\n"
     ]
    },
    {
     "name": "stdout",
     "output_type": "stream",
     "text": [
      "  Building wheel for ws4py (setup.py) ... \u001b[?25l-"
     ]
    },
    {
     "name": "stdout",
     "output_type": "stream",
     "text": [
      "\b \b\\"
     ]
    },
    {
     "name": "stdout",
     "output_type": "stream",
     "text": [
      "\b \b|"
     ]
    },
    {
     "name": "stdout",
     "output_type": "stream",
     "text": [
      "\b \bdone\r\n",
      "\u001b[?25h  Created wheel for ws4py: filename=ws4py-0.5.1-py3-none-any.whl size=45228 sha256=b7fb648f094494682aa1cb697b2fb3928a36267e17cc7359b88f1fe83493335e\r\n",
      "  Stored in directory: /root/.cache/pip/wheels/2e/7c/ad/d9c746276bf024d44296340869fcb169f1e5d80fb147351a57\r\n",
      "Successfully built ws4py\r\n"
     ]
    },
    {
     "name": "stdout",
     "output_type": "stream",
     "text": [
      "Installing collected packages: ws4py, argparse, anvil-uplink\r\n"
     ]
    },
    {
     "name": "stdout",
     "output_type": "stream",
     "text": [
      "Successfully installed anvil-uplink-0.4.2 argparse-1.4.0 ws4py-0.5.1\r\n"
     ]
    }
   ],
   "source": [
    "!pip install anvil-uplink"
   ]
  },
  {
   "cell_type": "code",
   "execution_count": 45,
   "id": "d3c8b74b",
   "metadata": {
    "execution": {
     "iopub.execute_input": "2023-12-09T09:15:39.995303Z",
     "iopub.status.busy": "2023-12-09T09:15:39.994895Z",
     "iopub.status.idle": "2023-12-09T09:15:40.013042Z",
     "shell.execute_reply": "2023-12-09T09:15:40.012331Z"
    },
    "papermill": {
     "duration": 0.105645,
     "end_time": "2023-12-09T09:15:40.014988",
     "exception": false,
     "start_time": "2023-12-09T09:15:39.909343",
     "status": "completed"
    },
    "tags": []
   },
   "outputs": [],
   "source": [
    "import anvil.server"
   ]
  },
  {
   "cell_type": "code",
   "execution_count": 46,
   "id": "73844c3d",
   "metadata": {
    "execution": {
     "iopub.execute_input": "2023-12-09T09:15:40.186925Z",
     "iopub.status.busy": "2023-12-09T09:15:40.185942Z",
     "iopub.status.idle": "2023-12-09T09:15:40.603015Z",
     "shell.execute_reply": "2023-12-09T09:15:40.601991Z"
    },
    "papermill": {
     "duration": 0.504727,
     "end_time": "2023-12-09T09:15:40.605199",
     "exception": false,
     "start_time": "2023-12-09T09:15:40.100472",
     "status": "completed"
    },
    "tags": []
   },
   "outputs": [
    {
     "name": "stdout",
     "output_type": "stream",
     "text": [
      "Connecting to wss://anvil.works/uplink\n"
     ]
    },
    {
     "name": "stdout",
     "output_type": "stream",
     "text": [
      "Anvil websocket open\n",
      "Connected to \"Default Environment\" as SERVER\n"
     ]
    }
   ],
   "source": [
    "anvil.server.connect('server_E6GTWKERT6XAMNEILTJ2SBMD-3Y7OOUTRRIMZ3TXP')"
   ]
  },
  {
   "cell_type": "code",
   "execution_count": 47,
   "id": "6142230a",
   "metadata": {
    "execution": {
     "iopub.execute_input": "2023-12-09T09:15:40.776601Z",
     "iopub.status.busy": "2023-12-09T09:15:40.776227Z",
     "iopub.status.idle": "2023-12-09T09:15:40.781332Z",
     "shell.execute_reply": "2023-12-09T09:15:40.780422Z"
    },
    "papermill": {
     "duration": 0.093175,
     "end_time": "2023-12-09T09:15:40.783165",
     "exception": false,
     "start_time": "2023-12-09T09:15:40.689990",
     "status": "completed"
    },
    "tags": []
   },
   "outputs": [],
   "source": [
    "@anvil.server.callable\n",
    "def predict_output(input_article):\n",
    "    return summarize(input_article)"
   ]
  },
  {
   "cell_type": "code",
   "execution_count": 48,
   "id": "dc9d1271",
   "metadata": {
    "execution": {
     "iopub.execute_input": "2023-12-09T09:15:40.952692Z",
     "iopub.status.busy": "2023-12-09T09:15:40.952085Z",
     "iopub.status.idle": "2023-12-09T09:15:41.244221Z",
     "shell.execute_reply": "2023-12-09T09:15:41.243304Z"
    },
    "papermill": {
     "duration": 0.379425,
     "end_time": "2023-12-09T09:15:41.246064",
     "exception": false,
     "start_time": "2023-12-09T09:15:40.866639",
     "status": "completed"
    },
    "tags": []
   },
   "outputs": [
    {
     "data": {
      "image/png": "[encoded data removed]",
      "text/plain": [
       "<Figure size 640x480 with 1 Axes>"
      ]
     },
     "metadata": {},
     "output_type": "display_data"
    }
   ],
   "source": [
    "plt.plot(range(EPOCHS), loss_values, label='Loss')\n",
    "plt.xlabel('Epochs')\n",
    "plt.ylabel('Loss')\n",
    "plt.title('Loss Curve')\n",
    "\n",
    "# Adding a legend\n",
    "plt.legend()\n",
    "\n",
    "# Display the plot\n",
    "plt.show()\n"
   ]
  },
  {
   "cell_type": "code",
   "execution_count": 49,
   "id": "2c34c519",
   "metadata": {
    "execution": {
     "iopub.execute_input": "2023-12-09T09:15:41.416841Z",
     "iopub.status.busy": "2023-12-09T09:15:41.416264Z",
     "iopub.status.idle": "2023-12-09T09:15:41.695697Z",
     "shell.execute_reply": "2023-12-09T09:15:41.694722Z"
    },
    "papermill": {
     "duration": 0.366826,
     "end_time": "2023-12-09T09:15:41.697742",
     "exception": false,
     "start_time": "2023-12-09T09:15:41.330916",
     "status": "completed"
    },
    "tags": []
   },
   "outputs": [
    {
     "data": {
      "image/png": "[encoded data removed]",
      "text/plain": [
       "<Figure size 640x480 with 1 Axes>"
      ]
     },
     "metadata": {},
     "output_type": "display_data"
    }
   ],
   "source": [
    "plt.plot(range(EPOCHS), accuracy_values, label='Accuracy')\n",
    "plt.xlabel('Epochs')\n",
    "plt.ylabel('Acuuracy')\n",
    "plt.title('Accuracy Curve')\n",
    "\n",
    "# Adding a legend\n",
    "plt.legend()\n",
    "\n",
    "# Display the plot\n",
    "plt.show()\n"
   ]
  },
  {
   "cell_type": "code",
   "execution_count": null,
   "id": "0cd6be59",
   "metadata": {
    "execution": {
     "iopub.execute_input": "2023-12-09T06:44:45.167240Z",
     "iopub.status.busy": "2023-12-09T06:44:45.166907Z",
     "iopub.status.idle": "2023-12-09T06:44:56.137693Z",
     "shell.execute_reply": "2023-12-09T06:44:56.136579Z",
     "shell.execute_reply.started": "2023-12-09T06:44:45.167209Z"
    },
    "papermill": {
     "duration": null,
     "end_time": null,
     "exception": false,
     "start_time": "2023-12-09T09:15:41.783340",
     "status": "running"
    },
    "tags": []
   },
   "outputs": [],
   "source": [
    "anvil.server.wait_forever()"
   ]
  }
 ],
 "metadata": {
  "colab": {
   "provenance": []
  },
  "kaggle": {
   "accelerator": "gpu",
   "dataSources": [
    {
     "datasetId": 3942914,
     "sourceId": 6860622,
     "sourceType": "datasetVersion"
    },
    {
     "datasetId": 3943354,
     "sourceId": 6861294,
     "sourceType": "datasetVersion"
    },
    {
     "datasetId": 4101942,
     "sourceId": 7113370,
     "sourceType": "datasetVersion"
    }
   ],
   "dockerImageVersionId": 30616,
   "isGpuEnabled": true,
   "isInternetEnabled": true,
   "language": "python",
   "sourceType": "notebook"
  },
  "kernelspec": {
   "display_name": "Python 3",
   "language": "python",
   "name": "python3"
  },
  "language_info": {
   "codemirror_mode": {
    "name": "ipython",
    "version": 3
   },
   "file_extension": ".py",
   "mimetype": "text/x-python",
   "name": "python",
   "nbconvert_exporter": "python",
   "pygments_lexer": "ipython3",
   "version": "3.10.12"
  },
  "papermill": {
   "default_parameters": {},
   "duration": null,
   "end_time": null,
   "environment_variables": {},
   "exception": null,
   "input_path": "__notebook__.ipynb",
   "output_path": "__notebook__.ipynb",
   "parameters": {},
   "start_time": "2023-12-09T06:57:36.118592",
   "version": "2.4.0"
  }
 },
 "nbformat": 4,
 "nbformat_minor": 5
}